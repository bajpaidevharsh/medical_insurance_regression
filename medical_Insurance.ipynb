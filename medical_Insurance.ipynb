{
  "nbformat": 4,
  "nbformat_minor": 0,
  "metadata": {
    "colab": {
      "provenance": [],
      "authorship_tag": "ABX9TyO3qTYV9wkgLC9JCYI3HuWO",
      "include_colab_link": true
    },
    "kernelspec": {
      "name": "python3",
      "display_name": "Python 3"
    },
    "language_info": {
      "name": "python"
    }
  },
  "cells": [
    {
      "cell_type": "markdown",
      "metadata": {
        "id": "view-in-github",
        "colab_type": "text"
      },
      "source": [
        "<a href=\"https://colab.research.google.com/github/bajpaidevharsh/medical_insurance_regression/blob/main/medical_Insurance.ipynb\" target=\"_parent\"><img src=\"https://colab.research.google.com/assets/colab-badge.svg\" alt=\"Open In Colab\"/></a>"
      ]
    },
    {
      "cell_type": "code",
      "execution_count": 4,
      "metadata": {
        "id": "QrpZWHOwyrGt"
      },
      "outputs": [],
      "source": [
        "import pandas\n",
        "import numpy\n",
        "import matplotlib.pyplot"
      ]
    },
    {
      "cell_type": "code",
      "source": [
        "dev=pandas.read_csv('/content/insurance.csv')\n",
        "dev.head(7)"
      ],
      "metadata": {
        "colab": {
          "base_uri": "https://localhost:8080/",
          "height": 269
        },
        "id": "asOgzclEzFM5",
        "outputId": "44a55d81-0b75-4fe8-e21a-7648d748f772"
      },
      "execution_count": 5,
      "outputs": [
        {
          "output_type": "execute_result",
          "data": {
            "text/plain": [
              "   age     sex     bmi  children smoker     region      charges\n",
              "0   19  female  27.900         0    yes  southwest  16884.92400\n",
              "1   18    male  33.770         1     no  southeast   1725.55230\n",
              "2   28    male  33.000         3     no  southeast   4449.46200\n",
              "3   33    male  22.705         0     no  northwest  21984.47061\n",
              "4   32    male  28.880         0     no  northwest   3866.85520\n",
              "5   31  female  25.740         0     no  southeast   3756.62160\n",
              "6   46  female  33.440         1     no  southeast   8240.58960"
            ],
            "text/html": [
              "\n",
              "  <div id=\"df-50e25984-80fd-4c36-85c9-44579a932fa3\" class=\"colab-df-container\">\n",
              "    <div>\n",
              "<style scoped>\n",
              "    .dataframe tbody tr th:only-of-type {\n",
              "        vertical-align: middle;\n",
              "    }\n",
              "\n",
              "    .dataframe tbody tr th {\n",
              "        vertical-align: top;\n",
              "    }\n",
              "\n",
              "    .dataframe thead th {\n",
              "        text-align: right;\n",
              "    }\n",
              "</style>\n",
              "<table border=\"1\" class=\"dataframe\">\n",
              "  <thead>\n",
              "    <tr style=\"text-align: right;\">\n",
              "      <th></th>\n",
              "      <th>age</th>\n",
              "      <th>sex</th>\n",
              "      <th>bmi</th>\n",
              "      <th>children</th>\n",
              "      <th>smoker</th>\n",
              "      <th>region</th>\n",
              "      <th>charges</th>\n",
              "    </tr>\n",
              "  </thead>\n",
              "  <tbody>\n",
              "    <tr>\n",
              "      <th>0</th>\n",
              "      <td>19</td>\n",
              "      <td>female</td>\n",
              "      <td>27.900</td>\n",
              "      <td>0</td>\n",
              "      <td>yes</td>\n",
              "      <td>southwest</td>\n",
              "      <td>16884.92400</td>\n",
              "    </tr>\n",
              "    <tr>\n",
              "      <th>1</th>\n",
              "      <td>18</td>\n",
              "      <td>male</td>\n",
              "      <td>33.770</td>\n",
              "      <td>1</td>\n",
              "      <td>no</td>\n",
              "      <td>southeast</td>\n",
              "      <td>1725.55230</td>\n",
              "    </tr>\n",
              "    <tr>\n",
              "      <th>2</th>\n",
              "      <td>28</td>\n",
              "      <td>male</td>\n",
              "      <td>33.000</td>\n",
              "      <td>3</td>\n",
              "      <td>no</td>\n",
              "      <td>southeast</td>\n",
              "      <td>4449.46200</td>\n",
              "    </tr>\n",
              "    <tr>\n",
              "      <th>3</th>\n",
              "      <td>33</td>\n",
              "      <td>male</td>\n",
              "      <td>22.705</td>\n",
              "      <td>0</td>\n",
              "      <td>no</td>\n",
              "      <td>northwest</td>\n",
              "      <td>21984.47061</td>\n",
              "    </tr>\n",
              "    <tr>\n",
              "      <th>4</th>\n",
              "      <td>32</td>\n",
              "      <td>male</td>\n",
              "      <td>28.880</td>\n",
              "      <td>0</td>\n",
              "      <td>no</td>\n",
              "      <td>northwest</td>\n",
              "      <td>3866.85520</td>\n",
              "    </tr>\n",
              "    <tr>\n",
              "      <th>5</th>\n",
              "      <td>31</td>\n",
              "      <td>female</td>\n",
              "      <td>25.740</td>\n",
              "      <td>0</td>\n",
              "      <td>no</td>\n",
              "      <td>southeast</td>\n",
              "      <td>3756.62160</td>\n",
              "    </tr>\n",
              "    <tr>\n",
              "      <th>6</th>\n",
              "      <td>46</td>\n",
              "      <td>female</td>\n",
              "      <td>33.440</td>\n",
              "      <td>1</td>\n",
              "      <td>no</td>\n",
              "      <td>southeast</td>\n",
              "      <td>8240.58960</td>\n",
              "    </tr>\n",
              "  </tbody>\n",
              "</table>\n",
              "</div>\n",
              "    <div class=\"colab-df-buttons\">\n",
              "\n",
              "  <div class=\"colab-df-container\">\n",
              "    <button class=\"colab-df-convert\" onclick=\"convertToInteractive('df-50e25984-80fd-4c36-85c9-44579a932fa3')\"\n",
              "            title=\"Convert this dataframe to an interactive table.\"\n",
              "            style=\"display:none;\">\n",
              "\n",
              "  <svg xmlns=\"http://www.w3.org/2000/svg\" height=\"24px\" viewBox=\"0 -960 960 960\">\n",
              "    <path d=\"M120-120v-720h720v720H120Zm60-500h600v-160H180v160Zm220 220h160v-160H400v160Zm0 220h160v-160H400v160ZM180-400h160v-160H180v160Zm440 0h160v-160H620v160ZM180-180h160v-160H180v160Zm440 0h160v-160H620v160Z\"/>\n",
              "  </svg>\n",
              "    </button>\n",
              "\n",
              "  <style>\n",
              "    .colab-df-container {\n",
              "      display:flex;\n",
              "      gap: 12px;\n",
              "    }\n",
              "\n",
              "    .colab-df-convert {\n",
              "      background-color: #E8F0FE;\n",
              "      border: none;\n",
              "      border-radius: 50%;\n",
              "      cursor: pointer;\n",
              "      display: none;\n",
              "      fill: #1967D2;\n",
              "      height: 32px;\n",
              "      padding: 0 0 0 0;\n",
              "      width: 32px;\n",
              "    }\n",
              "\n",
              "    .colab-df-convert:hover {\n",
              "      background-color: #E2EBFA;\n",
              "      box-shadow: 0px 1px 2px rgba(60, 64, 67, 0.3), 0px 1px 3px 1px rgba(60, 64, 67, 0.15);\n",
              "      fill: #174EA6;\n",
              "    }\n",
              "\n",
              "    .colab-df-buttons div {\n",
              "      margin-bottom: 4px;\n",
              "    }\n",
              "\n",
              "    [theme=dark] .colab-df-convert {\n",
              "      background-color: #3B4455;\n",
              "      fill: #D2E3FC;\n",
              "    }\n",
              "\n",
              "    [theme=dark] .colab-df-convert:hover {\n",
              "      background-color: #434B5C;\n",
              "      box-shadow: 0px 1px 3px 1px rgba(0, 0, 0, 0.15);\n",
              "      filter: drop-shadow(0px 1px 2px rgba(0, 0, 0, 0.3));\n",
              "      fill: #FFFFFF;\n",
              "    }\n",
              "  </style>\n",
              "\n",
              "    <script>\n",
              "      const buttonEl =\n",
              "        document.querySelector('#df-50e25984-80fd-4c36-85c9-44579a932fa3 button.colab-df-convert');\n",
              "      buttonEl.style.display =\n",
              "        google.colab.kernel.accessAllowed ? 'block' : 'none';\n",
              "\n",
              "      async function convertToInteractive(key) {\n",
              "        const element = document.querySelector('#df-50e25984-80fd-4c36-85c9-44579a932fa3');\n",
              "        const dataTable =\n",
              "          await google.colab.kernel.invokeFunction('convertToInteractive',\n",
              "                                                    [key], {});\n",
              "        if (!dataTable) return;\n",
              "\n",
              "        const docLinkHtml = 'Like what you see? Visit the ' +\n",
              "          '<a target=\"_blank\" href=https://colab.research.google.com/notebooks/data_table.ipynb>data table notebook</a>'\n",
              "          + ' to learn more about interactive tables.';\n",
              "        element.innerHTML = '';\n",
              "        dataTable['output_type'] = 'display_data';\n",
              "        await google.colab.output.renderOutput(dataTable, element);\n",
              "        const docLink = document.createElement('div');\n",
              "        docLink.innerHTML = docLinkHtml;\n",
              "        element.appendChild(docLink);\n",
              "      }\n",
              "    </script>\n",
              "  </div>\n",
              "\n",
              "\n",
              "<div id=\"df-7fb56798-477d-4016-bd6b-120d883d0c3b\">\n",
              "  <button class=\"colab-df-quickchart\" onclick=\"quickchart('df-7fb56798-477d-4016-bd6b-120d883d0c3b')\"\n",
              "            title=\"Suggest charts\"\n",
              "            style=\"display:none;\">\n",
              "\n",
              "<svg xmlns=\"http://www.w3.org/2000/svg\" height=\"24px\"viewBox=\"0 0 24 24\"\n",
              "     width=\"24px\">\n",
              "    <g>\n",
              "        <path d=\"M19 3H5c-1.1 0-2 .9-2 2v14c0 1.1.9 2 2 2h14c1.1 0 2-.9 2-2V5c0-1.1-.9-2-2-2zM9 17H7v-7h2v7zm4 0h-2V7h2v10zm4 0h-2v-4h2v4z\"/>\n",
              "    </g>\n",
              "</svg>\n",
              "  </button>\n",
              "\n",
              "<style>\n",
              "  .colab-df-quickchart {\n",
              "      --bg-color: #E8F0FE;\n",
              "      --fill-color: #1967D2;\n",
              "      --hover-bg-color: #E2EBFA;\n",
              "      --hover-fill-color: #174EA6;\n",
              "      --disabled-fill-color: #AAA;\n",
              "      --disabled-bg-color: #DDD;\n",
              "  }\n",
              "\n",
              "  [theme=dark] .colab-df-quickchart {\n",
              "      --bg-color: #3B4455;\n",
              "      --fill-color: #D2E3FC;\n",
              "      --hover-bg-color: #434B5C;\n",
              "      --hover-fill-color: #FFFFFF;\n",
              "      --disabled-bg-color: #3B4455;\n",
              "      --disabled-fill-color: #666;\n",
              "  }\n",
              "\n",
              "  .colab-df-quickchart {\n",
              "    background-color: var(--bg-color);\n",
              "    border: none;\n",
              "    border-radius: 50%;\n",
              "    cursor: pointer;\n",
              "    display: none;\n",
              "    fill: var(--fill-color);\n",
              "    height: 32px;\n",
              "    padding: 0;\n",
              "    width: 32px;\n",
              "  }\n",
              "\n",
              "  .colab-df-quickchart:hover {\n",
              "    background-color: var(--hover-bg-color);\n",
              "    box-shadow: 0 1px 2px rgba(60, 64, 67, 0.3), 0 1px 3px 1px rgba(60, 64, 67, 0.15);\n",
              "    fill: var(--button-hover-fill-color);\n",
              "  }\n",
              "\n",
              "  .colab-df-quickchart-complete:disabled,\n",
              "  .colab-df-quickchart-complete:disabled:hover {\n",
              "    background-color: var(--disabled-bg-color);\n",
              "    fill: var(--disabled-fill-color);\n",
              "    box-shadow: none;\n",
              "  }\n",
              "\n",
              "  .colab-df-spinner {\n",
              "    border: 2px solid var(--fill-color);\n",
              "    border-color: transparent;\n",
              "    border-bottom-color: var(--fill-color);\n",
              "    animation:\n",
              "      spin 1s steps(1) infinite;\n",
              "  }\n",
              "\n",
              "  @keyframes spin {\n",
              "    0% {\n",
              "      border-color: transparent;\n",
              "      border-bottom-color: var(--fill-color);\n",
              "      border-left-color: var(--fill-color);\n",
              "    }\n",
              "    20% {\n",
              "      border-color: transparent;\n",
              "      border-left-color: var(--fill-color);\n",
              "      border-top-color: var(--fill-color);\n",
              "    }\n",
              "    30% {\n",
              "      border-color: transparent;\n",
              "      border-left-color: var(--fill-color);\n",
              "      border-top-color: var(--fill-color);\n",
              "      border-right-color: var(--fill-color);\n",
              "    }\n",
              "    40% {\n",
              "      border-color: transparent;\n",
              "      border-right-color: var(--fill-color);\n",
              "      border-top-color: var(--fill-color);\n",
              "    }\n",
              "    60% {\n",
              "      border-color: transparent;\n",
              "      border-right-color: var(--fill-color);\n",
              "    }\n",
              "    80% {\n",
              "      border-color: transparent;\n",
              "      border-right-color: var(--fill-color);\n",
              "      border-bottom-color: var(--fill-color);\n",
              "    }\n",
              "    90% {\n",
              "      border-color: transparent;\n",
              "      border-bottom-color: var(--fill-color);\n",
              "    }\n",
              "  }\n",
              "</style>\n",
              "\n",
              "  <script>\n",
              "    async function quickchart(key) {\n",
              "      const quickchartButtonEl =\n",
              "        document.querySelector('#' + key + ' button');\n",
              "      quickchartButtonEl.disabled = true;  // To prevent multiple clicks.\n",
              "      quickchartButtonEl.classList.add('colab-df-spinner');\n",
              "      try {\n",
              "        const charts = await google.colab.kernel.invokeFunction(\n",
              "            'suggestCharts', [key], {});\n",
              "      } catch (error) {\n",
              "        console.error('Error during call to suggestCharts:', error);\n",
              "      }\n",
              "      quickchartButtonEl.classList.remove('colab-df-spinner');\n",
              "      quickchartButtonEl.classList.add('colab-df-quickchart-complete');\n",
              "    }\n",
              "    (() => {\n",
              "      let quickchartButtonEl =\n",
              "        document.querySelector('#df-7fb56798-477d-4016-bd6b-120d883d0c3b button');\n",
              "      quickchartButtonEl.style.display =\n",
              "        google.colab.kernel.accessAllowed ? 'block' : 'none';\n",
              "    })();\n",
              "  </script>\n",
              "</div>\n",
              "\n",
              "    </div>\n",
              "  </div>\n"
            ],
            "application/vnd.google.colaboratory.intrinsic+json": {
              "type": "dataframe",
              "variable_name": "dev",
              "summary": "{\n  \"name\": \"dev\",\n  \"rows\": 1338,\n  \"fields\": [\n    {\n      \"column\": \"age\",\n      \"properties\": {\n        \"dtype\": \"number\",\n        \"std\": 14,\n        \"min\": 18,\n        \"max\": 64,\n        \"num_unique_values\": 47,\n        \"samples\": [\n          21,\n          45,\n          36\n        ],\n        \"semantic_type\": \"\",\n        \"description\": \"\"\n      }\n    },\n    {\n      \"column\": \"sex\",\n      \"properties\": {\n        \"dtype\": \"category\",\n        \"num_unique_values\": 2,\n        \"samples\": [\n          \"male\",\n          \"female\"\n        ],\n        \"semantic_type\": \"\",\n        \"description\": \"\"\n      }\n    },\n    {\n      \"column\": \"bmi\",\n      \"properties\": {\n        \"dtype\": \"number\",\n        \"std\": 6.098186911679014,\n        \"min\": 15.96,\n        \"max\": 53.13,\n        \"num_unique_values\": 548,\n        \"samples\": [\n          23.18,\n          26.885\n        ],\n        \"semantic_type\": \"\",\n        \"description\": \"\"\n      }\n    },\n    {\n      \"column\": \"children\",\n      \"properties\": {\n        \"dtype\": \"number\",\n        \"std\": 1,\n        \"min\": 0,\n        \"max\": 5,\n        \"num_unique_values\": 6,\n        \"samples\": [\n          0,\n          1\n        ],\n        \"semantic_type\": \"\",\n        \"description\": \"\"\n      }\n    },\n    {\n      \"column\": \"smoker\",\n      \"properties\": {\n        \"dtype\": \"category\",\n        \"num_unique_values\": 2,\n        \"samples\": [\n          \"no\",\n          \"yes\"\n        ],\n        \"semantic_type\": \"\",\n        \"description\": \"\"\n      }\n    },\n    {\n      \"column\": \"region\",\n      \"properties\": {\n        \"dtype\": \"category\",\n        \"num_unique_values\": 4,\n        \"samples\": [\n          \"southeast\",\n          \"northeast\"\n        ],\n        \"semantic_type\": \"\",\n        \"description\": \"\"\n      }\n    },\n    {\n      \"column\": \"charges\",\n      \"properties\": {\n        \"dtype\": \"number\",\n        \"std\": 12110.011236694001,\n        \"min\": 1121.8739,\n        \"max\": 63770.42801,\n        \"num_unique_values\": 1337,\n        \"samples\": [\n          8688.85885,\n          5708.867\n        ],\n        \"semantic_type\": \"\",\n        \"description\": \"\"\n      }\n    }\n  ]\n}"
            }
          },
          "metadata": {},
          "execution_count": 5
        }
      ]
    },
    {
      "source": [],
      "cell_type": "code",
      "metadata": {
        "id": "9vqZ_mlL4OIG"
      },
      "execution_count": 5,
      "outputs": []
    },
    {
      "cell_type": "code",
      "source": [
        " dev.describe()"
      ],
      "metadata": {
        "colab": {
          "base_uri": "https://localhost:8080/",
          "height": 300
        },
        "id": "QyO1udIgzUQI",
        "outputId": "a0a0307f-0a8b-4587-ef58-4ab5d4570835"
      },
      "execution_count": 6,
      "outputs": [
        {
          "output_type": "execute_result",
          "data": {
            "text/plain": [
              "               age          bmi     children       charges\n",
              "count  1338.000000  1338.000000  1338.000000   1338.000000\n",
              "mean     39.207025    30.663397     1.094918  13270.422265\n",
              "std      14.049960     6.098187     1.205493  12110.011237\n",
              "min      18.000000    15.960000     0.000000   1121.873900\n",
              "25%      27.000000    26.296250     0.000000   4740.287150\n",
              "50%      39.000000    30.400000     1.000000   9382.033000\n",
              "75%      51.000000    34.693750     2.000000  16639.912515\n",
              "max      64.000000    53.130000     5.000000  63770.428010"
            ],
            "text/html": [
              "\n",
              "  <div id=\"df-9cb40c11-f085-416e-a861-0428186d42b8\" class=\"colab-df-container\">\n",
              "    <div>\n",
              "<style scoped>\n",
              "    .dataframe tbody tr th:only-of-type {\n",
              "        vertical-align: middle;\n",
              "    }\n",
              "\n",
              "    .dataframe tbody tr th {\n",
              "        vertical-align: top;\n",
              "    }\n",
              "\n",
              "    .dataframe thead th {\n",
              "        text-align: right;\n",
              "    }\n",
              "</style>\n",
              "<table border=\"1\" class=\"dataframe\">\n",
              "  <thead>\n",
              "    <tr style=\"text-align: right;\">\n",
              "      <th></th>\n",
              "      <th>age</th>\n",
              "      <th>bmi</th>\n",
              "      <th>children</th>\n",
              "      <th>charges</th>\n",
              "    </tr>\n",
              "  </thead>\n",
              "  <tbody>\n",
              "    <tr>\n",
              "      <th>count</th>\n",
              "      <td>1338.000000</td>\n",
              "      <td>1338.000000</td>\n",
              "      <td>1338.000000</td>\n",
              "      <td>1338.000000</td>\n",
              "    </tr>\n",
              "    <tr>\n",
              "      <th>mean</th>\n",
              "      <td>39.207025</td>\n",
              "      <td>30.663397</td>\n",
              "      <td>1.094918</td>\n",
              "      <td>13270.422265</td>\n",
              "    </tr>\n",
              "    <tr>\n",
              "      <th>std</th>\n",
              "      <td>14.049960</td>\n",
              "      <td>6.098187</td>\n",
              "      <td>1.205493</td>\n",
              "      <td>12110.011237</td>\n",
              "    </tr>\n",
              "    <tr>\n",
              "      <th>min</th>\n",
              "      <td>18.000000</td>\n",
              "      <td>15.960000</td>\n",
              "      <td>0.000000</td>\n",
              "      <td>1121.873900</td>\n",
              "    </tr>\n",
              "    <tr>\n",
              "      <th>25%</th>\n",
              "      <td>27.000000</td>\n",
              "      <td>26.296250</td>\n",
              "      <td>0.000000</td>\n",
              "      <td>4740.287150</td>\n",
              "    </tr>\n",
              "    <tr>\n",
              "      <th>50%</th>\n",
              "      <td>39.000000</td>\n",
              "      <td>30.400000</td>\n",
              "      <td>1.000000</td>\n",
              "      <td>9382.033000</td>\n",
              "    </tr>\n",
              "    <tr>\n",
              "      <th>75%</th>\n",
              "      <td>51.000000</td>\n",
              "      <td>34.693750</td>\n",
              "      <td>2.000000</td>\n",
              "      <td>16639.912515</td>\n",
              "    </tr>\n",
              "    <tr>\n",
              "      <th>max</th>\n",
              "      <td>64.000000</td>\n",
              "      <td>53.130000</td>\n",
              "      <td>5.000000</td>\n",
              "      <td>63770.428010</td>\n",
              "    </tr>\n",
              "  </tbody>\n",
              "</table>\n",
              "</div>\n",
              "    <div class=\"colab-df-buttons\">\n",
              "\n",
              "  <div class=\"colab-df-container\">\n",
              "    <button class=\"colab-df-convert\" onclick=\"convertToInteractive('df-9cb40c11-f085-416e-a861-0428186d42b8')\"\n",
              "            title=\"Convert this dataframe to an interactive table.\"\n",
              "            style=\"display:none;\">\n",
              "\n",
              "  <svg xmlns=\"http://www.w3.org/2000/svg\" height=\"24px\" viewBox=\"0 -960 960 960\">\n",
              "    <path d=\"M120-120v-720h720v720H120Zm60-500h600v-160H180v160Zm220 220h160v-160H400v160Zm0 220h160v-160H400v160ZM180-400h160v-160H180v160Zm440 0h160v-160H620v160ZM180-180h160v-160H180v160Zm440 0h160v-160H620v160Z\"/>\n",
              "  </svg>\n",
              "    </button>\n",
              "\n",
              "  <style>\n",
              "    .colab-df-container {\n",
              "      display:flex;\n",
              "      gap: 12px;\n",
              "    }\n",
              "\n",
              "    .colab-df-convert {\n",
              "      background-color: #E8F0FE;\n",
              "      border: none;\n",
              "      border-radius: 50%;\n",
              "      cursor: pointer;\n",
              "      display: none;\n",
              "      fill: #1967D2;\n",
              "      height: 32px;\n",
              "      padding: 0 0 0 0;\n",
              "      width: 32px;\n",
              "    }\n",
              "\n",
              "    .colab-df-convert:hover {\n",
              "      background-color: #E2EBFA;\n",
              "      box-shadow: 0px 1px 2px rgba(60, 64, 67, 0.3), 0px 1px 3px 1px rgba(60, 64, 67, 0.15);\n",
              "      fill: #174EA6;\n",
              "    }\n",
              "\n",
              "    .colab-df-buttons div {\n",
              "      margin-bottom: 4px;\n",
              "    }\n",
              "\n",
              "    [theme=dark] .colab-df-convert {\n",
              "      background-color: #3B4455;\n",
              "      fill: #D2E3FC;\n",
              "    }\n",
              "\n",
              "    [theme=dark] .colab-df-convert:hover {\n",
              "      background-color: #434B5C;\n",
              "      box-shadow: 0px 1px 3px 1px rgba(0, 0, 0, 0.15);\n",
              "      filter: drop-shadow(0px 1px 2px rgba(0, 0, 0, 0.3));\n",
              "      fill: #FFFFFF;\n",
              "    }\n",
              "  </style>\n",
              "\n",
              "    <script>\n",
              "      const buttonEl =\n",
              "        document.querySelector('#df-9cb40c11-f085-416e-a861-0428186d42b8 button.colab-df-convert');\n",
              "      buttonEl.style.display =\n",
              "        google.colab.kernel.accessAllowed ? 'block' : 'none';\n",
              "\n",
              "      async function convertToInteractive(key) {\n",
              "        const element = document.querySelector('#df-9cb40c11-f085-416e-a861-0428186d42b8');\n",
              "        const dataTable =\n",
              "          await google.colab.kernel.invokeFunction('convertToInteractive',\n",
              "                                                    [key], {});\n",
              "        if (!dataTable) return;\n",
              "\n",
              "        const docLinkHtml = 'Like what you see? Visit the ' +\n",
              "          '<a target=\"_blank\" href=https://colab.research.google.com/notebooks/data_table.ipynb>data table notebook</a>'\n",
              "          + ' to learn more about interactive tables.';\n",
              "        element.innerHTML = '';\n",
              "        dataTable['output_type'] = 'display_data';\n",
              "        await google.colab.output.renderOutput(dataTable, element);\n",
              "        const docLink = document.createElement('div');\n",
              "        docLink.innerHTML = docLinkHtml;\n",
              "        element.appendChild(docLink);\n",
              "      }\n",
              "    </script>\n",
              "  </div>\n",
              "\n",
              "\n",
              "<div id=\"df-6f9075f1-7d96-4482-84bd-d9d80ffb8ec4\">\n",
              "  <button class=\"colab-df-quickchart\" onclick=\"quickchart('df-6f9075f1-7d96-4482-84bd-d9d80ffb8ec4')\"\n",
              "            title=\"Suggest charts\"\n",
              "            style=\"display:none;\">\n",
              "\n",
              "<svg xmlns=\"http://www.w3.org/2000/svg\" height=\"24px\"viewBox=\"0 0 24 24\"\n",
              "     width=\"24px\">\n",
              "    <g>\n",
              "        <path d=\"M19 3H5c-1.1 0-2 .9-2 2v14c0 1.1.9 2 2 2h14c1.1 0 2-.9 2-2V5c0-1.1-.9-2-2-2zM9 17H7v-7h2v7zm4 0h-2V7h2v10zm4 0h-2v-4h2v4z\"/>\n",
              "    </g>\n",
              "</svg>\n",
              "  </button>\n",
              "\n",
              "<style>\n",
              "  .colab-df-quickchart {\n",
              "      --bg-color: #E8F0FE;\n",
              "      --fill-color: #1967D2;\n",
              "      --hover-bg-color: #E2EBFA;\n",
              "      --hover-fill-color: #174EA6;\n",
              "      --disabled-fill-color: #AAA;\n",
              "      --disabled-bg-color: #DDD;\n",
              "  }\n",
              "\n",
              "  [theme=dark] .colab-df-quickchart {\n",
              "      --bg-color: #3B4455;\n",
              "      --fill-color: #D2E3FC;\n",
              "      --hover-bg-color: #434B5C;\n",
              "      --hover-fill-color: #FFFFFF;\n",
              "      --disabled-bg-color: #3B4455;\n",
              "      --disabled-fill-color: #666;\n",
              "  }\n",
              "\n",
              "  .colab-df-quickchart {\n",
              "    background-color: var(--bg-color);\n",
              "    border: none;\n",
              "    border-radius: 50%;\n",
              "    cursor: pointer;\n",
              "    display: none;\n",
              "    fill: var(--fill-color);\n",
              "    height: 32px;\n",
              "    padding: 0;\n",
              "    width: 32px;\n",
              "  }\n",
              "\n",
              "  .colab-df-quickchart:hover {\n",
              "    background-color: var(--hover-bg-color);\n",
              "    box-shadow: 0 1px 2px rgba(60, 64, 67, 0.3), 0 1px 3px 1px rgba(60, 64, 67, 0.15);\n",
              "    fill: var(--button-hover-fill-color);\n",
              "  }\n",
              "\n",
              "  .colab-df-quickchart-complete:disabled,\n",
              "  .colab-df-quickchart-complete:disabled:hover {\n",
              "    background-color: var(--disabled-bg-color);\n",
              "    fill: var(--disabled-fill-color);\n",
              "    box-shadow: none;\n",
              "  }\n",
              "\n",
              "  .colab-df-spinner {\n",
              "    border: 2px solid var(--fill-color);\n",
              "    border-color: transparent;\n",
              "    border-bottom-color: var(--fill-color);\n",
              "    animation:\n",
              "      spin 1s steps(1) infinite;\n",
              "  }\n",
              "\n",
              "  @keyframes spin {\n",
              "    0% {\n",
              "      border-color: transparent;\n",
              "      border-bottom-color: var(--fill-color);\n",
              "      border-left-color: var(--fill-color);\n",
              "    }\n",
              "    20% {\n",
              "      border-color: transparent;\n",
              "      border-left-color: var(--fill-color);\n",
              "      border-top-color: var(--fill-color);\n",
              "    }\n",
              "    30% {\n",
              "      border-color: transparent;\n",
              "      border-left-color: var(--fill-color);\n",
              "      border-top-color: var(--fill-color);\n",
              "      border-right-color: var(--fill-color);\n",
              "    }\n",
              "    40% {\n",
              "      border-color: transparent;\n",
              "      border-right-color: var(--fill-color);\n",
              "      border-top-color: var(--fill-color);\n",
              "    }\n",
              "    60% {\n",
              "      border-color: transparent;\n",
              "      border-right-color: var(--fill-color);\n",
              "    }\n",
              "    80% {\n",
              "      border-color: transparent;\n",
              "      border-right-color: var(--fill-color);\n",
              "      border-bottom-color: var(--fill-color);\n",
              "    }\n",
              "    90% {\n",
              "      border-color: transparent;\n",
              "      border-bottom-color: var(--fill-color);\n",
              "    }\n",
              "  }\n",
              "</style>\n",
              "\n",
              "  <script>\n",
              "    async function quickchart(key) {\n",
              "      const quickchartButtonEl =\n",
              "        document.querySelector('#' + key + ' button');\n",
              "      quickchartButtonEl.disabled = true;  // To prevent multiple clicks.\n",
              "      quickchartButtonEl.classList.add('colab-df-spinner');\n",
              "      try {\n",
              "        const charts = await google.colab.kernel.invokeFunction(\n",
              "            'suggestCharts', [key], {});\n",
              "      } catch (error) {\n",
              "        console.error('Error during call to suggestCharts:', error);\n",
              "      }\n",
              "      quickchartButtonEl.classList.remove('colab-df-spinner');\n",
              "      quickchartButtonEl.classList.add('colab-df-quickchart-complete');\n",
              "    }\n",
              "    (() => {\n",
              "      let quickchartButtonEl =\n",
              "        document.querySelector('#df-6f9075f1-7d96-4482-84bd-d9d80ffb8ec4 button');\n",
              "      quickchartButtonEl.style.display =\n",
              "        google.colab.kernel.accessAllowed ? 'block' : 'none';\n",
              "    })();\n",
              "  </script>\n",
              "</div>\n",
              "\n",
              "    </div>\n",
              "  </div>\n"
            ],
            "application/vnd.google.colaboratory.intrinsic+json": {
              "type": "dataframe",
              "summary": "{\n  \"name\": \"dev\",\n  \"rows\": 8,\n  \"fields\": [\n    {\n      \"column\": \"age\",\n      \"properties\": {\n        \"dtype\": \"number\",\n        \"std\": 460.6106090399993,\n        \"min\": 14.049960379216154,\n        \"max\": 1338.0,\n        \"num_unique_values\": 8,\n        \"samples\": [\n          39.20702541106129,\n          39.0,\n          1338.0\n        ],\n        \"semantic_type\": \"\",\n        \"description\": \"\"\n      }\n    },\n    {\n      \"column\": \"bmi\",\n      \"properties\": {\n        \"dtype\": \"number\",\n        \"std\": 463.29524977918294,\n        \"min\": 6.098186911679014,\n        \"max\": 1338.0,\n        \"num_unique_values\": 8,\n        \"samples\": [\n          30.66339686098655,\n          30.4,\n          1338.0\n        ],\n        \"semantic_type\": \"\",\n        \"description\": \"\"\n      }\n    },\n    {\n      \"column\": \"children\",\n      \"properties\": {\n        \"dtype\": \"number\",\n        \"std\": 472.5368318870757,\n        \"min\": 0.0,\n        \"max\": 1338.0,\n        \"num_unique_values\": 7,\n        \"samples\": [\n          1338.0,\n          1.0949177877429,\n          2.0\n        ],\n        \"semantic_type\": \"\",\n        \"description\": \"\"\n      }\n    },\n    {\n      \"column\": \"charges\",\n      \"properties\": {\n        \"dtype\": \"number\",\n        \"std\": 20381.922846226596,\n        \"min\": 1121.8739,\n        \"max\": 63770.42801,\n        \"num_unique_values\": 8,\n        \"samples\": [\n          13270.422265141257,\n          9382.033,\n          1338.0\n        ],\n        \"semantic_type\": \"\",\n        \"description\": \"\"\n      }\n    }\n  ]\n}"
            }
          },
          "metadata": {},
          "execution_count": 6
        }
      ]
    },
    {
      "cell_type": "code",
      "source": [
        "smoke=[]\n",
        "for i in dev['smoker']:\n",
        "  if i == 'yes':\n",
        "    smoke.append(1)\n",
        "  else:\n",
        "    smoke.append(0)\n",
        "dev['smoker']=smoke"
      ],
      "metadata": {
        "id": "b-8EmV3H4U-e"
      },
      "execution_count": 7,
      "outputs": []
    },
    {
      "cell_type": "code",
      "source": [
        "dev.sex.value_counts()"
      ],
      "metadata": {
        "colab": {
          "base_uri": "https://localhost:8080/"
        },
        "id": "NiMEzJGC4zJZ",
        "outputId": "ec6eaaf6-1fe6-4d31-c6d6-ca1586cad25a"
      },
      "execution_count": 8,
      "outputs": [
        {
          "output_type": "execute_result",
          "data": {
            "text/plain": [
              "sex\n",
              "male      676\n",
              "female    662\n",
              "Name: count, dtype: int64"
            ]
          },
          "metadata": {},
          "execution_count": 8
        }
      ]
    },
    {
      "cell_type": "code",
      "source": [
        "sex=[]\n",
        "for i in dev['sex']:\n",
        "  if i == 'male':\n",
        "    sex.append(1)\n",
        "  else:\n",
        "    sex.append(0)\n",
        "dev['sex']=sex"
      ],
      "metadata": {
        "id": "b5jD2zG349M4"
      },
      "execution_count": 9,
      "outputs": []
    },
    {
      "cell_type": "code",
      "source": [
        "region=[]\n",
        "for i in dev['region']:\n",
        "  if i == 'northwest':\n",
        "    region.append(1)\n",
        "  elif i == 'southwest':\n",
        "    region.append(2)\n",
        "  elif i == 'southeast':\n",
        "    region.append(3)\n",
        "  else:\n",
        "    region.append(4)\n",
        "dev['region']=region"
      ],
      "metadata": {
        "id": "47rPOkGr4qX4"
      },
      "execution_count": 10,
      "outputs": []
    },
    {
      "cell_type": "code",
      "source": [
        "dev.head(7)"
      ],
      "metadata": {
        "colab": {
          "base_uri": "https://localhost:8080/",
          "height": 269
        },
        "id": "g-HArOoj5Jxv",
        "outputId": "1bc8b7e1-8ef7-41f4-df8d-8e82584c14ff"
      },
      "execution_count": 11,
      "outputs": [
        {
          "output_type": "execute_result",
          "data": {
            "text/plain": [
              "   age  sex     bmi  children  smoker  region      charges\n",
              "0   19    0  27.900         0       1       2  16884.92400\n",
              "1   18    1  33.770         1       0       3   1725.55230\n",
              "2   28    1  33.000         3       0       3   4449.46200\n",
              "3   33    1  22.705         0       0       1  21984.47061\n",
              "4   32    1  28.880         0       0       1   3866.85520\n",
              "5   31    0  25.740         0       0       3   3756.62160\n",
              "6   46    0  33.440         1       0       3   8240.58960"
            ],
            "text/html": [
              "\n",
              "  <div id=\"df-6d24979d-ea50-487b-a91d-b23091e7223f\" class=\"colab-df-container\">\n",
              "    <div>\n",
              "<style scoped>\n",
              "    .dataframe tbody tr th:only-of-type {\n",
              "        vertical-align: middle;\n",
              "    }\n",
              "\n",
              "    .dataframe tbody tr th {\n",
              "        vertical-align: top;\n",
              "    }\n",
              "\n",
              "    .dataframe thead th {\n",
              "        text-align: right;\n",
              "    }\n",
              "</style>\n",
              "<table border=\"1\" class=\"dataframe\">\n",
              "  <thead>\n",
              "    <tr style=\"text-align: right;\">\n",
              "      <th></th>\n",
              "      <th>age</th>\n",
              "      <th>sex</th>\n",
              "      <th>bmi</th>\n",
              "      <th>children</th>\n",
              "      <th>smoker</th>\n",
              "      <th>region</th>\n",
              "      <th>charges</th>\n",
              "    </tr>\n",
              "  </thead>\n",
              "  <tbody>\n",
              "    <tr>\n",
              "      <th>0</th>\n",
              "      <td>19</td>\n",
              "      <td>0</td>\n",
              "      <td>27.900</td>\n",
              "      <td>0</td>\n",
              "      <td>1</td>\n",
              "      <td>2</td>\n",
              "      <td>16884.92400</td>\n",
              "    </tr>\n",
              "    <tr>\n",
              "      <th>1</th>\n",
              "      <td>18</td>\n",
              "      <td>1</td>\n",
              "      <td>33.770</td>\n",
              "      <td>1</td>\n",
              "      <td>0</td>\n",
              "      <td>3</td>\n",
              "      <td>1725.55230</td>\n",
              "    </tr>\n",
              "    <tr>\n",
              "      <th>2</th>\n",
              "      <td>28</td>\n",
              "      <td>1</td>\n",
              "      <td>33.000</td>\n",
              "      <td>3</td>\n",
              "      <td>0</td>\n",
              "      <td>3</td>\n",
              "      <td>4449.46200</td>\n",
              "    </tr>\n",
              "    <tr>\n",
              "      <th>3</th>\n",
              "      <td>33</td>\n",
              "      <td>1</td>\n",
              "      <td>22.705</td>\n",
              "      <td>0</td>\n",
              "      <td>0</td>\n",
              "      <td>1</td>\n",
              "      <td>21984.47061</td>\n",
              "    </tr>\n",
              "    <tr>\n",
              "      <th>4</th>\n",
              "      <td>32</td>\n",
              "      <td>1</td>\n",
              "      <td>28.880</td>\n",
              "      <td>0</td>\n",
              "      <td>0</td>\n",
              "      <td>1</td>\n",
              "      <td>3866.85520</td>\n",
              "    </tr>\n",
              "    <tr>\n",
              "      <th>5</th>\n",
              "      <td>31</td>\n",
              "      <td>0</td>\n",
              "      <td>25.740</td>\n",
              "      <td>0</td>\n",
              "      <td>0</td>\n",
              "      <td>3</td>\n",
              "      <td>3756.62160</td>\n",
              "    </tr>\n",
              "    <tr>\n",
              "      <th>6</th>\n",
              "      <td>46</td>\n",
              "      <td>0</td>\n",
              "      <td>33.440</td>\n",
              "      <td>1</td>\n",
              "      <td>0</td>\n",
              "      <td>3</td>\n",
              "      <td>8240.58960</td>\n",
              "    </tr>\n",
              "  </tbody>\n",
              "</table>\n",
              "</div>\n",
              "    <div class=\"colab-df-buttons\">\n",
              "\n",
              "  <div class=\"colab-df-container\">\n",
              "    <button class=\"colab-df-convert\" onclick=\"convertToInteractive('df-6d24979d-ea50-487b-a91d-b23091e7223f')\"\n",
              "            title=\"Convert this dataframe to an interactive table.\"\n",
              "            style=\"display:none;\">\n",
              "\n",
              "  <svg xmlns=\"http://www.w3.org/2000/svg\" height=\"24px\" viewBox=\"0 -960 960 960\">\n",
              "    <path d=\"M120-120v-720h720v720H120Zm60-500h600v-160H180v160Zm220 220h160v-160H400v160Zm0 220h160v-160H400v160ZM180-400h160v-160H180v160Zm440 0h160v-160H620v160ZM180-180h160v-160H180v160Zm440 0h160v-160H620v160Z\"/>\n",
              "  </svg>\n",
              "    </button>\n",
              "\n",
              "  <style>\n",
              "    .colab-df-container {\n",
              "      display:flex;\n",
              "      gap: 12px;\n",
              "    }\n",
              "\n",
              "    .colab-df-convert {\n",
              "      background-color: #E8F0FE;\n",
              "      border: none;\n",
              "      border-radius: 50%;\n",
              "      cursor: pointer;\n",
              "      display: none;\n",
              "      fill: #1967D2;\n",
              "      height: 32px;\n",
              "      padding: 0 0 0 0;\n",
              "      width: 32px;\n",
              "    }\n",
              "\n",
              "    .colab-df-convert:hover {\n",
              "      background-color: #E2EBFA;\n",
              "      box-shadow: 0px 1px 2px rgba(60, 64, 67, 0.3), 0px 1px 3px 1px rgba(60, 64, 67, 0.15);\n",
              "      fill: #174EA6;\n",
              "    }\n",
              "\n",
              "    .colab-df-buttons div {\n",
              "      margin-bottom: 4px;\n",
              "    }\n",
              "\n",
              "    [theme=dark] .colab-df-convert {\n",
              "      background-color: #3B4455;\n",
              "      fill: #D2E3FC;\n",
              "    }\n",
              "\n",
              "    [theme=dark] .colab-df-convert:hover {\n",
              "      background-color: #434B5C;\n",
              "      box-shadow: 0px 1px 3px 1px rgba(0, 0, 0, 0.15);\n",
              "      filter: drop-shadow(0px 1px 2px rgba(0, 0, 0, 0.3));\n",
              "      fill: #FFFFFF;\n",
              "    }\n",
              "  </style>\n",
              "\n",
              "    <script>\n",
              "      const buttonEl =\n",
              "        document.querySelector('#df-6d24979d-ea50-487b-a91d-b23091e7223f button.colab-df-convert');\n",
              "      buttonEl.style.display =\n",
              "        google.colab.kernel.accessAllowed ? 'block' : 'none';\n",
              "\n",
              "      async function convertToInteractive(key) {\n",
              "        const element = document.querySelector('#df-6d24979d-ea50-487b-a91d-b23091e7223f');\n",
              "        const dataTable =\n",
              "          await google.colab.kernel.invokeFunction('convertToInteractive',\n",
              "                                                    [key], {});\n",
              "        if (!dataTable) return;\n",
              "\n",
              "        const docLinkHtml = 'Like what you see? Visit the ' +\n",
              "          '<a target=\"_blank\" href=https://colab.research.google.com/notebooks/data_table.ipynb>data table notebook</a>'\n",
              "          + ' to learn more about interactive tables.';\n",
              "        element.innerHTML = '';\n",
              "        dataTable['output_type'] = 'display_data';\n",
              "        await google.colab.output.renderOutput(dataTable, element);\n",
              "        const docLink = document.createElement('div');\n",
              "        docLink.innerHTML = docLinkHtml;\n",
              "        element.appendChild(docLink);\n",
              "      }\n",
              "    </script>\n",
              "  </div>\n",
              "\n",
              "\n",
              "<div id=\"df-84236134-4067-411b-bc95-5287e3c5b69b\">\n",
              "  <button class=\"colab-df-quickchart\" onclick=\"quickchart('df-84236134-4067-411b-bc95-5287e3c5b69b')\"\n",
              "            title=\"Suggest charts\"\n",
              "            style=\"display:none;\">\n",
              "\n",
              "<svg xmlns=\"http://www.w3.org/2000/svg\" height=\"24px\"viewBox=\"0 0 24 24\"\n",
              "     width=\"24px\">\n",
              "    <g>\n",
              "        <path d=\"M19 3H5c-1.1 0-2 .9-2 2v14c0 1.1.9 2 2 2h14c1.1 0 2-.9 2-2V5c0-1.1-.9-2-2-2zM9 17H7v-7h2v7zm4 0h-2V7h2v10zm4 0h-2v-4h2v4z\"/>\n",
              "    </g>\n",
              "</svg>\n",
              "  </button>\n",
              "\n",
              "<style>\n",
              "  .colab-df-quickchart {\n",
              "      --bg-color: #E8F0FE;\n",
              "      --fill-color: #1967D2;\n",
              "      --hover-bg-color: #E2EBFA;\n",
              "      --hover-fill-color: #174EA6;\n",
              "      --disabled-fill-color: #AAA;\n",
              "      --disabled-bg-color: #DDD;\n",
              "  }\n",
              "\n",
              "  [theme=dark] .colab-df-quickchart {\n",
              "      --bg-color: #3B4455;\n",
              "      --fill-color: #D2E3FC;\n",
              "      --hover-bg-color: #434B5C;\n",
              "      --hover-fill-color: #FFFFFF;\n",
              "      --disabled-bg-color: #3B4455;\n",
              "      --disabled-fill-color: #666;\n",
              "  }\n",
              "\n",
              "  .colab-df-quickchart {\n",
              "    background-color: var(--bg-color);\n",
              "    border: none;\n",
              "    border-radius: 50%;\n",
              "    cursor: pointer;\n",
              "    display: none;\n",
              "    fill: var(--fill-color);\n",
              "    height: 32px;\n",
              "    padding: 0;\n",
              "    width: 32px;\n",
              "  }\n",
              "\n",
              "  .colab-df-quickchart:hover {\n",
              "    background-color: var(--hover-bg-color);\n",
              "    box-shadow: 0 1px 2px rgba(60, 64, 67, 0.3), 0 1px 3px 1px rgba(60, 64, 67, 0.15);\n",
              "    fill: var(--button-hover-fill-color);\n",
              "  }\n",
              "\n",
              "  .colab-df-quickchart-complete:disabled,\n",
              "  .colab-df-quickchart-complete:disabled:hover {\n",
              "    background-color: var(--disabled-bg-color);\n",
              "    fill: var(--disabled-fill-color);\n",
              "    box-shadow: none;\n",
              "  }\n",
              "\n",
              "  .colab-df-spinner {\n",
              "    border: 2px solid var(--fill-color);\n",
              "    border-color: transparent;\n",
              "    border-bottom-color: var(--fill-color);\n",
              "    animation:\n",
              "      spin 1s steps(1) infinite;\n",
              "  }\n",
              "\n",
              "  @keyframes spin {\n",
              "    0% {\n",
              "      border-color: transparent;\n",
              "      border-bottom-color: var(--fill-color);\n",
              "      border-left-color: var(--fill-color);\n",
              "    }\n",
              "    20% {\n",
              "      border-color: transparent;\n",
              "      border-left-color: var(--fill-color);\n",
              "      border-top-color: var(--fill-color);\n",
              "    }\n",
              "    30% {\n",
              "      border-color: transparent;\n",
              "      border-left-color: var(--fill-color);\n",
              "      border-top-color: var(--fill-color);\n",
              "      border-right-color: var(--fill-color);\n",
              "    }\n",
              "    40% {\n",
              "      border-color: transparent;\n",
              "      border-right-color: var(--fill-color);\n",
              "      border-top-color: var(--fill-color);\n",
              "    }\n",
              "    60% {\n",
              "      border-color: transparent;\n",
              "      border-right-color: var(--fill-color);\n",
              "    }\n",
              "    80% {\n",
              "      border-color: transparent;\n",
              "      border-right-color: var(--fill-color);\n",
              "      border-bottom-color: var(--fill-color);\n",
              "    }\n",
              "    90% {\n",
              "      border-color: transparent;\n",
              "      border-bottom-color: var(--fill-color);\n",
              "    }\n",
              "  }\n",
              "</style>\n",
              "\n",
              "  <script>\n",
              "    async function quickchart(key) {\n",
              "      const quickchartButtonEl =\n",
              "        document.querySelector('#' + key + ' button');\n",
              "      quickchartButtonEl.disabled = true;  // To prevent multiple clicks.\n",
              "      quickchartButtonEl.classList.add('colab-df-spinner');\n",
              "      try {\n",
              "        const charts = await google.colab.kernel.invokeFunction(\n",
              "            'suggestCharts', [key], {});\n",
              "      } catch (error) {\n",
              "        console.error('Error during call to suggestCharts:', error);\n",
              "      }\n",
              "      quickchartButtonEl.classList.remove('colab-df-spinner');\n",
              "      quickchartButtonEl.classList.add('colab-df-quickchart-complete');\n",
              "    }\n",
              "    (() => {\n",
              "      let quickchartButtonEl =\n",
              "        document.querySelector('#df-84236134-4067-411b-bc95-5287e3c5b69b button');\n",
              "      quickchartButtonEl.style.display =\n",
              "        google.colab.kernel.accessAllowed ? 'block' : 'none';\n",
              "    })();\n",
              "  </script>\n",
              "</div>\n",
              "\n",
              "    </div>\n",
              "  </div>\n"
            ],
            "application/vnd.google.colaboratory.intrinsic+json": {
              "type": "dataframe",
              "variable_name": "dev",
              "summary": "{\n  \"name\": \"dev\",\n  \"rows\": 1338,\n  \"fields\": [\n    {\n      \"column\": \"age\",\n      \"properties\": {\n        \"dtype\": \"number\",\n        \"std\": 14,\n        \"min\": 18,\n        \"max\": 64,\n        \"num_unique_values\": 47,\n        \"samples\": [\n          21,\n          45,\n          36\n        ],\n        \"semantic_type\": \"\",\n        \"description\": \"\"\n      }\n    },\n    {\n      \"column\": \"sex\",\n      \"properties\": {\n        \"dtype\": \"number\",\n        \"std\": 0,\n        \"min\": 0,\n        \"max\": 1,\n        \"num_unique_values\": 2,\n        \"samples\": [\n          1,\n          0\n        ],\n        \"semantic_type\": \"\",\n        \"description\": \"\"\n      }\n    },\n    {\n      \"column\": \"bmi\",\n      \"properties\": {\n        \"dtype\": \"number\",\n        \"std\": 6.098186911679014,\n        \"min\": 15.96,\n        \"max\": 53.13,\n        \"num_unique_values\": 548,\n        \"samples\": [\n          23.18,\n          26.885\n        ],\n        \"semantic_type\": \"\",\n        \"description\": \"\"\n      }\n    },\n    {\n      \"column\": \"children\",\n      \"properties\": {\n        \"dtype\": \"number\",\n        \"std\": 1,\n        \"min\": 0,\n        \"max\": 5,\n        \"num_unique_values\": 6,\n        \"samples\": [\n          0,\n          1\n        ],\n        \"semantic_type\": \"\",\n        \"description\": \"\"\n      }\n    },\n    {\n      \"column\": \"smoker\",\n      \"properties\": {\n        \"dtype\": \"number\",\n        \"std\": 0,\n        \"min\": 0,\n        \"max\": 1,\n        \"num_unique_values\": 2,\n        \"samples\": [\n          0,\n          1\n        ],\n        \"semantic_type\": \"\",\n        \"description\": \"\"\n      }\n    },\n    {\n      \"column\": \"region\",\n      \"properties\": {\n        \"dtype\": \"number\",\n        \"std\": 1,\n        \"min\": 1,\n        \"max\": 4,\n        \"num_unique_values\": 4,\n        \"samples\": [\n          3,\n          4\n        ],\n        \"semantic_type\": \"\",\n        \"description\": \"\"\n      }\n    },\n    {\n      \"column\": \"charges\",\n      \"properties\": {\n        \"dtype\": \"number\",\n        \"std\": 12110.011236694001,\n        \"min\": 1121.8739,\n        \"max\": 63770.42801,\n        \"num_unique_values\": 1337,\n        \"samples\": [\n          8688.85885,\n          5708.867\n        ],\n        \"semantic_type\": \"\",\n        \"description\": \"\"\n      }\n    }\n  ]\n}"
            }
          },
          "metadata": {},
          "execution_count": 11
        }
      ]
    },
    {
      "cell_type": "code",
      "source": [],
      "metadata": {
        "id": "Vt-0rK9I9Eaz"
      },
      "execution_count": 11,
      "outputs": []
    },
    {
      "cell_type": "code",
      "source": [
        "correlation=dev.corr()"
      ],
      "metadata": {
        "id": "Bs2dFSoy5Ltx"
      },
      "execution_count": 12,
      "outputs": []
    },
    {
      "cell_type": "code",
      "source": [
        "correlation"
      ],
      "metadata": {
        "colab": {
          "base_uri": "https://localhost:8080/",
          "height": 269
        },
        "id": "IxSne0A95e8E",
        "outputId": "4d9b5af7-d28c-44d0-c5f5-cc3c7581a801"
      },
      "execution_count": 13,
      "outputs": [
        {
          "output_type": "execute_result",
          "data": {
            "text/plain": [
              "               age       sex       bmi  children    smoker    region   charges\n",
              "age       1.000000 -0.020856  0.109272  0.042469 -0.025019 -0.002613  0.299008\n",
              "sex      -0.020856  1.000000  0.046371  0.017163  0.076185  0.009346  0.057292\n",
              "bmi       0.109272  0.046371  1.000000  0.012759  0.003750  0.054428  0.198341\n",
              "children  0.042469  0.017163  0.012759  1.000000  0.007673 -0.036617  0.067998\n",
              "smoker   -0.025019  0.076185  0.003750  0.007673  1.000000  0.044124  0.787251\n",
              "region   -0.002613  0.009346  0.054428 -0.036617  0.044124  1.000000  0.050226\n",
              "charges   0.299008  0.057292  0.198341  0.067998  0.787251  0.050226  1.000000"
            ],
            "text/html": [
              "\n",
              "  <div id=\"df-578e87cc-a71f-4222-b014-18040fa40a22\" class=\"colab-df-container\">\n",
              "    <div>\n",
              "<style scoped>\n",
              "    .dataframe tbody tr th:only-of-type {\n",
              "        vertical-align: middle;\n",
              "    }\n",
              "\n",
              "    .dataframe tbody tr th {\n",
              "        vertical-align: top;\n",
              "    }\n",
              "\n",
              "    .dataframe thead th {\n",
              "        text-align: right;\n",
              "    }\n",
              "</style>\n",
              "<table border=\"1\" class=\"dataframe\">\n",
              "  <thead>\n",
              "    <tr style=\"text-align: right;\">\n",
              "      <th></th>\n",
              "      <th>age</th>\n",
              "      <th>sex</th>\n",
              "      <th>bmi</th>\n",
              "      <th>children</th>\n",
              "      <th>smoker</th>\n",
              "      <th>region</th>\n",
              "      <th>charges</th>\n",
              "    </tr>\n",
              "  </thead>\n",
              "  <tbody>\n",
              "    <tr>\n",
              "      <th>age</th>\n",
              "      <td>1.000000</td>\n",
              "      <td>-0.020856</td>\n",
              "      <td>0.109272</td>\n",
              "      <td>0.042469</td>\n",
              "      <td>-0.025019</td>\n",
              "      <td>-0.002613</td>\n",
              "      <td>0.299008</td>\n",
              "    </tr>\n",
              "    <tr>\n",
              "      <th>sex</th>\n",
              "      <td>-0.020856</td>\n",
              "      <td>1.000000</td>\n",
              "      <td>0.046371</td>\n",
              "      <td>0.017163</td>\n",
              "      <td>0.076185</td>\n",
              "      <td>0.009346</td>\n",
              "      <td>0.057292</td>\n",
              "    </tr>\n",
              "    <tr>\n",
              "      <th>bmi</th>\n",
              "      <td>0.109272</td>\n",
              "      <td>0.046371</td>\n",
              "      <td>1.000000</td>\n",
              "      <td>0.012759</td>\n",
              "      <td>0.003750</td>\n",
              "      <td>0.054428</td>\n",
              "      <td>0.198341</td>\n",
              "    </tr>\n",
              "    <tr>\n",
              "      <th>children</th>\n",
              "      <td>0.042469</td>\n",
              "      <td>0.017163</td>\n",
              "      <td>0.012759</td>\n",
              "      <td>1.000000</td>\n",
              "      <td>0.007673</td>\n",
              "      <td>-0.036617</td>\n",
              "      <td>0.067998</td>\n",
              "    </tr>\n",
              "    <tr>\n",
              "      <th>smoker</th>\n",
              "      <td>-0.025019</td>\n",
              "      <td>0.076185</td>\n",
              "      <td>0.003750</td>\n",
              "      <td>0.007673</td>\n",
              "      <td>1.000000</td>\n",
              "      <td>0.044124</td>\n",
              "      <td>0.787251</td>\n",
              "    </tr>\n",
              "    <tr>\n",
              "      <th>region</th>\n",
              "      <td>-0.002613</td>\n",
              "      <td>0.009346</td>\n",
              "      <td>0.054428</td>\n",
              "      <td>-0.036617</td>\n",
              "      <td>0.044124</td>\n",
              "      <td>1.000000</td>\n",
              "      <td>0.050226</td>\n",
              "    </tr>\n",
              "    <tr>\n",
              "      <th>charges</th>\n",
              "      <td>0.299008</td>\n",
              "      <td>0.057292</td>\n",
              "      <td>0.198341</td>\n",
              "      <td>0.067998</td>\n",
              "      <td>0.787251</td>\n",
              "      <td>0.050226</td>\n",
              "      <td>1.000000</td>\n",
              "    </tr>\n",
              "  </tbody>\n",
              "</table>\n",
              "</div>\n",
              "    <div class=\"colab-df-buttons\">\n",
              "\n",
              "  <div class=\"colab-df-container\">\n",
              "    <button class=\"colab-df-convert\" onclick=\"convertToInteractive('df-578e87cc-a71f-4222-b014-18040fa40a22')\"\n",
              "            title=\"Convert this dataframe to an interactive table.\"\n",
              "            style=\"display:none;\">\n",
              "\n",
              "  <svg xmlns=\"http://www.w3.org/2000/svg\" height=\"24px\" viewBox=\"0 -960 960 960\">\n",
              "    <path d=\"M120-120v-720h720v720H120Zm60-500h600v-160H180v160Zm220 220h160v-160H400v160Zm0 220h160v-160H400v160ZM180-400h160v-160H180v160Zm440 0h160v-160H620v160ZM180-180h160v-160H180v160Zm440 0h160v-160H620v160Z\"/>\n",
              "  </svg>\n",
              "    </button>\n",
              "\n",
              "  <style>\n",
              "    .colab-df-container {\n",
              "      display:flex;\n",
              "      gap: 12px;\n",
              "    }\n",
              "\n",
              "    .colab-df-convert {\n",
              "      background-color: #E8F0FE;\n",
              "      border: none;\n",
              "      border-radius: 50%;\n",
              "      cursor: pointer;\n",
              "      display: none;\n",
              "      fill: #1967D2;\n",
              "      height: 32px;\n",
              "      padding: 0 0 0 0;\n",
              "      width: 32px;\n",
              "    }\n",
              "\n",
              "    .colab-df-convert:hover {\n",
              "      background-color: #E2EBFA;\n",
              "      box-shadow: 0px 1px 2px rgba(60, 64, 67, 0.3), 0px 1px 3px 1px rgba(60, 64, 67, 0.15);\n",
              "      fill: #174EA6;\n",
              "    }\n",
              "\n",
              "    .colab-df-buttons div {\n",
              "      margin-bottom: 4px;\n",
              "    }\n",
              "\n",
              "    [theme=dark] .colab-df-convert {\n",
              "      background-color: #3B4455;\n",
              "      fill: #D2E3FC;\n",
              "    }\n",
              "\n",
              "    [theme=dark] .colab-df-convert:hover {\n",
              "      background-color: #434B5C;\n",
              "      box-shadow: 0px 1px 3px 1px rgba(0, 0, 0, 0.15);\n",
              "      filter: drop-shadow(0px 1px 2px rgba(0, 0, 0, 0.3));\n",
              "      fill: #FFFFFF;\n",
              "    }\n",
              "  </style>\n",
              "\n",
              "    <script>\n",
              "      const buttonEl =\n",
              "        document.querySelector('#df-578e87cc-a71f-4222-b014-18040fa40a22 button.colab-df-convert');\n",
              "      buttonEl.style.display =\n",
              "        google.colab.kernel.accessAllowed ? 'block' : 'none';\n",
              "\n",
              "      async function convertToInteractive(key) {\n",
              "        const element = document.querySelector('#df-578e87cc-a71f-4222-b014-18040fa40a22');\n",
              "        const dataTable =\n",
              "          await google.colab.kernel.invokeFunction('convertToInteractive',\n",
              "                                                    [key], {});\n",
              "        if (!dataTable) return;\n",
              "\n",
              "        const docLinkHtml = 'Like what you see? Visit the ' +\n",
              "          '<a target=\"_blank\" href=https://colab.research.google.com/notebooks/data_table.ipynb>data table notebook</a>'\n",
              "          + ' to learn more about interactive tables.';\n",
              "        element.innerHTML = '';\n",
              "        dataTable['output_type'] = 'display_data';\n",
              "        await google.colab.output.renderOutput(dataTable, element);\n",
              "        const docLink = document.createElement('div');\n",
              "        docLink.innerHTML = docLinkHtml;\n",
              "        element.appendChild(docLink);\n",
              "      }\n",
              "    </script>\n",
              "  </div>\n",
              "\n",
              "\n",
              "<div id=\"df-b3c2fc18-1339-4628-b303-abf767701f7e\">\n",
              "  <button class=\"colab-df-quickchart\" onclick=\"quickchart('df-b3c2fc18-1339-4628-b303-abf767701f7e')\"\n",
              "            title=\"Suggest charts\"\n",
              "            style=\"display:none;\">\n",
              "\n",
              "<svg xmlns=\"http://www.w3.org/2000/svg\" height=\"24px\"viewBox=\"0 0 24 24\"\n",
              "     width=\"24px\">\n",
              "    <g>\n",
              "        <path d=\"M19 3H5c-1.1 0-2 .9-2 2v14c0 1.1.9 2 2 2h14c1.1 0 2-.9 2-2V5c0-1.1-.9-2-2-2zM9 17H7v-7h2v7zm4 0h-2V7h2v10zm4 0h-2v-4h2v4z\"/>\n",
              "    </g>\n",
              "</svg>\n",
              "  </button>\n",
              "\n",
              "<style>\n",
              "  .colab-df-quickchart {\n",
              "      --bg-color: #E8F0FE;\n",
              "      --fill-color: #1967D2;\n",
              "      --hover-bg-color: #E2EBFA;\n",
              "      --hover-fill-color: #174EA6;\n",
              "      --disabled-fill-color: #AAA;\n",
              "      --disabled-bg-color: #DDD;\n",
              "  }\n",
              "\n",
              "  [theme=dark] .colab-df-quickchart {\n",
              "      --bg-color: #3B4455;\n",
              "      --fill-color: #D2E3FC;\n",
              "      --hover-bg-color: #434B5C;\n",
              "      --hover-fill-color: #FFFFFF;\n",
              "      --disabled-bg-color: #3B4455;\n",
              "      --disabled-fill-color: #666;\n",
              "  }\n",
              "\n",
              "  .colab-df-quickchart {\n",
              "    background-color: var(--bg-color);\n",
              "    border: none;\n",
              "    border-radius: 50%;\n",
              "    cursor: pointer;\n",
              "    display: none;\n",
              "    fill: var(--fill-color);\n",
              "    height: 32px;\n",
              "    padding: 0;\n",
              "    width: 32px;\n",
              "  }\n",
              "\n",
              "  .colab-df-quickchart:hover {\n",
              "    background-color: var(--hover-bg-color);\n",
              "    box-shadow: 0 1px 2px rgba(60, 64, 67, 0.3), 0 1px 3px 1px rgba(60, 64, 67, 0.15);\n",
              "    fill: var(--button-hover-fill-color);\n",
              "  }\n",
              "\n",
              "  .colab-df-quickchart-complete:disabled,\n",
              "  .colab-df-quickchart-complete:disabled:hover {\n",
              "    background-color: var(--disabled-bg-color);\n",
              "    fill: var(--disabled-fill-color);\n",
              "    box-shadow: none;\n",
              "  }\n",
              "\n",
              "  .colab-df-spinner {\n",
              "    border: 2px solid var(--fill-color);\n",
              "    border-color: transparent;\n",
              "    border-bottom-color: var(--fill-color);\n",
              "    animation:\n",
              "      spin 1s steps(1) infinite;\n",
              "  }\n",
              "\n",
              "  @keyframes spin {\n",
              "    0% {\n",
              "      border-color: transparent;\n",
              "      border-bottom-color: var(--fill-color);\n",
              "      border-left-color: var(--fill-color);\n",
              "    }\n",
              "    20% {\n",
              "      border-color: transparent;\n",
              "      border-left-color: var(--fill-color);\n",
              "      border-top-color: var(--fill-color);\n",
              "    }\n",
              "    30% {\n",
              "      border-color: transparent;\n",
              "      border-left-color: var(--fill-color);\n",
              "      border-top-color: var(--fill-color);\n",
              "      border-right-color: var(--fill-color);\n",
              "    }\n",
              "    40% {\n",
              "      border-color: transparent;\n",
              "      border-right-color: var(--fill-color);\n",
              "      border-top-color: var(--fill-color);\n",
              "    }\n",
              "    60% {\n",
              "      border-color: transparent;\n",
              "      border-right-color: var(--fill-color);\n",
              "    }\n",
              "    80% {\n",
              "      border-color: transparent;\n",
              "      border-right-color: var(--fill-color);\n",
              "      border-bottom-color: var(--fill-color);\n",
              "    }\n",
              "    90% {\n",
              "      border-color: transparent;\n",
              "      border-bottom-color: var(--fill-color);\n",
              "    }\n",
              "  }\n",
              "</style>\n",
              "\n",
              "  <script>\n",
              "    async function quickchart(key) {\n",
              "      const quickchartButtonEl =\n",
              "        document.querySelector('#' + key + ' button');\n",
              "      quickchartButtonEl.disabled = true;  // To prevent multiple clicks.\n",
              "      quickchartButtonEl.classList.add('colab-df-spinner');\n",
              "      try {\n",
              "        const charts = await google.colab.kernel.invokeFunction(\n",
              "            'suggestCharts', [key], {});\n",
              "      } catch (error) {\n",
              "        console.error('Error during call to suggestCharts:', error);\n",
              "      }\n",
              "      quickchartButtonEl.classList.remove('colab-df-spinner');\n",
              "      quickchartButtonEl.classList.add('colab-df-quickchart-complete');\n",
              "    }\n",
              "    (() => {\n",
              "      let quickchartButtonEl =\n",
              "        document.querySelector('#df-b3c2fc18-1339-4628-b303-abf767701f7e button');\n",
              "      quickchartButtonEl.style.display =\n",
              "        google.colab.kernel.accessAllowed ? 'block' : 'none';\n",
              "    })();\n",
              "  </script>\n",
              "</div>\n",
              "\n",
              "  <div id=\"id_2ef3f9d6-29ab-46d3-b769-908e825d1f37\">\n",
              "    <style>\n",
              "      .colab-df-generate {\n",
              "        background-color: #E8F0FE;\n",
              "        border: none;\n",
              "        border-radius: 50%;\n",
              "        cursor: pointer;\n",
              "        display: none;\n",
              "        fill: #1967D2;\n",
              "        height: 32px;\n",
              "        padding: 0 0 0 0;\n",
              "        width: 32px;\n",
              "      }\n",
              "\n",
              "      .colab-df-generate:hover {\n",
              "        background-color: #E2EBFA;\n",
              "        box-shadow: 0px 1px 2px rgba(60, 64, 67, 0.3), 0px 1px 3px 1px rgba(60, 64, 67, 0.15);\n",
              "        fill: #174EA6;\n",
              "      }\n",
              "\n",
              "      [theme=dark] .colab-df-generate {\n",
              "        background-color: #3B4455;\n",
              "        fill: #D2E3FC;\n",
              "      }\n",
              "\n",
              "      [theme=dark] .colab-df-generate:hover {\n",
              "        background-color: #434B5C;\n",
              "        box-shadow: 0px 1px 3px 1px rgba(0, 0, 0, 0.15);\n",
              "        filter: drop-shadow(0px 1px 2px rgba(0, 0, 0, 0.3));\n",
              "        fill: #FFFFFF;\n",
              "      }\n",
              "    </style>\n",
              "    <button class=\"colab-df-generate\" onclick=\"generateWithVariable('correlation')\"\n",
              "            title=\"Generate code using this dataframe.\"\n",
              "            style=\"display:none;\">\n",
              "\n",
              "  <svg xmlns=\"http://www.w3.org/2000/svg\" height=\"24px\"viewBox=\"0 0 24 24\"\n",
              "       width=\"24px\">\n",
              "    <path d=\"M7,19H8.4L18.45,9,17,7.55,7,17.6ZM5,21V16.75L18.45,3.32a2,2,0,0,1,2.83,0l1.4,1.43a1.91,1.91,0,0,1,.58,1.4,1.91,1.91,0,0,1-.58,1.4L9.25,21ZM18.45,9,17,7.55Zm-12,3A5.31,5.31,0,0,0,4.9,8.1,5.31,5.31,0,0,0,1,6.5,5.31,5.31,0,0,0,4.9,4.9,5.31,5.31,0,0,0,6.5,1,5.31,5.31,0,0,0,8.1,4.9,5.31,5.31,0,0,0,12,6.5,5.46,5.46,0,0,0,6.5,12Z\"/>\n",
              "  </svg>\n",
              "    </button>\n",
              "    <script>\n",
              "      (() => {\n",
              "      const buttonEl =\n",
              "        document.querySelector('#id_2ef3f9d6-29ab-46d3-b769-908e825d1f37 button.colab-df-generate');\n",
              "      buttonEl.style.display =\n",
              "        google.colab.kernel.accessAllowed ? 'block' : 'none';\n",
              "\n",
              "      buttonEl.onclick = () => {\n",
              "        google.colab.notebook.generateWithVariable('correlation');\n",
              "      }\n",
              "      })();\n",
              "    </script>\n",
              "  </div>\n",
              "\n",
              "    </div>\n",
              "  </div>\n"
            ],
            "application/vnd.google.colaboratory.intrinsic+json": {
              "type": "dataframe",
              "variable_name": "correlation",
              "summary": "{\n  \"name\": \"correlation\",\n  \"rows\": 7,\n  \"fields\": [\n    {\n      \"column\": \"age\",\n      \"properties\": {\n        \"dtype\": \"number\",\n        \"std\": 0.37043040901003815,\n        \"min\": -0.02501875153628507,\n        \"max\": 1.0,\n        \"num_unique_values\": 7,\n        \"samples\": [\n          1.0,\n          -0.020855872182863337,\n          -0.0026126187974071942\n        ],\n        \"semantic_type\": \"\",\n        \"description\": \"\"\n      }\n    },\n    {\n      \"column\": \"sex\",\n      \"properties\": {\n        \"dtype\": \"number\",\n        \"std\": 0.367713713002035,\n        \"min\": -0.020855872182863337,\n        \"max\": 1.0,\n        \"num_unique_values\": 7,\n        \"samples\": [\n          -0.020855872182863337,\n          1.0,\n          0.009346460807266484\n        ],\n        \"semantic_type\": \"\",\n        \"description\": \"\"\n      }\n    },\n    {\n      \"column\": \"bmi\",\n      \"properties\": {\n        \"dtype\": \"number\",\n        \"std\": 0.35742404738007927,\n        \"min\": 0.0037504259049804325,\n        \"max\": 1.0,\n        \"num_unique_values\": 7,\n        \"samples\": [\n          0.1092718815485351,\n          0.046371150646294546,\n          0.05442825623947714\n        ],\n        \"semantic_type\": \"\",\n        \"description\": \"\"\n      }\n    },\n    {\n      \"column\": \"children\",\n      \"properties\": {\n        \"dtype\": \"number\",\n        \"std\": 0.3723375226610603,\n        \"min\": -0.03661673855589082,\n        \"max\": 1.0,\n        \"num_unique_values\": 7,\n        \"samples\": [\n          0.04246899855884958,\n          0.017162977748757323,\n          -0.03661673855589082\n        ],\n        \"semantic_type\": \"\",\n        \"description\": \"\"\n      }\n    },\n    {\n      \"column\": \"smoker\",\n      \"properties\": {\n        \"dtype\": \"number\",\n        \"std\": 0.4312330141229494,\n        \"min\": -0.02501875153628507,\n        \"max\": 1.0,\n        \"num_unique_values\": 7,\n        \"samples\": [\n          -0.02501875153628507,\n          0.07618481692109509,\n          0.04412379120346612\n        ],\n        \"semantic_type\": \"\",\n        \"description\": \"\"\n      }\n    },\n    {\n      \"column\": \"region\",\n      \"properties\": {\n        \"dtype\": \"number\",\n        \"std\": 0.3719364410535614,\n        \"min\": -0.03661673855589082,\n        \"max\": 1.0,\n        \"num_unique_values\": 7,\n        \"samples\": [\n          -0.0026126187974071942,\n          0.009346460807266484,\n          1.0\n        ],\n        \"semantic_type\": \"\",\n        \"description\": \"\"\n      }\n    },\n    {\n      \"column\": \"charges\",\n      \"properties\": {\n        \"dtype\": \"number\",\n        \"std\": 0.3860790264144188,\n        \"min\": 0.05022619604539934,\n        \"max\": 1.0,\n        \"num_unique_values\": 7,\n        \"samples\": [\n          0.299008193330648,\n          0.05729206220202543,\n          0.05022619604539934\n        ],\n        \"semantic_type\": \"\",\n        \"description\": \"\"\n      }\n    }\n  ]\n}"
            }
          },
          "metadata": {},
          "execution_count": 13
        }
      ]
    },
    {
      "cell_type": "code",
      "source": [
        "correlation['charges'].sort_values(ascending=False)"
      ],
      "metadata": {
        "colab": {
          "base_uri": "https://localhost:8080/"
        },
        "id": "G2Ax-ucU5ORQ",
        "outputId": "36f22313-7b22-4f72-b447-ee7c4cbae08d"
      },
      "execution_count": 14,
      "outputs": [
        {
          "output_type": "execute_result",
          "data": {
            "text/plain": [
              "charges     1.000000\n",
              "smoker      0.787251\n",
              "age         0.299008\n",
              "bmi         0.198341\n",
              "children    0.067998\n",
              "sex         0.057292\n",
              "region      0.050226\n",
              "Name: charges, dtype: float64"
            ]
          },
          "metadata": {},
          "execution_count": 14
        }
      ]
    },
    {
      "cell_type": "code",
      "source": [
        "factor_to_be_removed=['region','sex','children']"
      ],
      "metadata": {
        "id": "dAT5BBUk5jKA"
      },
      "execution_count": 15,
      "outputs": []
    },
    {
      "cell_type": "code",
      "source": [
        "for j in factor_to_be_removed:\n",
        "  del dev[j]"
      ],
      "metadata": {
        "id": "-Ga4VH865x-c"
      },
      "execution_count": 16,
      "outputs": []
    },
    {
      "cell_type": "code",
      "source": [
        "dev"
      ],
      "metadata": {
        "colab": {
          "base_uri": "https://localhost:8080/",
          "height": 423
        },
        "id": "Qbv6MTJj51Qa",
        "outputId": "f2edda07-4ed5-4077-e943-98914f92e745"
      },
      "execution_count": 17,
      "outputs": [
        {
          "output_type": "execute_result",
          "data": {
            "text/plain": [
              "      age     bmi  smoker      charges\n",
              "0      19  27.900       1  16884.92400\n",
              "1      18  33.770       0   1725.55230\n",
              "2      28  33.000       0   4449.46200\n",
              "3      33  22.705       0  21984.47061\n",
              "4      32  28.880       0   3866.85520\n",
              "...   ...     ...     ...          ...\n",
              "1333   50  30.970       0  10600.54830\n",
              "1334   18  31.920       0   2205.98080\n",
              "1335   18  36.850       0   1629.83350\n",
              "1336   21  25.800       0   2007.94500\n",
              "1337   61  29.070       1  29141.36030\n",
              "\n",
              "[1338 rows x 4 columns]"
            ],
            "text/html": [
              "\n",
              "  <div id=\"df-587e6593-dda7-4656-b5ae-b89b8f58f9f9\" class=\"colab-df-container\">\n",
              "    <div>\n",
              "<style scoped>\n",
              "    .dataframe tbody tr th:only-of-type {\n",
              "        vertical-align: middle;\n",
              "    }\n",
              "\n",
              "    .dataframe tbody tr th {\n",
              "        vertical-align: top;\n",
              "    }\n",
              "\n",
              "    .dataframe thead th {\n",
              "        text-align: right;\n",
              "    }\n",
              "</style>\n",
              "<table border=\"1\" class=\"dataframe\">\n",
              "  <thead>\n",
              "    <tr style=\"text-align: right;\">\n",
              "      <th></th>\n",
              "      <th>age</th>\n",
              "      <th>bmi</th>\n",
              "      <th>smoker</th>\n",
              "      <th>charges</th>\n",
              "    </tr>\n",
              "  </thead>\n",
              "  <tbody>\n",
              "    <tr>\n",
              "      <th>0</th>\n",
              "      <td>19</td>\n",
              "      <td>27.900</td>\n",
              "      <td>1</td>\n",
              "      <td>16884.92400</td>\n",
              "    </tr>\n",
              "    <tr>\n",
              "      <th>1</th>\n",
              "      <td>18</td>\n",
              "      <td>33.770</td>\n",
              "      <td>0</td>\n",
              "      <td>1725.55230</td>\n",
              "    </tr>\n",
              "    <tr>\n",
              "      <th>2</th>\n",
              "      <td>28</td>\n",
              "      <td>33.000</td>\n",
              "      <td>0</td>\n",
              "      <td>4449.46200</td>\n",
              "    </tr>\n",
              "    <tr>\n",
              "      <th>3</th>\n",
              "      <td>33</td>\n",
              "      <td>22.705</td>\n",
              "      <td>0</td>\n",
              "      <td>21984.47061</td>\n",
              "    </tr>\n",
              "    <tr>\n",
              "      <th>4</th>\n",
              "      <td>32</td>\n",
              "      <td>28.880</td>\n",
              "      <td>0</td>\n",
              "      <td>3866.85520</td>\n",
              "    </tr>\n",
              "    <tr>\n",
              "      <th>...</th>\n",
              "      <td>...</td>\n",
              "      <td>...</td>\n",
              "      <td>...</td>\n",
              "      <td>...</td>\n",
              "    </tr>\n",
              "    <tr>\n",
              "      <th>1333</th>\n",
              "      <td>50</td>\n",
              "      <td>30.970</td>\n",
              "      <td>0</td>\n",
              "      <td>10600.54830</td>\n",
              "    </tr>\n",
              "    <tr>\n",
              "      <th>1334</th>\n",
              "      <td>18</td>\n",
              "      <td>31.920</td>\n",
              "      <td>0</td>\n",
              "      <td>2205.98080</td>\n",
              "    </tr>\n",
              "    <tr>\n",
              "      <th>1335</th>\n",
              "      <td>18</td>\n",
              "      <td>36.850</td>\n",
              "      <td>0</td>\n",
              "      <td>1629.83350</td>\n",
              "    </tr>\n",
              "    <tr>\n",
              "      <th>1336</th>\n",
              "      <td>21</td>\n",
              "      <td>25.800</td>\n",
              "      <td>0</td>\n",
              "      <td>2007.94500</td>\n",
              "    </tr>\n",
              "    <tr>\n",
              "      <th>1337</th>\n",
              "      <td>61</td>\n",
              "      <td>29.070</td>\n",
              "      <td>1</td>\n",
              "      <td>29141.36030</td>\n",
              "    </tr>\n",
              "  </tbody>\n",
              "</table>\n",
              "<p>1338 rows × 4 columns</p>\n",
              "</div>\n",
              "    <div class=\"colab-df-buttons\">\n",
              "\n",
              "  <div class=\"colab-df-container\">\n",
              "    <button class=\"colab-df-convert\" onclick=\"convertToInteractive('df-587e6593-dda7-4656-b5ae-b89b8f58f9f9')\"\n",
              "            title=\"Convert this dataframe to an interactive table.\"\n",
              "            style=\"display:none;\">\n",
              "\n",
              "  <svg xmlns=\"http://www.w3.org/2000/svg\" height=\"24px\" viewBox=\"0 -960 960 960\">\n",
              "    <path d=\"M120-120v-720h720v720H120Zm60-500h600v-160H180v160Zm220 220h160v-160H400v160Zm0 220h160v-160H400v160ZM180-400h160v-160H180v160Zm440 0h160v-160H620v160ZM180-180h160v-160H180v160Zm440 0h160v-160H620v160Z\"/>\n",
              "  </svg>\n",
              "    </button>\n",
              "\n",
              "  <style>\n",
              "    .colab-df-container {\n",
              "      display:flex;\n",
              "      gap: 12px;\n",
              "    }\n",
              "\n",
              "    .colab-df-convert {\n",
              "      background-color: #E8F0FE;\n",
              "      border: none;\n",
              "      border-radius: 50%;\n",
              "      cursor: pointer;\n",
              "      display: none;\n",
              "      fill: #1967D2;\n",
              "      height: 32px;\n",
              "      padding: 0 0 0 0;\n",
              "      width: 32px;\n",
              "    }\n",
              "\n",
              "    .colab-df-convert:hover {\n",
              "      background-color: #E2EBFA;\n",
              "      box-shadow: 0px 1px 2px rgba(60, 64, 67, 0.3), 0px 1px 3px 1px rgba(60, 64, 67, 0.15);\n",
              "      fill: #174EA6;\n",
              "    }\n",
              "\n",
              "    .colab-df-buttons div {\n",
              "      margin-bottom: 4px;\n",
              "    }\n",
              "\n",
              "    [theme=dark] .colab-df-convert {\n",
              "      background-color: #3B4455;\n",
              "      fill: #D2E3FC;\n",
              "    }\n",
              "\n",
              "    [theme=dark] .colab-df-convert:hover {\n",
              "      background-color: #434B5C;\n",
              "      box-shadow: 0px 1px 3px 1px rgba(0, 0, 0, 0.15);\n",
              "      filter: drop-shadow(0px 1px 2px rgba(0, 0, 0, 0.3));\n",
              "      fill: #FFFFFF;\n",
              "    }\n",
              "  </style>\n",
              "\n",
              "    <script>\n",
              "      const buttonEl =\n",
              "        document.querySelector('#df-587e6593-dda7-4656-b5ae-b89b8f58f9f9 button.colab-df-convert');\n",
              "      buttonEl.style.display =\n",
              "        google.colab.kernel.accessAllowed ? 'block' : 'none';\n",
              "\n",
              "      async function convertToInteractive(key) {\n",
              "        const element = document.querySelector('#df-587e6593-dda7-4656-b5ae-b89b8f58f9f9');\n",
              "        const dataTable =\n",
              "          await google.colab.kernel.invokeFunction('convertToInteractive',\n",
              "                                                    [key], {});\n",
              "        if (!dataTable) return;\n",
              "\n",
              "        const docLinkHtml = 'Like what you see? Visit the ' +\n",
              "          '<a target=\"_blank\" href=https://colab.research.google.com/notebooks/data_table.ipynb>data table notebook</a>'\n",
              "          + ' to learn more about interactive tables.';\n",
              "        element.innerHTML = '';\n",
              "        dataTable['output_type'] = 'display_data';\n",
              "        await google.colab.output.renderOutput(dataTable, element);\n",
              "        const docLink = document.createElement('div');\n",
              "        docLink.innerHTML = docLinkHtml;\n",
              "        element.appendChild(docLink);\n",
              "      }\n",
              "    </script>\n",
              "  </div>\n",
              "\n",
              "\n",
              "<div id=\"df-78907e80-e9e3-41da-851a-d075d5b71d9a\">\n",
              "  <button class=\"colab-df-quickchart\" onclick=\"quickchart('df-78907e80-e9e3-41da-851a-d075d5b71d9a')\"\n",
              "            title=\"Suggest charts\"\n",
              "            style=\"display:none;\">\n",
              "\n",
              "<svg xmlns=\"http://www.w3.org/2000/svg\" height=\"24px\"viewBox=\"0 0 24 24\"\n",
              "     width=\"24px\">\n",
              "    <g>\n",
              "        <path d=\"M19 3H5c-1.1 0-2 .9-2 2v14c0 1.1.9 2 2 2h14c1.1 0 2-.9 2-2V5c0-1.1-.9-2-2-2zM9 17H7v-7h2v7zm4 0h-2V7h2v10zm4 0h-2v-4h2v4z\"/>\n",
              "    </g>\n",
              "</svg>\n",
              "  </button>\n",
              "\n",
              "<style>\n",
              "  .colab-df-quickchart {\n",
              "      --bg-color: #E8F0FE;\n",
              "      --fill-color: #1967D2;\n",
              "      --hover-bg-color: #E2EBFA;\n",
              "      --hover-fill-color: #174EA6;\n",
              "      --disabled-fill-color: #AAA;\n",
              "      --disabled-bg-color: #DDD;\n",
              "  }\n",
              "\n",
              "  [theme=dark] .colab-df-quickchart {\n",
              "      --bg-color: #3B4455;\n",
              "      --fill-color: #D2E3FC;\n",
              "      --hover-bg-color: #434B5C;\n",
              "      --hover-fill-color: #FFFFFF;\n",
              "      --disabled-bg-color: #3B4455;\n",
              "      --disabled-fill-color: #666;\n",
              "  }\n",
              "\n",
              "  .colab-df-quickchart {\n",
              "    background-color: var(--bg-color);\n",
              "    border: none;\n",
              "    border-radius: 50%;\n",
              "    cursor: pointer;\n",
              "    display: none;\n",
              "    fill: var(--fill-color);\n",
              "    height: 32px;\n",
              "    padding: 0;\n",
              "    width: 32px;\n",
              "  }\n",
              "\n",
              "  .colab-df-quickchart:hover {\n",
              "    background-color: var(--hover-bg-color);\n",
              "    box-shadow: 0 1px 2px rgba(60, 64, 67, 0.3), 0 1px 3px 1px rgba(60, 64, 67, 0.15);\n",
              "    fill: var(--button-hover-fill-color);\n",
              "  }\n",
              "\n",
              "  .colab-df-quickchart-complete:disabled,\n",
              "  .colab-df-quickchart-complete:disabled:hover {\n",
              "    background-color: var(--disabled-bg-color);\n",
              "    fill: var(--disabled-fill-color);\n",
              "    box-shadow: none;\n",
              "  }\n",
              "\n",
              "  .colab-df-spinner {\n",
              "    border: 2px solid var(--fill-color);\n",
              "    border-color: transparent;\n",
              "    border-bottom-color: var(--fill-color);\n",
              "    animation:\n",
              "      spin 1s steps(1) infinite;\n",
              "  }\n",
              "\n",
              "  @keyframes spin {\n",
              "    0% {\n",
              "      border-color: transparent;\n",
              "      border-bottom-color: var(--fill-color);\n",
              "      border-left-color: var(--fill-color);\n",
              "    }\n",
              "    20% {\n",
              "      border-color: transparent;\n",
              "      border-left-color: var(--fill-color);\n",
              "      border-top-color: var(--fill-color);\n",
              "    }\n",
              "    30% {\n",
              "      border-color: transparent;\n",
              "      border-left-color: var(--fill-color);\n",
              "      border-top-color: var(--fill-color);\n",
              "      border-right-color: var(--fill-color);\n",
              "    }\n",
              "    40% {\n",
              "      border-color: transparent;\n",
              "      border-right-color: var(--fill-color);\n",
              "      border-top-color: var(--fill-color);\n",
              "    }\n",
              "    60% {\n",
              "      border-color: transparent;\n",
              "      border-right-color: var(--fill-color);\n",
              "    }\n",
              "    80% {\n",
              "      border-color: transparent;\n",
              "      border-right-color: var(--fill-color);\n",
              "      border-bottom-color: var(--fill-color);\n",
              "    }\n",
              "    90% {\n",
              "      border-color: transparent;\n",
              "      border-bottom-color: var(--fill-color);\n",
              "    }\n",
              "  }\n",
              "</style>\n",
              "\n",
              "  <script>\n",
              "    async function quickchart(key) {\n",
              "      const quickchartButtonEl =\n",
              "        document.querySelector('#' + key + ' button');\n",
              "      quickchartButtonEl.disabled = true;  // To prevent multiple clicks.\n",
              "      quickchartButtonEl.classList.add('colab-df-spinner');\n",
              "      try {\n",
              "        const charts = await google.colab.kernel.invokeFunction(\n",
              "            'suggestCharts', [key], {});\n",
              "      } catch (error) {\n",
              "        console.error('Error during call to suggestCharts:', error);\n",
              "      }\n",
              "      quickchartButtonEl.classList.remove('colab-df-spinner');\n",
              "      quickchartButtonEl.classList.add('colab-df-quickchart-complete');\n",
              "    }\n",
              "    (() => {\n",
              "      let quickchartButtonEl =\n",
              "        document.querySelector('#df-78907e80-e9e3-41da-851a-d075d5b71d9a button');\n",
              "      quickchartButtonEl.style.display =\n",
              "        google.colab.kernel.accessAllowed ? 'block' : 'none';\n",
              "    })();\n",
              "  </script>\n",
              "</div>\n",
              "\n",
              "  <div id=\"id_7c5cbfa0-eb89-48ef-9c18-50a43d572c1d\">\n",
              "    <style>\n",
              "      .colab-df-generate {\n",
              "        background-color: #E8F0FE;\n",
              "        border: none;\n",
              "        border-radius: 50%;\n",
              "        cursor: pointer;\n",
              "        display: none;\n",
              "        fill: #1967D2;\n",
              "        height: 32px;\n",
              "        padding: 0 0 0 0;\n",
              "        width: 32px;\n",
              "      }\n",
              "\n",
              "      .colab-df-generate:hover {\n",
              "        background-color: #E2EBFA;\n",
              "        box-shadow: 0px 1px 2px rgba(60, 64, 67, 0.3), 0px 1px 3px 1px rgba(60, 64, 67, 0.15);\n",
              "        fill: #174EA6;\n",
              "      }\n",
              "\n",
              "      [theme=dark] .colab-df-generate {\n",
              "        background-color: #3B4455;\n",
              "        fill: #D2E3FC;\n",
              "      }\n",
              "\n",
              "      [theme=dark] .colab-df-generate:hover {\n",
              "        background-color: #434B5C;\n",
              "        box-shadow: 0px 1px 3px 1px rgba(0, 0, 0, 0.15);\n",
              "        filter: drop-shadow(0px 1px 2px rgba(0, 0, 0, 0.3));\n",
              "        fill: #FFFFFF;\n",
              "      }\n",
              "    </style>\n",
              "    <button class=\"colab-df-generate\" onclick=\"generateWithVariable('dev')\"\n",
              "            title=\"Generate code using this dataframe.\"\n",
              "            style=\"display:none;\">\n",
              "\n",
              "  <svg xmlns=\"http://www.w3.org/2000/svg\" height=\"24px\"viewBox=\"0 0 24 24\"\n",
              "       width=\"24px\">\n",
              "    <path d=\"M7,19H8.4L18.45,9,17,7.55,7,17.6ZM5,21V16.75L18.45,3.32a2,2,0,0,1,2.83,0l1.4,1.43a1.91,1.91,0,0,1,.58,1.4,1.91,1.91,0,0,1-.58,1.4L9.25,21ZM18.45,9,17,7.55Zm-12,3A5.31,5.31,0,0,0,4.9,8.1,5.31,5.31,0,0,0,1,6.5,5.31,5.31,0,0,0,4.9,4.9,5.31,5.31,0,0,0,6.5,1,5.31,5.31,0,0,0,8.1,4.9,5.31,5.31,0,0,0,12,6.5,5.46,5.46,0,0,0,6.5,12Z\"/>\n",
              "  </svg>\n",
              "    </button>\n",
              "    <script>\n",
              "      (() => {\n",
              "      const buttonEl =\n",
              "        document.querySelector('#id_7c5cbfa0-eb89-48ef-9c18-50a43d572c1d button.colab-df-generate');\n",
              "      buttonEl.style.display =\n",
              "        google.colab.kernel.accessAllowed ? 'block' : 'none';\n",
              "\n",
              "      buttonEl.onclick = () => {\n",
              "        google.colab.notebook.generateWithVariable('dev');\n",
              "      }\n",
              "      })();\n",
              "    </script>\n",
              "  </div>\n",
              "\n",
              "    </div>\n",
              "  </div>\n"
            ],
            "application/vnd.google.colaboratory.intrinsic+json": {
              "type": "dataframe",
              "variable_name": "dev",
              "summary": "{\n  \"name\": \"dev\",\n  \"rows\": 1338,\n  \"fields\": [\n    {\n      \"column\": \"age\",\n      \"properties\": {\n        \"dtype\": \"number\",\n        \"std\": 14,\n        \"min\": 18,\n        \"max\": 64,\n        \"num_unique_values\": 47,\n        \"samples\": [\n          21,\n          45,\n          36\n        ],\n        \"semantic_type\": \"\",\n        \"description\": \"\"\n      }\n    },\n    {\n      \"column\": \"bmi\",\n      \"properties\": {\n        \"dtype\": \"number\",\n        \"std\": 6.098186911679014,\n        \"min\": 15.96,\n        \"max\": 53.13,\n        \"num_unique_values\": 548,\n        \"samples\": [\n          23.18,\n          26.885,\n          29.26\n        ],\n        \"semantic_type\": \"\",\n        \"description\": \"\"\n      }\n    },\n    {\n      \"column\": \"smoker\",\n      \"properties\": {\n        \"dtype\": \"number\",\n        \"std\": 0,\n        \"min\": 0,\n        \"max\": 1,\n        \"num_unique_values\": 2,\n        \"samples\": [\n          0,\n          1\n        ],\n        \"semantic_type\": \"\",\n        \"description\": \"\"\n      }\n    },\n    {\n      \"column\": \"charges\",\n      \"properties\": {\n        \"dtype\": \"number\",\n        \"std\": 12110.011236694001,\n        \"min\": 1121.8739,\n        \"max\": 63770.42801,\n        \"num_unique_values\": 1337,\n        \"samples\": [\n          8688.85885,\n          5708.867\n        ],\n        \"semantic_type\": \"\",\n        \"description\": \"\"\n      }\n    }\n  ]\n}"
            }
          },
          "metadata": {},
          "execution_count": 17
        }
      ]
    },
    {
      "cell_type": "code",
      "source": [
        "harsh=dev.charges\n",
        "dev.drop('charges',axis=1,inplace=True)"
      ],
      "metadata": {
        "id": "p34jOB9U55kz"
      },
      "execution_count": 18,
      "outputs": []
    },
    {
      "cell_type": "markdown",
      "source": [
        "**normalization**"
      ],
      "metadata": {
        "id": "6-URXgZZ6baH"
      }
    },
    {
      "cell_type": "code",
      "source": [
        "for i in dev.columns:\n",
        "  dev[i]=(dev[i]/dev[i].max())"
      ],
      "metadata": {
        "id": "u8wmCbEU6Zg2"
      },
      "execution_count": 19,
      "outputs": []
    },
    {
      "cell_type": "code",
      "source": [
        ""
      ],
      "metadata": {
        "id": "k0MzzV3Q9ZQs"
      },
      "execution_count": 19,
      "outputs": []
    },
    {
      "cell_type": "code",
      "source": [
        "from sklearn.model_selection import train_test_split"
      ],
      "metadata": {
        "id": "23uYVps07rW8"
      },
      "execution_count": 20,
      "outputs": []
    },
    {
      "cell_type": "code",
      "source": [
        "xtrain,xtest,ytrain,ytest=train_test_split(dev,harsh,test_size=0.2)"
      ],
      "metadata": {
        "id": "kgSULd7q7QZo"
      },
      "execution_count": 21,
      "outputs": []
    },
    {
      "cell_type": "markdown",
      "source": [
        "**after normalization**"
      ],
      "metadata": {
        "id": "OlAXtjBsUwqe"
      }
    },
    {
      "cell_type": "code",
      "source": [
        "import matplotlib.pyplot as plt"
      ],
      "metadata": {
        "id": "Ba8UFprU8dlJ"
      },
      "execution_count": 22,
      "outputs": []
    },
    {
      "cell_type": "code",
      "source": [
        "dev,(harsh1,harsh2,harsh3)=matplotlib.pyplot.subplots(ncols=3,nrows=1)\n",
        "harsh1.hist(xtrain['age'])\n",
        "harsh2.hist(xtrain['bmi'])\n",
        "harsh3.hist(xtrain['smoker'])\n",
        "harsh1.set_title('age')\n",
        "harsh2.set_title('bmi')\n",
        "harsh3.set_title('smoker')"
      ],
      "metadata": {
        "colab": {
          "base_uri": "https://localhost:8080/",
          "height": 470
        },
        "id": "R6HGwZOE7vD8",
        "outputId": "50b0b554-0e4b-482a-f5b9-754ca464644d"
      },
      "execution_count": 23,
      "outputs": [
        {
          "output_type": "execute_result",
          "data": {
            "text/plain": [
              "Text(0.5, 1.0, 'smoker')"
            ]
          },
          "metadata": {},
          "execution_count": 23
        },
        {
          "output_type": "display_data",
          "data": {
            "text/plain": [
              "<Figure size 640x480 with 3 Axes>"
            ],
            "image/png": "[encoded data removed]"
          },
          "metadata": {}
        }
      ]
    },
    {
      "cell_type": "code",
      "source": [],
      "metadata": {
        "id": "uUAQrttJUtwF"
      },
      "execution_count": null,
      "outputs": []
    },
    {
      "cell_type": "markdown",
      "source": [
        "**SGD Regressor**"
      ],
      "metadata": {
        "id": "kTXOXALLU0re"
      }
    },
    {
      "cell_type": "code",
      "source": [
        "import numpy as np\n",
        "from sklearn.linear_model import SGDRegressor\n",
        "from sklearn.pipeline import make_pipeline\n",
        "from sklearn.preprocessing import StandardScaler\n",
        "n_samples, n_features = 10, 5\n",
        "rng = np.random.RandomState(0)\n",
        "y = rng.randn(n_samples)\n",
        "X = rng.randn(n_samples, n_features)\n",
        "model1= make_pipeline(StandardScaler(),\n",
        "                    SGDRegressor(max_iter=1000, tol=1e-3))\n",
        "model1.fit(xtrain, ytrain)"
      ],
      "metadata": {
        "colab": {
          "base_uri": "https://localhost:8080/",
          "height": 125
        },
        "id": "PjbTAJns9T2e",
        "outputId": "e7d3ab0a-4c58-4b4c-e60b-139a0e7973ba"
      },
      "execution_count": 24,
      "outputs": [
        {
          "output_type": "execute_result",
          "data": {
            "text/plain": [
              "Pipeline(steps=[('standardscaler', StandardScaler()),\n",
              "                ('sgdregressor', SGDRegressor())])"
            ],
            "text/html": [
              "<style>#sk-container-id-1 {color: black;background-color: white;}#sk-container-id-1 pre{padding: 0;}#sk-container-id-1 div.sk-toggleable {background-color: white;}#sk-container-id-1 label.sk-toggleable__label {cursor: pointer;display: block;width: 100%;margin-bottom: 0;padding: 0.3em;box-sizing: border-box;text-align: center;}#sk-container-id-1 label.sk-toggleable__label-arrow:before {content: \"▸\";float: left;margin-right: 0.25em;color: #696969;}#sk-container-id-1 label.sk-toggleable__label-arrow:hover:before {color: black;}#sk-container-id-1 div.sk-estimator:hover label.sk-toggleable__label-arrow:before {color: black;}#sk-container-id-1 div.sk-toggleable__content {max-height: 0;max-width: 0;overflow: hidden;text-align: left;background-color: #f0f8ff;}#sk-container-id-1 div.sk-toggleable__content pre {margin: 0.2em;color: black;border-radius: 0.25em;background-color: #f0f8ff;}#sk-container-id-1 input.sk-toggleable__control:checked~div.sk-toggleable__content {max-height: 200px;max-width: 100%;overflow: auto;}#sk-container-id-1 input.sk-toggleable__control:checked~label.sk-toggleable__label-arrow:before {content: \"▾\";}#sk-container-id-1 div.sk-estimator input.sk-toggleable__control:checked~label.sk-toggleable__label {background-color: #d4ebff;}#sk-container-id-1 div.sk-label input.sk-toggleable__control:checked~label.sk-toggleable__label {background-color: #d4ebff;}#sk-container-id-1 input.sk-hidden--visually {border: 0;clip: rect(1px 1px 1px 1px);clip: rect(1px, 1px, 1px, 1px);height: 1px;margin: -1px;overflow: hidden;padding: 0;position: absolute;width: 1px;}#sk-container-id-1 div.sk-estimator {font-family: monospace;background-color: #f0f8ff;border: 1px dotted black;border-radius: 0.25em;box-sizing: border-box;margin-bottom: 0.5em;}#sk-container-id-1 div.sk-estimator:hover {background-color: #d4ebff;}#sk-container-id-1 div.sk-parallel-item::after {content: \"\";width: 100%;border-bottom: 1px solid gray;flex-grow: 1;}#sk-container-id-1 div.sk-label:hover label.sk-toggleable__label {background-color: #d4ebff;}#sk-container-id-1 div.sk-serial::before {content: \"\";position: absolute;border-left: 1px solid gray;box-sizing: border-box;top: 0;bottom: 0;left: 50%;z-index: 0;}#sk-container-id-1 div.sk-serial {display: flex;flex-direction: column;align-items: center;background-color: white;padding-right: 0.2em;padding-left: 0.2em;position: relative;}#sk-container-id-1 div.sk-item {position: relative;z-index: 1;}#sk-container-id-1 div.sk-parallel {display: flex;align-items: stretch;justify-content: center;background-color: white;position: relative;}#sk-container-id-1 div.sk-item::before, #sk-container-id-1 div.sk-parallel-item::before {content: \"\";position: absolute;border-left: 1px solid gray;box-sizing: border-box;top: 0;bottom: 0;left: 50%;z-index: -1;}#sk-container-id-1 div.sk-parallel-item {display: flex;flex-direction: column;z-index: 1;position: relative;background-color: white;}#sk-container-id-1 div.sk-parallel-item:first-child::after {align-self: flex-end;width: 50%;}#sk-container-id-1 div.sk-parallel-item:last-child::after {align-self: flex-start;width: 50%;}#sk-container-id-1 div.sk-parallel-item:only-child::after {width: 0;}#sk-container-id-1 div.sk-dashed-wrapped {border: 1px dashed gray;margin: 0 0.4em 0.5em 0.4em;box-sizing: border-box;padding-bottom: 0.4em;background-color: white;}#sk-container-id-1 div.sk-label label {font-family: monospace;font-weight: bold;display: inline-block;line-height: 1.2em;}#sk-container-id-1 div.sk-label-container {text-align: center;}#sk-container-id-1 div.sk-container {/* jupyter's `normalize.less` sets `[hidden] { display: none; }` but bootstrap.min.css set `[hidden] { display: none !important; }` so we also need the `!important` here to be able to override the default hidden behavior on the sphinx rendered scikit-learn.org. See: https://github.com/scikit-learn/scikit-learn/issues/21755 */display: inline-block !important;position: relative;}#sk-container-id-1 div.sk-text-repr-fallback {display: none;}</style><div id=\"sk-container-id-1\" class=\"sk-top-container\"><div class=\"sk-text-repr-fallback\"><pre>Pipeline(steps=[(&#x27;standardscaler&#x27;, StandardScaler()),\n",
              "                (&#x27;sgdregressor&#x27;, SGDRegressor())])</pre><b>In a Jupyter environment, please rerun this cell to show the HTML representation or trust the notebook. <br />On GitHub, the HTML representation is unable to render, please try loading this page with nbviewer.org.</b></div><div class=\"sk-container\" hidden><div class=\"sk-item sk-dashed-wrapped\"><div class=\"sk-label-container\"><div class=\"sk-label sk-toggleable\"><input class=\"sk-toggleable__control sk-hidden--visually\" id=\"sk-estimator-id-1\" type=\"checkbox\" ><label for=\"sk-estimator-id-1\" class=\"sk-toggleable__label sk-toggleable__label-arrow\">Pipeline</label><div class=\"sk-toggleable__content\"><pre>Pipeline(steps=[(&#x27;standardscaler&#x27;, StandardScaler()),\n",
              "                (&#x27;sgdregressor&#x27;, SGDRegressor())])</pre></div></div></div><div class=\"sk-serial\"><div class=\"sk-item\"><div class=\"sk-estimator sk-toggleable\"><input class=\"sk-toggleable__control sk-hidden--visually\" id=\"sk-estimator-id-2\" type=\"checkbox\" ><label for=\"sk-estimator-id-2\" class=\"sk-toggleable__label sk-toggleable__label-arrow\">StandardScaler</label><div class=\"sk-toggleable__content\"><pre>StandardScaler()</pre></div></div></div><div class=\"sk-item\"><div class=\"sk-estimator sk-toggleable\"><input class=\"sk-toggleable__control sk-hidden--visually\" id=\"sk-estimator-id-3\" type=\"checkbox\" ><label for=\"sk-estimator-id-3\" class=\"sk-toggleable__label sk-toggleable__label-arrow\">SGDRegressor</label><div class=\"sk-toggleable__content\"><pre>SGDRegressor()</pre></div></div></div></div></div></div></div>"
            ]
          },
          "metadata": {},
          "execution_count": 24
        }
      ]
    },
    {
      "cell_type": "code",
      "source": [
        "model1_score=model1.score(xtest,ytest)"
      ],
      "metadata": {
        "id": "1L1ITHagEbo6"
      },
      "execution_count": 25,
      "outputs": []
    },
    {
      "cell_type": "code",
      "source": [
        "model1_score"
      ],
      "metadata": {
        "colab": {
          "base_uri": "https://localhost:8080/"
        },
        "id": "VOb4zwOzEh32",
        "outputId": "8bfd7bfc-433b-41af-ed58-5f72e2779e5f"
      },
      "execution_count": 26,
      "outputs": [
        {
          "output_type": "execute_result",
          "data": {
            "text/plain": [
              "0.7185493576492381"
            ]
          },
          "metadata": {},
          "execution_count": 26
        }
      ]
    },
    {
      "cell_type": "markdown",
      "source": [
        "**Lasso**"
      ],
      "metadata": {
        "id": "jOuDkxzXU5WJ"
      }
    },
    {
      "cell_type": "code",
      "source": [
        "from sklearn import linear_model\n",
        "model2 = linear_model.Lasso(alpha=0.1)\n",
        "model2.fit(xtrain,ytrain)"
      ],
      "metadata": {
        "colab": {
          "base_uri": "https://localhost:8080/",
          "height": 74
        },
        "id": "UIBCDo3pElNh",
        "outputId": "9cb6c101-1275-4032-a98f-6f081bfbb324"
      },
      "execution_count": 27,
      "outputs": [
        {
          "output_type": "execute_result",
          "data": {
            "text/plain": [
              "Lasso(alpha=0.1)"
            ],
            "text/html": [
              "<style>#sk-container-id-2 {color: black;background-color: white;}#sk-container-id-2 pre{padding: 0;}#sk-container-id-2 div.sk-toggleable {background-color: white;}#sk-container-id-2 label.sk-toggleable__label {cursor: pointer;display: block;width: 100%;margin-bottom: 0;padding: 0.3em;box-sizing: border-box;text-align: center;}#sk-container-id-2 label.sk-toggleable__label-arrow:before {content: \"▸\";float: left;margin-right: 0.25em;color: #696969;}#sk-container-id-2 label.sk-toggleable__label-arrow:hover:before {color: black;}#sk-container-id-2 div.sk-estimator:hover label.sk-toggleable__label-arrow:before {color: black;}#sk-container-id-2 div.sk-toggleable__content {max-height: 0;max-width: 0;overflow: hidden;text-align: left;background-color: #f0f8ff;}#sk-container-id-2 div.sk-toggleable__content pre {margin: 0.2em;color: black;border-radius: 0.25em;background-color: #f0f8ff;}#sk-container-id-2 input.sk-toggleable__control:checked~div.sk-toggleable__content {max-height: 200px;max-width: 100%;overflow: auto;}#sk-container-id-2 input.sk-toggleable__control:checked~label.sk-toggleable__label-arrow:before {content: \"▾\";}#sk-container-id-2 div.sk-estimator input.sk-toggleable__control:checked~label.sk-toggleable__label {background-color: #d4ebff;}#sk-container-id-2 div.sk-label input.sk-toggleable__control:checked~label.sk-toggleable__label {background-color: #d4ebff;}#sk-container-id-2 input.sk-hidden--visually {border: 0;clip: rect(1px 1px 1px 1px);clip: rect(1px, 1px, 1px, 1px);height: 1px;margin: -1px;overflow: hidden;padding: 0;position: absolute;width: 1px;}#sk-container-id-2 div.sk-estimator {font-family: monospace;background-color: #f0f8ff;border: 1px dotted black;border-radius: 0.25em;box-sizing: border-box;margin-bottom: 0.5em;}#sk-container-id-2 div.sk-estimator:hover {background-color: #d4ebff;}#sk-container-id-2 div.sk-parallel-item::after {content: \"\";width: 100%;border-bottom: 1px solid gray;flex-grow: 1;}#sk-container-id-2 div.sk-label:hover label.sk-toggleable__label {background-color: #d4ebff;}#sk-container-id-2 div.sk-serial::before {content: \"\";position: absolute;border-left: 1px solid gray;box-sizing: border-box;top: 0;bottom: 0;left: 50%;z-index: 0;}#sk-container-id-2 div.sk-serial {display: flex;flex-direction: column;align-items: center;background-color: white;padding-right: 0.2em;padding-left: 0.2em;position: relative;}#sk-container-id-2 div.sk-item {position: relative;z-index: 1;}#sk-container-id-2 div.sk-parallel {display: flex;align-items: stretch;justify-content: center;background-color: white;position: relative;}#sk-container-id-2 div.sk-item::before, #sk-container-id-2 div.sk-parallel-item::before {content: \"\";position: absolute;border-left: 1px solid gray;box-sizing: border-box;top: 0;bottom: 0;left: 50%;z-index: -1;}#sk-container-id-2 div.sk-parallel-item {display: flex;flex-direction: column;z-index: 1;position: relative;background-color: white;}#sk-container-id-2 div.sk-parallel-item:first-child::after {align-self: flex-end;width: 50%;}#sk-container-id-2 div.sk-parallel-item:last-child::after {align-self: flex-start;width: 50%;}#sk-container-id-2 div.sk-parallel-item:only-child::after {width: 0;}#sk-container-id-2 div.sk-dashed-wrapped {border: 1px dashed gray;margin: 0 0.4em 0.5em 0.4em;box-sizing: border-box;padding-bottom: 0.4em;background-color: white;}#sk-container-id-2 div.sk-label label {font-family: monospace;font-weight: bold;display: inline-block;line-height: 1.2em;}#sk-container-id-2 div.sk-label-container {text-align: center;}#sk-container-id-2 div.sk-container {/* jupyter's `normalize.less` sets `[hidden] { display: none; }` but bootstrap.min.css set `[hidden] { display: none !important; }` so we also need the `!important` here to be able to override the default hidden behavior on the sphinx rendered scikit-learn.org. See: https://github.com/scikit-learn/scikit-learn/issues/21755 */display: inline-block !important;position: relative;}#sk-container-id-2 div.sk-text-repr-fallback {display: none;}</style><div id=\"sk-container-id-2\" class=\"sk-top-container\"><div class=\"sk-text-repr-fallback\"><pre>Lasso(alpha=0.1)</pre><b>In a Jupyter environment, please rerun this cell to show the HTML representation or trust the notebook. <br />On GitHub, the HTML representation is unable to render, please try loading this page with nbviewer.org.</b></div><div class=\"sk-container\" hidden><div class=\"sk-item\"><div class=\"sk-estimator sk-toggleable\"><input class=\"sk-toggleable__control sk-hidden--visually\" id=\"sk-estimator-id-4\" type=\"checkbox\" checked><label for=\"sk-estimator-id-4\" class=\"sk-toggleable__label sk-toggleable__label-arrow\">Lasso</label><div class=\"sk-toggleable__content\"><pre>Lasso(alpha=0.1)</pre></div></div></div></div></div>"
            ]
          },
          "metadata": {},
          "execution_count": 27
        }
      ]
    },
    {
      "cell_type": "code",
      "source": [
        "model2_score=model2.score(xtest,ytest)"
      ],
      "metadata": {
        "id": "QoiSTwvdEqGq"
      },
      "execution_count": 28,
      "outputs": []
    },
    {
      "cell_type": "code",
      "source": [
        "model2_score"
      ],
      "metadata": {
        "colab": {
          "base_uri": "https://localhost:8080/"
        },
        "id": "cN8YVOcUE6xO",
        "outputId": "247c6602-754f-46da-a003-acf99b0b615d"
      },
      "execution_count": 29,
      "outputs": [
        {
          "output_type": "execute_result",
          "data": {
            "text/plain": [
              "0.7191056010635297"
            ]
          },
          "metadata": {},
          "execution_count": 29
        }
      ]
    },
    {
      "cell_type": "markdown",
      "source": [
        "**ElasticNet**"
      ],
      "metadata": {
        "id": "fjGHvSbhU8Pz"
      }
    },
    {
      "cell_type": "code",
      "source": [
        "from sklearn.linear_model import ElasticNet\n",
        "model3= ElasticNet(alpha=0.1)\n",
        "model3.fit(xtrain,ytrain)"
      ],
      "metadata": {
        "colab": {
          "base_uri": "https://localhost:8080/",
          "height": 74
        },
        "id": "otp0PhsYEtgF",
        "outputId": "538aad07-6541-4963-9d64-560bdd51b1be"
      },
      "execution_count": 30,
      "outputs": [
        {
          "output_type": "execute_result",
          "data": {
            "text/plain": [
              "ElasticNet(alpha=0.1)"
            ],
            "text/html": [
              "<style>#sk-container-id-3 {color: black;background-color: white;}#sk-container-id-3 pre{padding: 0;}#sk-container-id-3 div.sk-toggleable {background-color: white;}#sk-container-id-3 label.sk-toggleable__label {cursor: pointer;display: block;width: 100%;margin-bottom: 0;padding: 0.3em;box-sizing: border-box;text-align: center;}#sk-container-id-3 label.sk-toggleable__label-arrow:before {content: \"▸\";float: left;margin-right: 0.25em;color: #696969;}#sk-container-id-3 label.sk-toggleable__label-arrow:hover:before {color: black;}#sk-container-id-3 div.sk-estimator:hover label.sk-toggleable__label-arrow:before {color: black;}#sk-container-id-3 div.sk-toggleable__content {max-height: 0;max-width: 0;overflow: hidden;text-align: left;background-color: #f0f8ff;}#sk-container-id-3 div.sk-toggleable__content pre {margin: 0.2em;color: black;border-radius: 0.25em;background-color: #f0f8ff;}#sk-container-id-3 input.sk-toggleable__control:checked~div.sk-toggleable__content {max-height: 200px;max-width: 100%;overflow: auto;}#sk-container-id-3 input.sk-toggleable__control:checked~label.sk-toggleable__label-arrow:before {content: \"▾\";}#sk-container-id-3 div.sk-estimator input.sk-toggleable__control:checked~label.sk-toggleable__label {background-color: #d4ebff;}#sk-container-id-3 div.sk-label input.sk-toggleable__control:checked~label.sk-toggleable__label {background-color: #d4ebff;}#sk-container-id-3 input.sk-hidden--visually {border: 0;clip: rect(1px 1px 1px 1px);clip: rect(1px, 1px, 1px, 1px);height: 1px;margin: -1px;overflow: hidden;padding: 0;position: absolute;width: 1px;}#sk-container-id-3 div.sk-estimator {font-family: monospace;background-color: #f0f8ff;border: 1px dotted black;border-radius: 0.25em;box-sizing: border-box;margin-bottom: 0.5em;}#sk-container-id-3 div.sk-estimator:hover {background-color: #d4ebff;}#sk-container-id-3 div.sk-parallel-item::after {content: \"\";width: 100%;border-bottom: 1px solid gray;flex-grow: 1;}#sk-container-id-3 div.sk-label:hover label.sk-toggleable__label {background-color: #d4ebff;}#sk-container-id-3 div.sk-serial::before {content: \"\";position: absolute;border-left: 1px solid gray;box-sizing: border-box;top: 0;bottom: 0;left: 50%;z-index: 0;}#sk-container-id-3 div.sk-serial {display: flex;flex-direction: column;align-items: center;background-color: white;padding-right: 0.2em;padding-left: 0.2em;position: relative;}#sk-container-id-3 div.sk-item {position: relative;z-index: 1;}#sk-container-id-3 div.sk-parallel {display: flex;align-items: stretch;justify-content: center;background-color: white;position: relative;}#sk-container-id-3 div.sk-item::before, #sk-container-id-3 div.sk-parallel-item::before {content: \"\";position: absolute;border-left: 1px solid gray;box-sizing: border-box;top: 0;bottom: 0;left: 50%;z-index: -1;}#sk-container-id-3 div.sk-parallel-item {display: flex;flex-direction: column;z-index: 1;position: relative;background-color: white;}#sk-container-id-3 div.sk-parallel-item:first-child::after {align-self: flex-end;width: 50%;}#sk-container-id-3 div.sk-parallel-item:last-child::after {align-self: flex-start;width: 50%;}#sk-container-id-3 div.sk-parallel-item:only-child::after {width: 0;}#sk-container-id-3 div.sk-dashed-wrapped {border: 1px dashed gray;margin: 0 0.4em 0.5em 0.4em;box-sizing: border-box;padding-bottom: 0.4em;background-color: white;}#sk-container-id-3 div.sk-label label {font-family: monospace;font-weight: bold;display: inline-block;line-height: 1.2em;}#sk-container-id-3 div.sk-label-container {text-align: center;}#sk-container-id-3 div.sk-container {/* jupyter's `normalize.less` sets `[hidden] { display: none; }` but bootstrap.min.css set `[hidden] { display: none !important; }` so we also need the `!important` here to be able to override the default hidden behavior on the sphinx rendered scikit-learn.org. See: https://github.com/scikit-learn/scikit-learn/issues/21755 */display: inline-block !important;position: relative;}#sk-container-id-3 div.sk-text-repr-fallback {display: none;}</style><div id=\"sk-container-id-3\" class=\"sk-top-container\"><div class=\"sk-text-repr-fallback\"><pre>ElasticNet(alpha=0.1)</pre><b>In a Jupyter environment, please rerun this cell to show the HTML representation or trust the notebook. <br />On GitHub, the HTML representation is unable to render, please try loading this page with nbviewer.org.</b></div><div class=\"sk-container\" hidden><div class=\"sk-item\"><div class=\"sk-estimator sk-toggleable\"><input class=\"sk-toggleable__control sk-hidden--visually\" id=\"sk-estimator-id-5\" type=\"checkbox\" checked><label for=\"sk-estimator-id-5\" class=\"sk-toggleable__label sk-toggleable__label-arrow\">ElasticNet</label><div class=\"sk-toggleable__content\"><pre>ElasticNet(alpha=0.1)</pre></div></div></div></div></div>"
            ]
          },
          "metadata": {},
          "execution_count": 30
        }
      ]
    },
    {
      "cell_type": "code",
      "source": [
        "model3_score=model3.score(xtest,ytest)"
      ],
      "metadata": {
        "id": "UHinHWwXEvtK"
      },
      "execution_count": 31,
      "outputs": []
    },
    {
      "cell_type": "code",
      "source": [
        "model3_score"
      ],
      "metadata": {
        "colab": {
          "base_uri": "https://localhost:8080/"
        },
        "id": "voCxoEwFE4cZ",
        "outputId": "f96f2467-5e82-4855-fb9d-28107a521af3"
      },
      "execution_count": 32,
      "outputs": [
        {
          "output_type": "execute_result",
          "data": {
            "text/plain": [
              "0.6571593805481214"
            ]
          },
          "metadata": {},
          "execution_count": 32
        }
      ]
    },
    {
      "cell_type": "markdown",
      "source": [
        "**RandomForest**"
      ],
      "metadata": {
        "id": "FTYONJ_kU_yY"
      }
    },
    {
      "cell_type": "code",
      "source": [
        "from sklearn.ensemble import RandomForestRegressor\n",
        "model4=RandomForestRegressor()\n",
        "model4.fit(xtrain,ytrain)"
      ],
      "metadata": {
        "colab": {
          "base_uri": "https://localhost:8080/",
          "height": 74
        },
        "id": "c76B9b94ExuG",
        "outputId": "61f7a4f5-f5b0-423c-bf9f-b77e0a7d0ef6"
      },
      "execution_count": 33,
      "outputs": [
        {
          "output_type": "execute_result",
          "data": {
            "text/plain": [
              "RandomForestRegressor()"
            ],
            "text/html": [
              "<style>#sk-container-id-4 {color: black;background-color: white;}#sk-container-id-4 pre{padding: 0;}#sk-container-id-4 div.sk-toggleable {background-color: white;}#sk-container-id-4 label.sk-toggleable__label {cursor: pointer;display: block;width: 100%;margin-bottom: 0;padding: 0.3em;box-sizing: border-box;text-align: center;}#sk-container-id-4 label.sk-toggleable__label-arrow:before {content: \"▸\";float: left;margin-right: 0.25em;color: #696969;}#sk-container-id-4 label.sk-toggleable__label-arrow:hover:before {color: black;}#sk-container-id-4 div.sk-estimator:hover label.sk-toggleable__label-arrow:before {color: black;}#sk-container-id-4 div.sk-toggleable__content {max-height: 0;max-width: 0;overflow: hidden;text-align: left;background-color: #f0f8ff;}#sk-container-id-4 div.sk-toggleable__content pre {margin: 0.2em;color: black;border-radius: 0.25em;background-color: #f0f8ff;}#sk-container-id-4 input.sk-toggleable__control:checked~div.sk-toggleable__content {max-height: 200px;max-width: 100%;overflow: auto;}#sk-container-id-4 input.sk-toggleable__control:checked~label.sk-toggleable__label-arrow:before {content: \"▾\";}#sk-container-id-4 div.sk-estimator input.sk-toggleable__control:checked~label.sk-toggleable__label {background-color: #d4ebff;}#sk-container-id-4 div.sk-label input.sk-toggleable__control:checked~label.sk-toggleable__label {background-color: #d4ebff;}#sk-container-id-4 input.sk-hidden--visually {border: 0;clip: rect(1px 1px 1px 1px);clip: rect(1px, 1px, 1px, 1px);height: 1px;margin: -1px;overflow: hidden;padding: 0;position: absolute;width: 1px;}#sk-container-id-4 div.sk-estimator {font-family: monospace;background-color: #f0f8ff;border: 1px dotted black;border-radius: 0.25em;box-sizing: border-box;margin-bottom: 0.5em;}#sk-container-id-4 div.sk-estimator:hover {background-color: #d4ebff;}#sk-container-id-4 div.sk-parallel-item::after {content: \"\";width: 100%;border-bottom: 1px solid gray;flex-grow: 1;}#sk-container-id-4 div.sk-label:hover label.sk-toggleable__label {background-color: #d4ebff;}#sk-container-id-4 div.sk-serial::before {content: \"\";position: absolute;border-left: 1px solid gray;box-sizing: border-box;top: 0;bottom: 0;left: 50%;z-index: 0;}#sk-container-id-4 div.sk-serial {display: flex;flex-direction: column;align-items: center;background-color: white;padding-right: 0.2em;padding-left: 0.2em;position: relative;}#sk-container-id-4 div.sk-item {position: relative;z-index: 1;}#sk-container-id-4 div.sk-parallel {display: flex;align-items: stretch;justify-content: center;background-color: white;position: relative;}#sk-container-id-4 div.sk-item::before, #sk-container-id-4 div.sk-parallel-item::before {content: \"\";position: absolute;border-left: 1px solid gray;box-sizing: border-box;top: 0;bottom: 0;left: 50%;z-index: -1;}#sk-container-id-4 div.sk-parallel-item {display: flex;flex-direction: column;z-index: 1;position: relative;background-color: white;}#sk-container-id-4 div.sk-parallel-item:first-child::after {align-self: flex-end;width: 50%;}#sk-container-id-4 div.sk-parallel-item:last-child::after {align-self: flex-start;width: 50%;}#sk-container-id-4 div.sk-parallel-item:only-child::after {width: 0;}#sk-container-id-4 div.sk-dashed-wrapped {border: 1px dashed gray;margin: 0 0.4em 0.5em 0.4em;box-sizing: border-box;padding-bottom: 0.4em;background-color: white;}#sk-container-id-4 div.sk-label label {font-family: monospace;font-weight: bold;display: inline-block;line-height: 1.2em;}#sk-container-id-4 div.sk-label-container {text-align: center;}#sk-container-id-4 div.sk-container {/* jupyter's `normalize.less` sets `[hidden] { display: none; }` but bootstrap.min.css set `[hidden] { display: none !important; }` so we also need the `!important` here to be able to override the default hidden behavior on the sphinx rendered scikit-learn.org. See: https://github.com/scikit-learn/scikit-learn/issues/21755 */display: inline-block !important;position: relative;}#sk-container-id-4 div.sk-text-repr-fallback {display: none;}</style><div id=\"sk-container-id-4\" class=\"sk-top-container\"><div class=\"sk-text-repr-fallback\"><pre>RandomForestRegressor()</pre><b>In a Jupyter environment, please rerun this cell to show the HTML representation or trust the notebook. <br />On GitHub, the HTML representation is unable to render, please try loading this page with nbviewer.org.</b></div><div class=\"sk-container\" hidden><div class=\"sk-item\"><div class=\"sk-estimator sk-toggleable\"><input class=\"sk-toggleable__control sk-hidden--visually\" id=\"sk-estimator-id-6\" type=\"checkbox\" checked><label for=\"sk-estimator-id-6\" class=\"sk-toggleable__label sk-toggleable__label-arrow\">RandomForestRegressor</label><div class=\"sk-toggleable__content\"><pre>RandomForestRegressor()</pre></div></div></div></div></div>"
            ]
          },
          "metadata": {},
          "execution_count": 33
        }
      ]
    },
    {
      "cell_type": "code",
      "source": [
        "model4_score=model4.score(xtest,ytest)"
      ],
      "metadata": {
        "id": "Jc2ckReXEz-Y"
      },
      "execution_count": 34,
      "outputs": []
    },
    {
      "cell_type": "code",
      "source": [
        "model4_score"
      ],
      "metadata": {
        "colab": {
          "base_uri": "https://localhost:8080/"
        },
        "id": "phux8JTwE0iy",
        "outputId": "2f6fd9e8-c7ea-43bd-a5e1-5968d58d27e6"
      },
      "execution_count": 35,
      "outputs": [
        {
          "output_type": "execute_result",
          "data": {
            "text/plain": [
              "0.764864662302017"
            ]
          },
          "metadata": {},
          "execution_count": 35
        }
      ]
    },
    {
      "cell_type": "markdown",
      "source": [
        "**Random Forest with hyper parameter tuning**"
      ],
      "metadata": {
        "id": "-fpuUd7sVIV0"
      }
    },
    {
      "cell_type": "code",
      "source": [
        "from sklearn.model_selection import RandomizedSearchCV"
      ],
      "metadata": {
        "id": "VvKYw3WqE_sU"
      },
      "execution_count": 36,
      "outputs": []
    },
    {
      "cell_type": "code",
      "source": [
        "grid={'n_estimators':[10,20,30,40,50,60,70,80,90,100],\n",
        "'max_depth':[1,2,3,4,5,6,7,8,9,10],\n",
        "'min_samples_split':[2,3,4,5,6,7,8,9,10],\n",
        "'min_samples_leaf':[1,2,3,4,5,6,7,8,9,10],\n",
        "'max_features':['auto','sqrt','log2']}"
      ],
      "metadata": {
        "id": "mMCnfn4QFDPg"
      },
      "execution_count": 37,
      "outputs": []
    },
    {
      "cell_type": "code",
      "source": [
        "ee=RandomizedSearchCV(estimator=model4,param_distributions=grid,n_iter=100,cv=5,verbose=2)"
      ],
      "metadata": {
        "id": "jZyepO0VFGK8"
      },
      "execution_count": 38,
      "outputs": []
    },
    {
      "cell_type": "code",
      "source": [
        "ee.fit(xtrain,ytrain)"
      ],
      "metadata": {
        "colab": {
          "base_uri": "https://localhost:8080/",
          "height": 1000
        },
        "id": "IGXczV7EFIRs",
        "outputId": "7066d8cb-c2f1-42b0-8f0a-640986e36e3d"
      },
      "execution_count": 39,
      "outputs": [
        {
          "output_type": "stream",
          "name": "stdout",
          "text": [
            "Fitting 5 folds for each of 100 candidates, totalling 500 fits\n",
            "[CV] END max_depth=4, max_features=auto, min_samples_leaf=6, min_samples_split=10, n_estimators=80; total time=   0.1s\n"
          ]
        },
        {
          "output_type": "stream",
          "name": "stderr",
          "text": [
            "/usr/local/lib/python3.10/dist-packages/sklearn/ensemble/_forest.py:413: FutureWarning: `max_features='auto'` has been deprecated in 1.1 and will be removed in 1.3. To keep the past behaviour, explicitly set `max_features=1.0` or remove this parameter as it is also the default value for RandomForestRegressors and ExtraTreesRegressors.\n",
            "  warn(\n",
            "/usr/local/lib/python3.10/dist-packages/sklearn/ensemble/_forest.py:413: FutureWarning: `max_features='auto'` has been deprecated in 1.1 and will be removed in 1.3. To keep the past behaviour, explicitly set `max_features=1.0` or remove this parameter as it is also the default value for RandomForestRegressors and ExtraTreesRegressors.\n",
            "  warn(\n"
          ]
        },
        {
          "output_type": "stream",
          "name": "stdout",
          "text": [
            "[CV] END max_depth=4, max_features=auto, min_samples_leaf=6, min_samples_split=10, n_estimators=80; total time=   0.2s\n",
            "[CV] END max_depth=4, max_features=auto, min_samples_leaf=6, min_samples_split=10, n_estimators=80; total time=   0.1s\n"
          ]
        },
        {
          "output_type": "stream",
          "name": "stderr",
          "text": [
            "/usr/local/lib/python3.10/dist-packages/sklearn/ensemble/_forest.py:413: FutureWarning: `max_features='auto'` has been deprecated in 1.1 and will be removed in 1.3. To keep the past behaviour, explicitly set `max_features=1.0` or remove this parameter as it is also the default value for RandomForestRegressors and ExtraTreesRegressors.\n",
            "  warn(\n",
            "/usr/local/lib/python3.10/dist-packages/sklearn/ensemble/_forest.py:413: FutureWarning: `max_features='auto'` has been deprecated in 1.1 and will be removed in 1.3. To keep the past behaviour, explicitly set `max_features=1.0` or remove this parameter as it is also the default value for RandomForestRegressors and ExtraTreesRegressors.\n",
            "  warn(\n"
          ]
        },
        {
          "output_type": "stream",
          "name": "stdout",
          "text": [
            "[CV] END max_depth=4, max_features=auto, min_samples_leaf=6, min_samples_split=10, n_estimators=80; total time=   0.2s\n",
            "[CV] END max_depth=4, max_features=auto, min_samples_leaf=6, min_samples_split=10, n_estimators=80; total time=   0.1s\n"
          ]
        },
        {
          "output_type": "stream",
          "name": "stderr",
          "text": [
            "/usr/local/lib/python3.10/dist-packages/sklearn/ensemble/_forest.py:413: FutureWarning: `max_features='auto'` has been deprecated in 1.1 and will be removed in 1.3. To keep the past behaviour, explicitly set `max_features=1.0` or remove this parameter as it is also the default value for RandomForestRegressors and ExtraTreesRegressors.\n",
            "  warn(\n",
            "/usr/local/lib/python3.10/dist-packages/sklearn/ensemble/_forest.py:413: FutureWarning: `max_features='auto'` has been deprecated in 1.1 and will be removed in 1.3. To keep the past behaviour, explicitly set `max_features=1.0` or remove this parameter as it is also the default value for RandomForestRegressors and ExtraTreesRegressors.\n",
            "  warn(\n"
          ]
        },
        {
          "output_type": "stream",
          "name": "stdout",
          "text": [
            "[CV] END max_depth=9, max_features=auto, min_samples_leaf=7, min_samples_split=4, n_estimators=40; total time=   0.1s\n",
            "[CV] END max_depth=9, max_features=auto, min_samples_leaf=7, min_samples_split=4, n_estimators=40; total time=   0.1s\n",
            "[CV] END max_depth=9, max_features=auto, min_samples_leaf=7, min_samples_split=4, n_estimators=40; total time=   0.1s\n"
          ]
        },
        {
          "output_type": "stream",
          "name": "stderr",
          "text": [
            "/usr/local/lib/python3.10/dist-packages/sklearn/ensemble/_forest.py:413: FutureWarning: `max_features='auto'` has been deprecated in 1.1 and will be removed in 1.3. To keep the past behaviour, explicitly set `max_features=1.0` or remove this parameter as it is also the default value for RandomForestRegressors and ExtraTreesRegressors.\n",
            "  warn(\n",
            "/usr/local/lib/python3.10/dist-packages/sklearn/ensemble/_forest.py:413: FutureWarning: `max_features='auto'` has been deprecated in 1.1 and will be removed in 1.3. To keep the past behaviour, explicitly set `max_features=1.0` or remove this parameter as it is also the default value for RandomForestRegressors and ExtraTreesRegressors.\n",
            "  warn(\n",
            "/usr/local/lib/python3.10/dist-packages/sklearn/ensemble/_forest.py:413: FutureWarning: `max_features='auto'` has been deprecated in 1.1 and will be removed in 1.3. To keep the past behaviour, explicitly set `max_features=1.0` or remove this parameter as it is also the default value for RandomForestRegressors and ExtraTreesRegressors.\n",
            "  warn(\n"
          ]
        },
        {
          "output_type": "stream",
          "name": "stdout",
          "text": [
            "[CV] END max_depth=9, max_features=auto, min_samples_leaf=7, min_samples_split=4, n_estimators=40; total time=   0.1s\n",
            "[CV] END max_depth=9, max_features=auto, min_samples_leaf=7, min_samples_split=4, n_estimators=40; total time=   0.1s\n",
            "[CV] END max_depth=9, max_features=sqrt, min_samples_leaf=5, min_samples_split=6, n_estimators=70; total time=   0.1s\n"
          ]
        },
        {
          "output_type": "stream",
          "name": "stderr",
          "text": [
            "/usr/local/lib/python3.10/dist-packages/sklearn/ensemble/_forest.py:413: FutureWarning: `max_features='auto'` has been deprecated in 1.1 and will be removed in 1.3. To keep the past behaviour, explicitly set `max_features=1.0` or remove this parameter as it is also the default value for RandomForestRegressors and ExtraTreesRegressors.\n",
            "  warn(\n"
          ]
        },
        {
          "output_type": "stream",
          "name": "stdout",
          "text": [
            "[CV] END max_depth=9, max_features=sqrt, min_samples_leaf=5, min_samples_split=6, n_estimators=70; total time=   0.1s\n",
            "[CV] END max_depth=9, max_features=sqrt, min_samples_leaf=5, min_samples_split=6, n_estimators=70; total time=   0.1s\n",
            "[CV] END max_depth=9, max_features=sqrt, min_samples_leaf=5, min_samples_split=6, n_estimators=70; total time=   0.1s\n",
            "[CV] END max_depth=9, max_features=sqrt, min_samples_leaf=5, min_samples_split=6, n_estimators=70; total time=   0.1s\n",
            "[CV] END max_depth=1, max_features=log2, min_samples_leaf=1, min_samples_split=9, n_estimators=100; total time=   0.1s\n",
            "[CV] END max_depth=1, max_features=log2, min_samples_leaf=1, min_samples_split=9, n_estimators=100; total time=   0.1s\n",
            "[CV] END max_depth=1, max_features=log2, min_samples_leaf=1, min_samples_split=9, n_estimators=100; total time=   0.1s\n",
            "[CV] END max_depth=1, max_features=log2, min_samples_leaf=1, min_samples_split=9, n_estimators=100; total time=   0.1s\n",
            "[CV] END max_depth=1, max_features=log2, min_samples_leaf=1, min_samples_split=9, n_estimators=100; total time=   0.1s\n",
            "[CV] END max_depth=9, max_features=sqrt, min_samples_leaf=2, min_samples_split=6, n_estimators=90; total time=   0.2s\n",
            "[CV] END max_depth=9, max_features=sqrt, min_samples_leaf=2, min_samples_split=6, n_estimators=90; total time=   0.2s\n",
            "[CV] END max_depth=9, max_features=sqrt, min_samples_leaf=2, min_samples_split=6, n_estimators=90; total time=   0.1s\n",
            "[CV] END max_depth=9, max_features=sqrt, min_samples_leaf=2, min_samples_split=6, n_estimators=90; total time=   0.2s\n",
            "[CV] END max_depth=9, max_features=sqrt, min_samples_leaf=2, min_samples_split=6, n_estimators=90; total time=   0.2s\n",
            "[CV] END max_depth=10, max_features=sqrt, min_samples_leaf=1, min_samples_split=6, n_estimators=80; total time=   0.1s\n",
            "[CV] END max_depth=10, max_features=sqrt, min_samples_leaf=1, min_samples_split=6, n_estimators=80; total time=   0.1s\n",
            "[CV] END max_depth=10, max_features=sqrt, min_samples_leaf=1, min_samples_split=6, n_estimators=80; total time=   0.1s\n",
            "[CV] END max_depth=10, max_features=sqrt, min_samples_leaf=1, min_samples_split=6, n_estimators=80; total time=   0.1s\n",
            "[CV] END max_depth=10, max_features=sqrt, min_samples_leaf=1, min_samples_split=6, n_estimators=80; total time=   0.1s\n",
            "[CV] END max_depth=10, max_features=auto, min_samples_leaf=6, min_samples_split=5, n_estimators=60; total time=   0.1s\n"
          ]
        },
        {
          "output_type": "stream",
          "name": "stderr",
          "text": [
            "/usr/local/lib/python3.10/dist-packages/sklearn/ensemble/_forest.py:413: FutureWarning: `max_features='auto'` has been deprecated in 1.1 and will be removed in 1.3. To keep the past behaviour, explicitly set `max_features=1.0` or remove this parameter as it is also the default value for RandomForestRegressors and ExtraTreesRegressors.\n",
            "  warn(\n",
            "/usr/local/lib/python3.10/dist-packages/sklearn/ensemble/_forest.py:413: FutureWarning: `max_features='auto'` has been deprecated in 1.1 and will be removed in 1.3. To keep the past behaviour, explicitly set `max_features=1.0` or remove this parameter as it is also the default value for RandomForestRegressors and ExtraTreesRegressors.\n",
            "  warn(\n"
          ]
        },
        {
          "output_type": "stream",
          "name": "stdout",
          "text": [
            "[CV] END max_depth=10, max_features=auto, min_samples_leaf=6, min_samples_split=5, n_estimators=60; total time=   0.1s\n",
            "[CV] END max_depth=10, max_features=auto, min_samples_leaf=6, min_samples_split=5, n_estimators=60; total time=   0.1s\n"
          ]
        },
        {
          "output_type": "stream",
          "name": "stderr",
          "text": [
            "/usr/local/lib/python3.10/dist-packages/sklearn/ensemble/_forest.py:413: FutureWarning: `max_features='auto'` has been deprecated in 1.1 and will be removed in 1.3. To keep the past behaviour, explicitly set `max_features=1.0` or remove this parameter as it is also the default value for RandomForestRegressors and ExtraTreesRegressors.\n",
            "  warn(\n",
            "/usr/local/lib/python3.10/dist-packages/sklearn/ensemble/_forest.py:413: FutureWarning: `max_features='auto'` has been deprecated in 1.1 and will be removed in 1.3. To keep the past behaviour, explicitly set `max_features=1.0` or remove this parameter as it is also the default value for RandomForestRegressors and ExtraTreesRegressors.\n",
            "  warn(\n"
          ]
        },
        {
          "output_type": "stream",
          "name": "stdout",
          "text": [
            "[CV] END max_depth=10, max_features=auto, min_samples_leaf=6, min_samples_split=5, n_estimators=60; total time=   0.1s\n",
            "[CV] END max_depth=10, max_features=auto, min_samples_leaf=6, min_samples_split=5, n_estimators=60; total time=   0.1s\n"
          ]
        },
        {
          "output_type": "stream",
          "name": "stderr",
          "text": [
            "/usr/local/lib/python3.10/dist-packages/sklearn/ensemble/_forest.py:413: FutureWarning: `max_features='auto'` has been deprecated in 1.1 and will be removed in 1.3. To keep the past behaviour, explicitly set `max_features=1.0` or remove this parameter as it is also the default value for RandomForestRegressors and ExtraTreesRegressors.\n",
            "  warn(\n"
          ]
        },
        {
          "output_type": "stream",
          "name": "stdout",
          "text": [
            "[CV] END max_depth=2, max_features=log2, min_samples_leaf=9, min_samples_split=7, n_estimators=80; total time=   0.1s\n",
            "[CV] END max_depth=2, max_features=log2, min_samples_leaf=9, min_samples_split=7, n_estimators=80; total time=   0.1s\n",
            "[CV] END max_depth=2, max_features=log2, min_samples_leaf=9, min_samples_split=7, n_estimators=80; total time=   0.1s\n",
            "[CV] END max_depth=2, max_features=log2, min_samples_leaf=9, min_samples_split=7, n_estimators=80; total time=   0.1s\n",
            "[CV] END max_depth=2, max_features=log2, min_samples_leaf=9, min_samples_split=7, n_estimators=80; total time=   0.1s\n",
            "[CV] END max_depth=10, max_features=sqrt, min_samples_leaf=2, min_samples_split=9, n_estimators=70; total time=   0.1s\n",
            "[CV] END max_depth=10, max_features=sqrt, min_samples_leaf=2, min_samples_split=9, n_estimators=70; total time=   0.2s\n",
            "[CV] END max_depth=10, max_features=sqrt, min_samples_leaf=2, min_samples_split=9, n_estimators=70; total time=   0.2s\n",
            "[CV] END max_depth=10, max_features=sqrt, min_samples_leaf=2, min_samples_split=9, n_estimators=70; total time=   0.2s\n",
            "[CV] END max_depth=10, max_features=sqrt, min_samples_leaf=2, min_samples_split=9, n_estimators=70; total time=   0.2s\n",
            "[CV] END max_depth=8, max_features=log2, min_samples_leaf=1, min_samples_split=5, n_estimators=80; total time=   0.2s\n",
            "[CV] END max_depth=8, max_features=log2, min_samples_leaf=1, min_samples_split=5, n_estimators=80; total time=   0.2s\n",
            "[CV] END max_depth=8, max_features=log2, min_samples_leaf=1, min_samples_split=5, n_estimators=80; total time=   0.2s\n",
            "[CV] END max_depth=8, max_features=log2, min_samples_leaf=1, min_samples_split=5, n_estimators=80; total time=   0.2s\n",
            "[CV] END max_depth=8, max_features=log2, min_samples_leaf=1, min_samples_split=5, n_estimators=80; total time=   0.2s\n",
            "[CV] END max_depth=3, max_features=log2, min_samples_leaf=7, min_samples_split=3, n_estimators=60; total time=   0.1s\n",
            "[CV] END max_depth=3, max_features=log2, min_samples_leaf=7, min_samples_split=3, n_estimators=60; total time=   0.1s\n",
            "[CV] END max_depth=3, max_features=log2, min_samples_leaf=7, min_samples_split=3, n_estimators=60; total time=   0.1s\n",
            "[CV] END max_depth=3, max_features=log2, min_samples_leaf=7, min_samples_split=3, n_estimators=60; total time=   0.1s\n",
            "[CV] END max_depth=3, max_features=log2, min_samples_leaf=7, min_samples_split=3, n_estimators=60; total time=   0.1s\n",
            "[CV] END max_depth=10, max_features=log2, min_samples_leaf=8, min_samples_split=10, n_estimators=20; total time=   0.1s\n",
            "[CV] END max_depth=10, max_features=log2, min_samples_leaf=8, min_samples_split=10, n_estimators=20; total time=   0.1s\n",
            "[CV] END max_depth=10, max_features=log2, min_samples_leaf=8, min_samples_split=10, n_estimators=20; total time=   0.1s\n",
            "[CV] END max_depth=10, max_features=log2, min_samples_leaf=8, min_samples_split=10, n_estimators=20; total time=   0.1s\n",
            "[CV] END max_depth=10, max_features=log2, min_samples_leaf=8, min_samples_split=10, n_estimators=20; total time=   0.1s\n",
            "[CV] END max_depth=10, max_features=log2, min_samples_leaf=3, min_samples_split=9, n_estimators=30; total time=   0.1s\n",
            "[CV] END max_depth=10, max_features=log2, min_samples_leaf=3, min_samples_split=9, n_estimators=30; total time=   0.1s\n",
            "[CV] END max_depth=10, max_features=log2, min_samples_leaf=3, min_samples_split=9, n_estimators=30; total time=   0.1s\n",
            "[CV] END max_depth=10, max_features=log2, min_samples_leaf=3, min_samples_split=9, n_estimators=30; total time=   0.1s\n",
            "[CV] END max_depth=10, max_features=log2, min_samples_leaf=3, min_samples_split=9, n_estimators=30; total time=   0.1s\n",
            "[CV] END max_depth=7, max_features=sqrt, min_samples_leaf=6, min_samples_split=10, n_estimators=70; total time=   0.1s\n",
            "[CV] END max_depth=7, max_features=sqrt, min_samples_leaf=6, min_samples_split=10, n_estimators=70; total time=   0.1s\n",
            "[CV] END max_depth=7, max_features=sqrt, min_samples_leaf=6, min_samples_split=10, n_estimators=70; total time=   0.1s\n",
            "[CV] END max_depth=7, max_features=sqrt, min_samples_leaf=6, min_samples_split=10, n_estimators=70; total time=   0.1s\n",
            "[CV] END max_depth=7, max_features=sqrt, min_samples_leaf=6, min_samples_split=10, n_estimators=70; total time=   0.1s\n",
            "[CV] END max_depth=9, max_features=auto, min_samples_leaf=2, min_samples_split=10, n_estimators=50; total time=   0.1s\n"
          ]
        },
        {
          "output_type": "stream",
          "name": "stderr",
          "text": [
            "/usr/local/lib/python3.10/dist-packages/sklearn/ensemble/_forest.py:413: FutureWarning: `max_features='auto'` has been deprecated in 1.1 and will be removed in 1.3. To keep the past behaviour, explicitly set `max_features=1.0` or remove this parameter as it is also the default value for RandomForestRegressors and ExtraTreesRegressors.\n",
            "  warn(\n",
            "/usr/local/lib/python3.10/dist-packages/sklearn/ensemble/_forest.py:413: FutureWarning: `max_features='auto'` has been deprecated in 1.1 and will be removed in 1.3. To keep the past behaviour, explicitly set `max_features=1.0` or remove this parameter as it is also the default value for RandomForestRegressors and ExtraTreesRegressors.\n",
            "  warn(\n"
          ]
        },
        {
          "output_type": "stream",
          "name": "stdout",
          "text": [
            "[CV] END max_depth=9, max_features=auto, min_samples_leaf=2, min_samples_split=10, n_estimators=50; total time=   0.1s\n",
            "[CV] END max_depth=9, max_features=auto, min_samples_leaf=2, min_samples_split=10, n_estimators=50; total time=   0.1s\n"
          ]
        },
        {
          "output_type": "stream",
          "name": "stderr",
          "text": [
            "/usr/local/lib/python3.10/dist-packages/sklearn/ensemble/_forest.py:413: FutureWarning: `max_features='auto'` has been deprecated in 1.1 and will be removed in 1.3. To keep the past behaviour, explicitly set `max_features=1.0` or remove this parameter as it is also the default value for RandomForestRegressors and ExtraTreesRegressors.\n",
            "  warn(\n",
            "/usr/local/lib/python3.10/dist-packages/sklearn/ensemble/_forest.py:413: FutureWarning: `max_features='auto'` has been deprecated in 1.1 and will be removed in 1.3. To keep the past behaviour, explicitly set `max_features=1.0` or remove this parameter as it is also the default value for RandomForestRegressors and ExtraTreesRegressors.\n",
            "  warn(\n"
          ]
        },
        {
          "output_type": "stream",
          "name": "stdout",
          "text": [
            "[CV] END max_depth=9, max_features=auto, min_samples_leaf=2, min_samples_split=10, n_estimators=50; total time=   0.1s\n",
            "[CV] END max_depth=9, max_features=auto, min_samples_leaf=2, min_samples_split=10, n_estimators=50; total time=   0.1s\n"
          ]
        },
        {
          "output_type": "stream",
          "name": "stderr",
          "text": [
            "/usr/local/lib/python3.10/dist-packages/sklearn/ensemble/_forest.py:413: FutureWarning: `max_features='auto'` has been deprecated in 1.1 and will be removed in 1.3. To keep the past behaviour, explicitly set `max_features=1.0` or remove this parameter as it is also the default value for RandomForestRegressors and ExtraTreesRegressors.\n",
            "  warn(\n"
          ]
        },
        {
          "output_type": "stream",
          "name": "stdout",
          "text": [
            "[CV] END max_depth=5, max_features=sqrt, min_samples_leaf=9, min_samples_split=6, n_estimators=80; total time=   0.1s\n",
            "[CV] END max_depth=5, max_features=sqrt, min_samples_leaf=9, min_samples_split=6, n_estimators=80; total time=   0.1s\n",
            "[CV] END max_depth=5, max_features=sqrt, min_samples_leaf=9, min_samples_split=6, n_estimators=80; total time=   0.1s\n",
            "[CV] END max_depth=5, max_features=sqrt, min_samples_leaf=9, min_samples_split=6, n_estimators=80; total time=   0.1s\n",
            "[CV] END max_depth=5, max_features=sqrt, min_samples_leaf=9, min_samples_split=6, n_estimators=80; total time=   0.1s\n",
            "[CV] END max_depth=5, max_features=auto, min_samples_leaf=8, min_samples_split=4, n_estimators=90; total time=   0.2s\n"
          ]
        },
        {
          "output_type": "stream",
          "name": "stderr",
          "text": [
            "/usr/local/lib/python3.10/dist-packages/sklearn/ensemble/_forest.py:413: FutureWarning: `max_features='auto'` has been deprecated in 1.1 and will be removed in 1.3. To keep the past behaviour, explicitly set `max_features=1.0` or remove this parameter as it is also the default value for RandomForestRegressors and ExtraTreesRegressors.\n",
            "  warn(\n",
            "/usr/local/lib/python3.10/dist-packages/sklearn/ensemble/_forest.py:413: FutureWarning: `max_features='auto'` has been deprecated in 1.1 and will be removed in 1.3. To keep the past behaviour, explicitly set `max_features=1.0` or remove this parameter as it is also the default value for RandomForestRegressors and ExtraTreesRegressors.\n",
            "  warn(\n"
          ]
        },
        {
          "output_type": "stream",
          "name": "stdout",
          "text": [
            "[CV] END max_depth=5, max_features=auto, min_samples_leaf=8, min_samples_split=4, n_estimators=90; total time=   0.2s\n",
            "[CV] END max_depth=5, max_features=auto, min_samples_leaf=8, min_samples_split=4, n_estimators=90; total time=   0.2s\n"
          ]
        },
        {
          "output_type": "stream",
          "name": "stderr",
          "text": [
            "/usr/local/lib/python3.10/dist-packages/sklearn/ensemble/_forest.py:413: FutureWarning: `max_features='auto'` has been deprecated in 1.1 and will be removed in 1.3. To keep the past behaviour, explicitly set `max_features=1.0` or remove this parameter as it is also the default value for RandomForestRegressors and ExtraTreesRegressors.\n",
            "  warn(\n",
            "/usr/local/lib/python3.10/dist-packages/sklearn/ensemble/_forest.py:413: FutureWarning: `max_features='auto'` has been deprecated in 1.1 and will be removed in 1.3. To keep the past behaviour, explicitly set `max_features=1.0` or remove this parameter as it is also the default value for RandomForestRegressors and ExtraTreesRegressors.\n",
            "  warn(\n"
          ]
        },
        {
          "output_type": "stream",
          "name": "stdout",
          "text": [
            "[CV] END max_depth=5, max_features=auto, min_samples_leaf=8, min_samples_split=4, n_estimators=90; total time=   0.2s\n",
            "[CV] END max_depth=5, max_features=auto, min_samples_leaf=8, min_samples_split=4, n_estimators=90; total time=   0.2s\n"
          ]
        },
        {
          "output_type": "stream",
          "name": "stderr",
          "text": [
            "/usr/local/lib/python3.10/dist-packages/sklearn/ensemble/_forest.py:413: FutureWarning: `max_features='auto'` has been deprecated in 1.1 and will be removed in 1.3. To keep the past behaviour, explicitly set `max_features=1.0` or remove this parameter as it is also the default value for RandomForestRegressors and ExtraTreesRegressors.\n",
            "  warn(\n"
          ]
        },
        {
          "output_type": "stream",
          "name": "stdout",
          "text": [
            "[CV] END max_depth=2, max_features=log2, min_samples_leaf=2, min_samples_split=3, n_estimators=50; total time=   0.1s\n",
            "[CV] END max_depth=2, max_features=log2, min_samples_leaf=2, min_samples_split=3, n_estimators=50; total time=   0.1s\n",
            "[CV] END max_depth=2, max_features=log2, min_samples_leaf=2, min_samples_split=3, n_estimators=50; total time=   0.1s\n",
            "[CV] END max_depth=2, max_features=log2, min_samples_leaf=2, min_samples_split=3, n_estimators=50; total time=   0.1s\n",
            "[CV] END max_depth=2, max_features=log2, min_samples_leaf=2, min_samples_split=3, n_estimators=50; total time=   0.1s\n",
            "[CV] END max_depth=10, max_features=auto, min_samples_leaf=10, min_samples_split=4, n_estimators=60; total time=   0.1s\n"
          ]
        },
        {
          "output_type": "stream",
          "name": "stderr",
          "text": [
            "/usr/local/lib/python3.10/dist-packages/sklearn/ensemble/_forest.py:413: FutureWarning: `max_features='auto'` has been deprecated in 1.1 and will be removed in 1.3. To keep the past behaviour, explicitly set `max_features=1.0` or remove this parameter as it is also the default value for RandomForestRegressors and ExtraTreesRegressors.\n",
            "  warn(\n",
            "/usr/local/lib/python3.10/dist-packages/sklearn/ensemble/_forest.py:413: FutureWarning: `max_features='auto'` has been deprecated in 1.1 and will be removed in 1.3. To keep the past behaviour, explicitly set `max_features=1.0` or remove this parameter as it is also the default value for RandomForestRegressors and ExtraTreesRegressors.\n",
            "  warn(\n"
          ]
        },
        {
          "output_type": "stream",
          "name": "stdout",
          "text": [
            "[CV] END max_depth=10, max_features=auto, min_samples_leaf=10, min_samples_split=4, n_estimators=60; total time=   0.1s\n",
            "[CV] END max_depth=10, max_features=auto, min_samples_leaf=10, min_samples_split=4, n_estimators=60; total time=   0.1s\n"
          ]
        },
        {
          "output_type": "stream",
          "name": "stderr",
          "text": [
            "/usr/local/lib/python3.10/dist-packages/sklearn/ensemble/_forest.py:413: FutureWarning: `max_features='auto'` has been deprecated in 1.1 and will be removed in 1.3. To keep the past behaviour, explicitly set `max_features=1.0` or remove this parameter as it is also the default value for RandomForestRegressors and ExtraTreesRegressors.\n",
            "  warn(\n",
            "/usr/local/lib/python3.10/dist-packages/sklearn/ensemble/_forest.py:413: FutureWarning: `max_features='auto'` has been deprecated in 1.1 and will be removed in 1.3. To keep the past behaviour, explicitly set `max_features=1.0` or remove this parameter as it is also the default value for RandomForestRegressors and ExtraTreesRegressors.\n",
            "  warn(\n"
          ]
        },
        {
          "output_type": "stream",
          "name": "stdout",
          "text": [
            "[CV] END max_depth=10, max_features=auto, min_samples_leaf=10, min_samples_split=4, n_estimators=60; total time=   0.1s\n",
            "[CV] END max_depth=10, max_features=auto, min_samples_leaf=10, min_samples_split=4, n_estimators=60; total time=   0.1s\n",
            "[CV] END max_depth=2, max_features=log2, min_samples_leaf=6, min_samples_split=8, n_estimators=30; total time=   0.0s\n"
          ]
        },
        {
          "output_type": "stream",
          "name": "stderr",
          "text": [
            "/usr/local/lib/python3.10/dist-packages/sklearn/ensemble/_forest.py:413: FutureWarning: `max_features='auto'` has been deprecated in 1.1 and will be removed in 1.3. To keep the past behaviour, explicitly set `max_features=1.0` or remove this parameter as it is also the default value for RandomForestRegressors and ExtraTreesRegressors.\n",
            "  warn(\n"
          ]
        },
        {
          "output_type": "stream",
          "name": "stdout",
          "text": [
            "[CV] END max_depth=2, max_features=log2, min_samples_leaf=6, min_samples_split=8, n_estimators=30; total time=   0.0s\n",
            "[CV] END max_depth=2, max_features=log2, min_samples_leaf=6, min_samples_split=8, n_estimators=30; total time=   0.0s\n",
            "[CV] END max_depth=2, max_features=log2, min_samples_leaf=6, min_samples_split=8, n_estimators=30; total time=   0.0s\n",
            "[CV] END max_depth=2, max_features=log2, min_samples_leaf=6, min_samples_split=8, n_estimators=30; total time=   0.0s\n",
            "[CV] END max_depth=3, max_features=log2, min_samples_leaf=1, min_samples_split=3, n_estimators=10; total time=   0.0s\n",
            "[CV] END max_depth=3, max_features=log2, min_samples_leaf=1, min_samples_split=3, n_estimators=10; total time=   0.0s\n",
            "[CV] END max_depth=3, max_features=log2, min_samples_leaf=1, min_samples_split=3, n_estimators=10; total time=   0.0s\n",
            "[CV] END max_depth=3, max_features=log2, min_samples_leaf=1, min_samples_split=3, n_estimators=10; total time=   0.0s\n",
            "[CV] END max_depth=3, max_features=log2, min_samples_leaf=1, min_samples_split=3, n_estimators=10; total time=   0.0s\n",
            "[CV] END max_depth=6, max_features=log2, min_samples_leaf=6, min_samples_split=5, n_estimators=60; total time=   0.1s\n",
            "[CV] END max_depth=6, max_features=log2, min_samples_leaf=6, min_samples_split=5, n_estimators=60; total time=   0.1s\n",
            "[CV] END max_depth=6, max_features=log2, min_samples_leaf=6, min_samples_split=5, n_estimators=60; total time=   0.1s\n",
            "[CV] END max_depth=6, max_features=log2, min_samples_leaf=6, min_samples_split=5, n_estimators=60; total time=   0.1s\n",
            "[CV] END max_depth=6, max_features=log2, min_samples_leaf=6, min_samples_split=5, n_estimators=60; total time=   0.1s\n",
            "[CV] END max_depth=7, max_features=sqrt, min_samples_leaf=2, min_samples_split=10, n_estimators=60; total time=   0.1s\n",
            "[CV] END max_depth=7, max_features=sqrt, min_samples_leaf=2, min_samples_split=10, n_estimators=60; total time=   0.1s\n",
            "[CV] END max_depth=7, max_features=sqrt, min_samples_leaf=2, min_samples_split=10, n_estimators=60; total time=   0.1s\n",
            "[CV] END max_depth=7, max_features=sqrt, min_samples_leaf=2, min_samples_split=10, n_estimators=60; total time=   0.1s\n",
            "[CV] END max_depth=7, max_features=sqrt, min_samples_leaf=2, min_samples_split=10, n_estimators=60; total time=   0.1s\n",
            "[CV] END max_depth=8, max_features=sqrt, min_samples_leaf=3, min_samples_split=3, n_estimators=60; total time=   0.1s\n",
            "[CV] END max_depth=8, max_features=sqrt, min_samples_leaf=3, min_samples_split=3, n_estimators=60; total time=   0.1s\n",
            "[CV] END max_depth=8, max_features=sqrt, min_samples_leaf=3, min_samples_split=3, n_estimators=60; total time=   0.1s\n",
            "[CV] END max_depth=8, max_features=sqrt, min_samples_leaf=3, min_samples_split=3, n_estimators=60; total time=   0.1s\n",
            "[CV] END max_depth=8, max_features=sqrt, min_samples_leaf=3, min_samples_split=3, n_estimators=60; total time=   0.1s\n",
            "[CV] END max_depth=4, max_features=log2, min_samples_leaf=10, min_samples_split=10, n_estimators=80; total time=   0.1s\n",
            "[CV] END max_depth=4, max_features=log2, min_samples_leaf=10, min_samples_split=10, n_estimators=80; total time=   0.1s\n",
            "[CV] END max_depth=4, max_features=log2, min_samples_leaf=10, min_samples_split=10, n_estimators=80; total time=   0.1s\n",
            "[CV] END max_depth=4, max_features=log2, min_samples_leaf=10, min_samples_split=10, n_estimators=80; total time=   0.1s\n",
            "[CV] END max_depth=4, max_features=log2, min_samples_leaf=10, min_samples_split=10, n_estimators=80; total time=   0.1s\n",
            "[CV] END max_depth=6, max_features=sqrt, min_samples_leaf=7, min_samples_split=7, n_estimators=90; total time=   0.1s\n",
            "[CV] END max_depth=6, max_features=sqrt, min_samples_leaf=7, min_samples_split=7, n_estimators=90; total time=   0.1s\n",
            "[CV] END max_depth=6, max_features=sqrt, min_samples_leaf=7, min_samples_split=7, n_estimators=90; total time=   0.1s\n",
            "[CV] END max_depth=6, max_features=sqrt, min_samples_leaf=7, min_samples_split=7, n_estimators=90; total time=   0.1s\n",
            "[CV] END max_depth=6, max_features=sqrt, min_samples_leaf=7, min_samples_split=7, n_estimators=90; total time=   0.2s\n",
            "[CV] END max_depth=2, max_features=log2, min_samples_leaf=2, min_samples_split=9, n_estimators=70; total time=   0.1s\n",
            "[CV] END max_depth=2, max_features=log2, min_samples_leaf=2, min_samples_split=9, n_estimators=70; total time=   0.1s\n",
            "[CV] END max_depth=2, max_features=log2, min_samples_leaf=2, min_samples_split=9, n_estimators=70; total time=   0.1s\n",
            "[CV] END max_depth=2, max_features=log2, min_samples_leaf=2, min_samples_split=9, n_estimators=70; total time=   0.1s\n",
            "[CV] END max_depth=2, max_features=log2, min_samples_leaf=2, min_samples_split=9, n_estimators=70; total time=   0.1s\n",
            "[CV] END max_depth=7, max_features=sqrt, min_samples_leaf=2, min_samples_split=2, n_estimators=60; total time=   0.1s\n",
            "[CV] END max_depth=7, max_features=sqrt, min_samples_leaf=2, min_samples_split=2, n_estimators=60; total time=   0.1s\n",
            "[CV] END max_depth=7, max_features=sqrt, min_samples_leaf=2, min_samples_split=2, n_estimators=60; total time=   0.1s\n",
            "[CV] END max_depth=7, max_features=sqrt, min_samples_leaf=2, min_samples_split=2, n_estimators=60; total time=   0.1s\n",
            "[CV] END max_depth=7, max_features=sqrt, min_samples_leaf=2, min_samples_split=2, n_estimators=60; total time=   0.1s\n",
            "[CV] END max_depth=3, max_features=log2, min_samples_leaf=10, min_samples_split=4, n_estimators=70; total time=   0.1s\n",
            "[CV] END max_depth=3, max_features=log2, min_samples_leaf=10, min_samples_split=4, n_estimators=70; total time=   0.1s\n",
            "[CV] END max_depth=3, max_features=log2, min_samples_leaf=10, min_samples_split=4, n_estimators=70; total time=   0.1s\n",
            "[CV] END max_depth=3, max_features=log2, min_samples_leaf=10, min_samples_split=4, n_estimators=70; total time=   0.1s\n",
            "[CV] END max_depth=3, max_features=log2, min_samples_leaf=10, min_samples_split=4, n_estimators=70; total time=   0.2s\n",
            "[CV] END max_depth=6, max_features=log2, min_samples_leaf=2, min_samples_split=8, n_estimators=10; total time=   0.0s\n",
            "[CV] END max_depth=6, max_features=log2, min_samples_leaf=2, min_samples_split=8, n_estimators=10; total time=   0.0s\n",
            "[CV] END max_depth=6, max_features=log2, min_samples_leaf=2, min_samples_split=8, n_estimators=10; total time=   0.0s\n",
            "[CV] END max_depth=6, max_features=log2, min_samples_leaf=2, min_samples_split=8, n_estimators=10; total time=   0.0s\n",
            "[CV] END max_depth=6, max_features=log2, min_samples_leaf=2, min_samples_split=8, n_estimators=10; total time=   0.0s\n"
          ]
        },
        {
          "output_type": "stream",
          "name": "stderr",
          "text": [
            "/usr/local/lib/python3.10/dist-packages/sklearn/ensemble/_forest.py:413: FutureWarning: `max_features='auto'` has been deprecated in 1.1 and will be removed in 1.3. To keep the past behaviour, explicitly set `max_features=1.0` or remove this parameter as it is also the default value for RandomForestRegressors and ExtraTreesRegressors.\n",
            "  warn(\n"
          ]
        },
        {
          "output_type": "stream",
          "name": "stdout",
          "text": [
            "[CV] END max_depth=9, max_features=auto, min_samples_leaf=4, min_samples_split=6, n_estimators=100; total time=   0.4s\n"
          ]
        },
        {
          "output_type": "stream",
          "name": "stderr",
          "text": [
            "/usr/local/lib/python3.10/dist-packages/sklearn/ensemble/_forest.py:413: FutureWarning: `max_features='auto'` has been deprecated in 1.1 and will be removed in 1.3. To keep the past behaviour, explicitly set `max_features=1.0` or remove this parameter as it is also the default value for RandomForestRegressors and ExtraTreesRegressors.\n",
            "  warn(\n"
          ]
        },
        {
          "output_type": "stream",
          "name": "stdout",
          "text": [
            "[CV] END max_depth=9, max_features=auto, min_samples_leaf=4, min_samples_split=6, n_estimators=100; total time=   0.4s\n"
          ]
        },
        {
          "output_type": "stream",
          "name": "stderr",
          "text": [
            "/usr/local/lib/python3.10/dist-packages/sklearn/ensemble/_forest.py:413: FutureWarning: `max_features='auto'` has been deprecated in 1.1 and will be removed in 1.3. To keep the past behaviour, explicitly set `max_features=1.0` or remove this parameter as it is also the default value for RandomForestRegressors and ExtraTreesRegressors.\n",
            "  warn(\n"
          ]
        },
        {
          "output_type": "stream",
          "name": "stdout",
          "text": [
            "[CV] END max_depth=9, max_features=auto, min_samples_leaf=4, min_samples_split=6, n_estimators=100; total time=   0.4s\n"
          ]
        },
        {
          "output_type": "stream",
          "name": "stderr",
          "text": [
            "/usr/local/lib/python3.10/dist-packages/sklearn/ensemble/_forest.py:413: FutureWarning: `max_features='auto'` has been deprecated in 1.1 and will be removed in 1.3. To keep the past behaviour, explicitly set `max_features=1.0` or remove this parameter as it is also the default value for RandomForestRegressors and ExtraTreesRegressors.\n",
            "  warn(\n"
          ]
        },
        {
          "output_type": "stream",
          "name": "stdout",
          "text": [
            "[CV] END max_depth=9, max_features=auto, min_samples_leaf=4, min_samples_split=6, n_estimators=100; total time=   0.6s\n"
          ]
        },
        {
          "output_type": "stream",
          "name": "stderr",
          "text": [
            "/usr/local/lib/python3.10/dist-packages/sklearn/ensemble/_forest.py:413: FutureWarning: `max_features='auto'` has been deprecated in 1.1 and will be removed in 1.3. To keep the past behaviour, explicitly set `max_features=1.0` or remove this parameter as it is also the default value for RandomForestRegressors and ExtraTreesRegressors.\n",
            "  warn(\n"
          ]
        },
        {
          "output_type": "stream",
          "name": "stdout",
          "text": [
            "[CV] END max_depth=9, max_features=auto, min_samples_leaf=4, min_samples_split=6, n_estimators=100; total time=   0.9s\n",
            "[CV] END max_depth=7, max_features=sqrt, min_samples_leaf=4, min_samples_split=2, n_estimators=60; total time=   0.4s\n",
            "[CV] END max_depth=7, max_features=sqrt, min_samples_leaf=4, min_samples_split=2, n_estimators=60; total time=   0.4s\n",
            "[CV] END max_depth=7, max_features=sqrt, min_samples_leaf=4, min_samples_split=2, n_estimators=60; total time=   0.3s\n",
            "[CV] END max_depth=7, max_features=sqrt, min_samples_leaf=4, min_samples_split=2, n_estimators=60; total time=   0.2s\n",
            "[CV] END max_depth=7, max_features=sqrt, min_samples_leaf=4, min_samples_split=2, n_estimators=60; total time=   0.2s\n",
            "[CV] END max_depth=9, max_features=auto, min_samples_leaf=1, min_samples_split=5, n_estimators=20; total time=   0.1s\n",
            "[CV] END max_depth=9, max_features=auto, min_samples_leaf=1, min_samples_split=5, n_estimators=20; total time=   0.1s\n"
          ]
        },
        {
          "output_type": "stream",
          "name": "stderr",
          "text": [
            "/usr/local/lib/python3.10/dist-packages/sklearn/ensemble/_forest.py:413: FutureWarning: `max_features='auto'` has been deprecated in 1.1 and will be removed in 1.3. To keep the past behaviour, explicitly set `max_features=1.0` or remove this parameter as it is also the default value for RandomForestRegressors and ExtraTreesRegressors.\n",
            "  warn(\n",
            "/usr/local/lib/python3.10/dist-packages/sklearn/ensemble/_forest.py:413: FutureWarning: `max_features='auto'` has been deprecated in 1.1 and will be removed in 1.3. To keep the past behaviour, explicitly set `max_features=1.0` or remove this parameter as it is also the default value for RandomForestRegressors and ExtraTreesRegressors.\n",
            "  warn(\n",
            "/usr/local/lib/python3.10/dist-packages/sklearn/ensemble/_forest.py:413: FutureWarning: `max_features='auto'` has been deprecated in 1.1 and will be removed in 1.3. To keep the past behaviour, explicitly set `max_features=1.0` or remove this parameter as it is also the default value for RandomForestRegressors and ExtraTreesRegressors.\n",
            "  warn(\n"
          ]
        },
        {
          "output_type": "stream",
          "name": "stdout",
          "text": [
            "[CV] END max_depth=9, max_features=auto, min_samples_leaf=1, min_samples_split=5, n_estimators=20; total time=   0.1s\n",
            "[CV] END max_depth=9, max_features=auto, min_samples_leaf=1, min_samples_split=5, n_estimators=20; total time=   0.1s\n",
            "[CV] END max_depth=9, max_features=auto, min_samples_leaf=1, min_samples_split=5, n_estimators=20; total time=   0.1s\n"
          ]
        },
        {
          "output_type": "stream",
          "name": "stderr",
          "text": [
            "/usr/local/lib/python3.10/dist-packages/sklearn/ensemble/_forest.py:413: FutureWarning: `max_features='auto'` has been deprecated in 1.1 and will be removed in 1.3. To keep the past behaviour, explicitly set `max_features=1.0` or remove this parameter as it is also the default value for RandomForestRegressors and ExtraTreesRegressors.\n",
            "  warn(\n",
            "/usr/local/lib/python3.10/dist-packages/sklearn/ensemble/_forest.py:413: FutureWarning: `max_features='auto'` has been deprecated in 1.1 and will be removed in 1.3. To keep the past behaviour, explicitly set `max_features=1.0` or remove this parameter as it is also the default value for RandomForestRegressors and ExtraTreesRegressors.\n",
            "  warn(\n"
          ]
        },
        {
          "output_type": "stream",
          "name": "stdout",
          "text": [
            "[CV] END max_depth=4, max_features=sqrt, min_samples_leaf=10, min_samples_split=5, n_estimators=50; total time=   0.1s\n",
            "[CV] END max_depth=4, max_features=sqrt, min_samples_leaf=10, min_samples_split=5, n_estimators=50; total time=   0.1s\n",
            "[CV] END max_depth=4, max_features=sqrt, min_samples_leaf=10, min_samples_split=5, n_estimators=50; total time=   0.1s\n",
            "[CV] END max_depth=4, max_features=sqrt, min_samples_leaf=10, min_samples_split=5, n_estimators=50; total time=   0.1s\n",
            "[CV] END max_depth=4, max_features=sqrt, min_samples_leaf=10, min_samples_split=5, n_estimators=50; total time=   0.1s\n",
            "[CV] END max_depth=1, max_features=log2, min_samples_leaf=1, min_samples_split=8, n_estimators=90; total time=   0.1s\n",
            "[CV] END max_depth=1, max_features=log2, min_samples_leaf=1, min_samples_split=8, n_estimators=90; total time=   0.1s\n",
            "[CV] END max_depth=1, max_features=log2, min_samples_leaf=1, min_samples_split=8, n_estimators=90; total time=   0.1s\n",
            "[CV] END max_depth=1, max_features=log2, min_samples_leaf=1, min_samples_split=8, n_estimators=90; total time=   0.1s\n",
            "[CV] END max_depth=1, max_features=log2, min_samples_leaf=1, min_samples_split=8, n_estimators=90; total time=   0.1s\n",
            "[CV] END max_depth=3, max_features=sqrt, min_samples_leaf=4, min_samples_split=10, n_estimators=50; total time=   0.1s\n",
            "[CV] END max_depth=3, max_features=sqrt, min_samples_leaf=4, min_samples_split=10, n_estimators=50; total time=   0.1s\n",
            "[CV] END max_depth=3, max_features=sqrt, min_samples_leaf=4, min_samples_split=10, n_estimators=50; total time=   0.1s\n",
            "[CV] END max_depth=3, max_features=sqrt, min_samples_leaf=4, min_samples_split=10, n_estimators=50; total time=   0.1s\n",
            "[CV] END max_depth=3, max_features=sqrt, min_samples_leaf=4, min_samples_split=10, n_estimators=50; total time=   0.1s\n",
            "[CV] END max_depth=5, max_features=log2, min_samples_leaf=7, min_samples_split=7, n_estimators=70; total time=   0.1s\n",
            "[CV] END max_depth=5, max_features=log2, min_samples_leaf=7, min_samples_split=7, n_estimators=70; total time=   0.1s\n",
            "[CV] END max_depth=5, max_features=log2, min_samples_leaf=7, min_samples_split=7, n_estimators=70; total time=   0.1s\n",
            "[CV] END max_depth=5, max_features=log2, min_samples_leaf=7, min_samples_split=7, n_estimators=70; total time=   0.1s\n",
            "[CV] END max_depth=5, max_features=log2, min_samples_leaf=7, min_samples_split=7, n_estimators=70; total time=   0.1s\n",
            "[CV] END max_depth=7, max_features=sqrt, min_samples_leaf=8, min_samples_split=10, n_estimators=90; total time=   0.1s\n",
            "[CV] END max_depth=7, max_features=sqrt, min_samples_leaf=8, min_samples_split=10, n_estimators=90; total time=   0.1s\n",
            "[CV] END max_depth=7, max_features=sqrt, min_samples_leaf=8, min_samples_split=10, n_estimators=90; total time=   0.1s\n",
            "[CV] END max_depth=7, max_features=sqrt, min_samples_leaf=8, min_samples_split=10, n_estimators=90; total time=   0.1s\n",
            "[CV] END max_depth=7, max_features=sqrt, min_samples_leaf=8, min_samples_split=10, n_estimators=90; total time=   0.1s\n",
            "[CV] END max_depth=4, max_features=log2, min_samples_leaf=4, min_samples_split=2, n_estimators=90; total time=   0.1s\n",
            "[CV] END max_depth=4, max_features=log2, min_samples_leaf=4, min_samples_split=2, n_estimators=90; total time=   0.1s\n",
            "[CV] END max_depth=4, max_features=log2, min_samples_leaf=4, min_samples_split=2, n_estimators=90; total time=   0.1s\n",
            "[CV] END max_depth=4, max_features=log2, min_samples_leaf=4, min_samples_split=2, n_estimators=90; total time=   0.1s\n",
            "[CV] END max_depth=4, max_features=log2, min_samples_leaf=4, min_samples_split=2, n_estimators=90; total time=   0.1s\n",
            "[CV] END max_depth=8, max_features=log2, min_samples_leaf=1, min_samples_split=8, n_estimators=40; total time=   0.1s\n",
            "[CV] END max_depth=8, max_features=log2, min_samples_leaf=1, min_samples_split=8, n_estimators=40; total time=   0.1s\n",
            "[CV] END max_depth=8, max_features=log2, min_samples_leaf=1, min_samples_split=8, n_estimators=40; total time=   0.1s\n",
            "[CV] END max_depth=8, max_features=log2, min_samples_leaf=1, min_samples_split=8, n_estimators=40; total time=   0.1s\n",
            "[CV] END max_depth=8, max_features=log2, min_samples_leaf=1, min_samples_split=8, n_estimators=40; total time=   0.1s\n",
            "[CV] END max_depth=9, max_features=log2, min_samples_leaf=4, min_samples_split=3, n_estimators=10; total time=   0.0s\n",
            "[CV] END max_depth=9, max_features=log2, min_samples_leaf=4, min_samples_split=3, n_estimators=10; total time=   0.0s\n",
            "[CV] END max_depth=9, max_features=log2, min_samples_leaf=4, min_samples_split=3, n_estimators=10; total time=   0.0s\n",
            "[CV] END max_depth=9, max_features=log2, min_samples_leaf=4, min_samples_split=3, n_estimators=10; total time=   0.0s\n",
            "[CV] END max_depth=9, max_features=log2, min_samples_leaf=4, min_samples_split=3, n_estimators=10; total time=   0.0s\n",
            "[CV] END max_depth=10, max_features=auto, min_samples_leaf=8, min_samples_split=10, n_estimators=30; total time=   0.1s\n"
          ]
        },
        {
          "output_type": "stream",
          "name": "stderr",
          "text": [
            "/usr/local/lib/python3.10/dist-packages/sklearn/ensemble/_forest.py:413: FutureWarning: `max_features='auto'` has been deprecated in 1.1 and will be removed in 1.3. To keep the past behaviour, explicitly set `max_features=1.0` or remove this parameter as it is also the default value for RandomForestRegressors and ExtraTreesRegressors.\n",
            "  warn(\n",
            "/usr/local/lib/python3.10/dist-packages/sklearn/ensemble/_forest.py:413: FutureWarning: `max_features='auto'` has been deprecated in 1.1 and will be removed in 1.3. To keep the past behaviour, explicitly set `max_features=1.0` or remove this parameter as it is also the default value for RandomForestRegressors and ExtraTreesRegressors.\n",
            "  warn(\n",
            "/usr/local/lib/python3.10/dist-packages/sklearn/ensemble/_forest.py:413: FutureWarning: `max_features='auto'` has been deprecated in 1.1 and will be removed in 1.3. To keep the past behaviour, explicitly set `max_features=1.0` or remove this parameter as it is also the default value for RandomForestRegressors and ExtraTreesRegressors.\n",
            "  warn(\n",
            "/usr/local/lib/python3.10/dist-packages/sklearn/ensemble/_forest.py:413: FutureWarning: `max_features='auto'` has been deprecated in 1.1 and will be removed in 1.3. To keep the past behaviour, explicitly set `max_features=1.0` or remove this parameter as it is also the default value for RandomForestRegressors and ExtraTreesRegressors.\n",
            "  warn(\n"
          ]
        },
        {
          "output_type": "stream",
          "name": "stdout",
          "text": [
            "[CV] END max_depth=10, max_features=auto, min_samples_leaf=8, min_samples_split=10, n_estimators=30; total time=   0.1s\n",
            "[CV] END max_depth=10, max_features=auto, min_samples_leaf=8, min_samples_split=10, n_estimators=30; total time=   0.1s\n",
            "[CV] END max_depth=10, max_features=auto, min_samples_leaf=8, min_samples_split=10, n_estimators=30; total time=   0.1s\n",
            "[CV] END max_depth=10, max_features=auto, min_samples_leaf=8, min_samples_split=10, n_estimators=30; total time=   0.1s\n"
          ]
        },
        {
          "output_type": "stream",
          "name": "stderr",
          "text": [
            "/usr/local/lib/python3.10/dist-packages/sklearn/ensemble/_forest.py:413: FutureWarning: `max_features='auto'` has been deprecated in 1.1 and will be removed in 1.3. To keep the past behaviour, explicitly set `max_features=1.0` or remove this parameter as it is also the default value for RandomForestRegressors and ExtraTreesRegressors.\n",
            "  warn(\n"
          ]
        },
        {
          "output_type": "stream",
          "name": "stdout",
          "text": [
            "[CV] END max_depth=2, max_features=sqrt, min_samples_leaf=1, min_samples_split=9, n_estimators=30; total time=   0.0s\n",
            "[CV] END max_depth=2, max_features=sqrt, min_samples_leaf=1, min_samples_split=9, n_estimators=30; total time=   0.1s\n",
            "[CV] END max_depth=2, max_features=sqrt, min_samples_leaf=1, min_samples_split=9, n_estimators=30; total time=   0.0s\n",
            "[CV] END max_depth=2, max_features=sqrt, min_samples_leaf=1, min_samples_split=9, n_estimators=30; total time=   0.0s\n",
            "[CV] END max_depth=2, max_features=sqrt, min_samples_leaf=1, min_samples_split=9, n_estimators=30; total time=   0.0s\n",
            "[CV] END max_depth=7, max_features=sqrt, min_samples_leaf=8, min_samples_split=9, n_estimators=60; total time=   0.1s\n",
            "[CV] END max_depth=7, max_features=sqrt, min_samples_leaf=8, min_samples_split=9, n_estimators=60; total time=   0.1s\n",
            "[CV] END max_depth=7, max_features=sqrt, min_samples_leaf=8, min_samples_split=9, n_estimators=60; total time=   0.1s\n",
            "[CV] END max_depth=7, max_features=sqrt, min_samples_leaf=8, min_samples_split=9, n_estimators=60; total time=   0.1s\n",
            "[CV] END max_depth=7, max_features=sqrt, min_samples_leaf=8, min_samples_split=9, n_estimators=60; total time=   0.1s\n",
            "[CV] END max_depth=9, max_features=sqrt, min_samples_leaf=5, min_samples_split=8, n_estimators=70; total time=   0.1s\n",
            "[CV] END max_depth=9, max_features=sqrt, min_samples_leaf=5, min_samples_split=8, n_estimators=70; total time=   0.1s\n",
            "[CV] END max_depth=9, max_features=sqrt, min_samples_leaf=5, min_samples_split=8, n_estimators=70; total time=   0.1s\n",
            "[CV] END max_depth=9, max_features=sqrt, min_samples_leaf=5, min_samples_split=8, n_estimators=70; total time=   0.1s\n",
            "[CV] END max_depth=9, max_features=sqrt, min_samples_leaf=5, min_samples_split=8, n_estimators=70; total time=   0.1s\n",
            "[CV] END max_depth=10, max_features=sqrt, min_samples_leaf=10, min_samples_split=7, n_estimators=10; total time=   0.0s\n",
            "[CV] END max_depth=10, max_features=sqrt, min_samples_leaf=10, min_samples_split=7, n_estimators=10; total time=   0.0s\n",
            "[CV] END max_depth=10, max_features=sqrt, min_samples_leaf=10, min_samples_split=7, n_estimators=10; total time=   0.0s\n",
            "[CV] END max_depth=10, max_features=sqrt, min_samples_leaf=10, min_samples_split=7, n_estimators=10; total time=   0.0s\n",
            "[CV] END max_depth=10, max_features=sqrt, min_samples_leaf=10, min_samples_split=7, n_estimators=10; total time=   0.0s\n"
          ]
        },
        {
          "output_type": "stream",
          "name": "stderr",
          "text": [
            "/usr/local/lib/python3.10/dist-packages/sklearn/ensemble/_forest.py:413: FutureWarning: `max_features='auto'` has been deprecated in 1.1 and will be removed in 1.3. To keep the past behaviour, explicitly set `max_features=1.0` or remove this parameter as it is also the default value for RandomForestRegressors and ExtraTreesRegressors.\n",
            "  warn(\n",
            "/usr/local/lib/python3.10/dist-packages/sklearn/ensemble/_forest.py:413: FutureWarning: `max_features='auto'` has been deprecated in 1.1 and will be removed in 1.3. To keep the past behaviour, explicitly set `max_features=1.0` or remove this parameter as it is also the default value for RandomForestRegressors and ExtraTreesRegressors.\n",
            "  warn(\n",
            "/usr/local/lib/python3.10/dist-packages/sklearn/ensemble/_forest.py:413: FutureWarning: `max_features='auto'` has been deprecated in 1.1 and will be removed in 1.3. To keep the past behaviour, explicitly set `max_features=1.0` or remove this parameter as it is also the default value for RandomForestRegressors and ExtraTreesRegressors.\n",
            "  warn(\n"
          ]
        },
        {
          "output_type": "stream",
          "name": "stdout",
          "text": [
            "[CV] END max_depth=4, max_features=auto, min_samples_leaf=1, min_samples_split=8, n_estimators=50; total time=   0.1s\n",
            "[CV] END max_depth=4, max_features=auto, min_samples_leaf=1, min_samples_split=8, n_estimators=50; total time=   0.1s\n",
            "[CV] END max_depth=4, max_features=auto, min_samples_leaf=1, min_samples_split=8, n_estimators=50; total time=   0.1s\n"
          ]
        },
        {
          "output_type": "stream",
          "name": "stderr",
          "text": [
            "/usr/local/lib/python3.10/dist-packages/sklearn/ensemble/_forest.py:413: FutureWarning: `max_features='auto'` has been deprecated in 1.1 and will be removed in 1.3. To keep the past behaviour, explicitly set `max_features=1.0` or remove this parameter as it is also the default value for RandomForestRegressors and ExtraTreesRegressors.\n",
            "  warn(\n",
            "/usr/local/lib/python3.10/dist-packages/sklearn/ensemble/_forest.py:413: FutureWarning: `max_features='auto'` has been deprecated in 1.1 and will be removed in 1.3. To keep the past behaviour, explicitly set `max_features=1.0` or remove this parameter as it is also the default value for RandomForestRegressors and ExtraTreesRegressors.\n",
            "  warn(\n"
          ]
        },
        {
          "output_type": "stream",
          "name": "stdout",
          "text": [
            "[CV] END max_depth=4, max_features=auto, min_samples_leaf=1, min_samples_split=8, n_estimators=50; total time=   0.1s\n",
            "[CV] END max_depth=4, max_features=auto, min_samples_leaf=1, min_samples_split=8, n_estimators=50; total time=   0.1s\n",
            "[CV] END max_depth=8, max_features=log2, min_samples_leaf=4, min_samples_split=2, n_estimators=50; total time=   0.1s\n",
            "[CV] END max_depth=8, max_features=log2, min_samples_leaf=4, min_samples_split=2, n_estimators=50; total time=   0.1s\n",
            "[CV] END max_depth=8, max_features=log2, min_samples_leaf=4, min_samples_split=2, n_estimators=50; total time=   0.1s\n",
            "[CV] END max_depth=8, max_features=log2, min_samples_leaf=4, min_samples_split=2, n_estimators=50; total time=   0.1s\n",
            "[CV] END max_depth=8, max_features=log2, min_samples_leaf=4, min_samples_split=2, n_estimators=50; total time=   0.1s\n",
            "[CV] END max_depth=10, max_features=log2, min_samples_leaf=6, min_samples_split=4, n_estimators=30; total time=   0.1s\n",
            "[CV] END max_depth=10, max_features=log2, min_samples_leaf=6, min_samples_split=4, n_estimators=30; total time=   0.1s\n",
            "[CV] END max_depth=10, max_features=log2, min_samples_leaf=6, min_samples_split=4, n_estimators=30; total time=   0.1s\n",
            "[CV] END max_depth=10, max_features=log2, min_samples_leaf=6, min_samples_split=4, n_estimators=30; total time=   0.1s\n",
            "[CV] END max_depth=10, max_features=log2, min_samples_leaf=6, min_samples_split=4, n_estimators=30; total time=   0.1s\n",
            "[CV] END max_depth=9, max_features=auto, min_samples_leaf=7, min_samples_split=8, n_estimators=50; total time=   0.1s\n"
          ]
        },
        {
          "output_type": "stream",
          "name": "stderr",
          "text": [
            "/usr/local/lib/python3.10/dist-packages/sklearn/ensemble/_forest.py:413: FutureWarning: `max_features='auto'` has been deprecated in 1.1 and will be removed in 1.3. To keep the past behaviour, explicitly set `max_features=1.0` or remove this parameter as it is also the default value for RandomForestRegressors and ExtraTreesRegressors.\n",
            "  warn(\n",
            "/usr/local/lib/python3.10/dist-packages/sklearn/ensemble/_forest.py:413: FutureWarning: `max_features='auto'` has been deprecated in 1.1 and will be removed in 1.3. To keep the past behaviour, explicitly set `max_features=1.0` or remove this parameter as it is also the default value for RandomForestRegressors and ExtraTreesRegressors.\n",
            "  warn(\n"
          ]
        },
        {
          "output_type": "stream",
          "name": "stdout",
          "text": [
            "[CV] END max_depth=9, max_features=auto, min_samples_leaf=7, min_samples_split=8, n_estimators=50; total time=   0.1s\n",
            "[CV] END max_depth=9, max_features=auto, min_samples_leaf=7, min_samples_split=8, n_estimators=50; total time=   0.1s\n",
            "[CV] END max_depth=9, max_features=auto, min_samples_leaf=7, min_samples_split=8, n_estimators=50; total time=   0.1s\n"
          ]
        },
        {
          "output_type": "stream",
          "name": "stderr",
          "text": [
            "/usr/local/lib/python3.10/dist-packages/sklearn/ensemble/_forest.py:413: FutureWarning: `max_features='auto'` has been deprecated in 1.1 and will be removed in 1.3. To keep the past behaviour, explicitly set `max_features=1.0` or remove this parameter as it is also the default value for RandomForestRegressors and ExtraTreesRegressors.\n",
            "  warn(\n",
            "/usr/local/lib/python3.10/dist-packages/sklearn/ensemble/_forest.py:413: FutureWarning: `max_features='auto'` has been deprecated in 1.1 and will be removed in 1.3. To keep the past behaviour, explicitly set `max_features=1.0` or remove this parameter as it is also the default value for RandomForestRegressors and ExtraTreesRegressors.\n",
            "  warn(\n",
            "/usr/local/lib/python3.10/dist-packages/sklearn/ensemble/_forest.py:413: FutureWarning: `max_features='auto'` has been deprecated in 1.1 and will be removed in 1.3. To keep the past behaviour, explicitly set `max_features=1.0` or remove this parameter as it is also the default value for RandomForestRegressors and ExtraTreesRegressors.\n",
            "  warn(\n"
          ]
        },
        {
          "output_type": "stream",
          "name": "stdout",
          "text": [
            "[CV] END max_depth=9, max_features=auto, min_samples_leaf=7, min_samples_split=8, n_estimators=50; total time=   0.1s\n",
            "[CV] END max_depth=2, max_features=log2, min_samples_leaf=8, min_samples_split=7, n_estimators=80; total time=   0.1s\n",
            "[CV] END max_depth=2, max_features=log2, min_samples_leaf=8, min_samples_split=7, n_estimators=80; total time=   0.1s\n",
            "[CV] END max_depth=2, max_features=log2, min_samples_leaf=8, min_samples_split=7, n_estimators=80; total time=   0.1s\n",
            "[CV] END max_depth=2, max_features=log2, min_samples_leaf=8, min_samples_split=7, n_estimators=80; total time=   0.1s\n",
            "[CV] END max_depth=2, max_features=log2, min_samples_leaf=8, min_samples_split=7, n_estimators=80; total time=   0.1s\n",
            "[CV] END max_depth=7, max_features=log2, min_samples_leaf=6, min_samples_split=9, n_estimators=40; total time=   0.1s\n",
            "[CV] END max_depth=7, max_features=log2, min_samples_leaf=6, min_samples_split=9, n_estimators=40; total time=   0.1s\n",
            "[CV] END max_depth=7, max_features=log2, min_samples_leaf=6, min_samples_split=9, n_estimators=40; total time=   0.1s\n",
            "[CV] END max_depth=7, max_features=log2, min_samples_leaf=6, min_samples_split=9, n_estimators=40; total time=   0.1s\n",
            "[CV] END max_depth=7, max_features=log2, min_samples_leaf=6, min_samples_split=9, n_estimators=40; total time=   0.1s\n"
          ]
        },
        {
          "output_type": "stream",
          "name": "stderr",
          "text": [
            "/usr/local/lib/python3.10/dist-packages/sklearn/ensemble/_forest.py:413: FutureWarning: `max_features='auto'` has been deprecated in 1.1 and will be removed in 1.3. To keep the past behaviour, explicitly set `max_features=1.0` or remove this parameter as it is also the default value for RandomForestRegressors and ExtraTreesRegressors.\n",
            "  warn(\n",
            "/usr/local/lib/python3.10/dist-packages/sklearn/ensemble/_forest.py:413: FutureWarning: `max_features='auto'` has been deprecated in 1.1 and will be removed in 1.3. To keep the past behaviour, explicitly set `max_features=1.0` or remove this parameter as it is also the default value for RandomForestRegressors and ExtraTreesRegressors.\n",
            "  warn(\n"
          ]
        },
        {
          "output_type": "stream",
          "name": "stdout",
          "text": [
            "[CV] END max_depth=7, max_features=auto, min_samples_leaf=10, min_samples_split=5, n_estimators=70; total time=   0.1s\n",
            "[CV] END max_depth=7, max_features=auto, min_samples_leaf=10, min_samples_split=5, n_estimators=70; total time=   0.1s\n"
          ]
        },
        {
          "output_type": "stream",
          "name": "stderr",
          "text": [
            "/usr/local/lib/python3.10/dist-packages/sklearn/ensemble/_forest.py:413: FutureWarning: `max_features='auto'` has been deprecated in 1.1 and will be removed in 1.3. To keep the past behaviour, explicitly set `max_features=1.0` or remove this parameter as it is also the default value for RandomForestRegressors and ExtraTreesRegressors.\n",
            "  warn(\n",
            "/usr/local/lib/python3.10/dist-packages/sklearn/ensemble/_forest.py:413: FutureWarning: `max_features='auto'` has been deprecated in 1.1 and will be removed in 1.3. To keep the past behaviour, explicitly set `max_features=1.0` or remove this parameter as it is also the default value for RandomForestRegressors and ExtraTreesRegressors.\n",
            "  warn(\n"
          ]
        },
        {
          "output_type": "stream",
          "name": "stdout",
          "text": [
            "[CV] END max_depth=7, max_features=auto, min_samples_leaf=10, min_samples_split=5, n_estimators=70; total time=   0.1s\n",
            "[CV] END max_depth=7, max_features=auto, min_samples_leaf=10, min_samples_split=5, n_estimators=70; total time=   0.1s\n"
          ]
        },
        {
          "output_type": "stream",
          "name": "stderr",
          "text": [
            "/usr/local/lib/python3.10/dist-packages/sklearn/ensemble/_forest.py:413: FutureWarning: `max_features='auto'` has been deprecated in 1.1 and will be removed in 1.3. To keep the past behaviour, explicitly set `max_features=1.0` or remove this parameter as it is also the default value for RandomForestRegressors and ExtraTreesRegressors.\n",
            "  warn(\n"
          ]
        },
        {
          "output_type": "stream",
          "name": "stdout",
          "text": [
            "[CV] END max_depth=7, max_features=auto, min_samples_leaf=10, min_samples_split=5, n_estimators=70; total time=   0.1s\n",
            "[CV] END max_depth=2, max_features=log2, min_samples_leaf=5, min_samples_split=3, n_estimators=80; total time=   0.1s\n",
            "[CV] END max_depth=2, max_features=log2, min_samples_leaf=5, min_samples_split=3, n_estimators=80; total time=   0.1s\n",
            "[CV] END max_depth=2, max_features=log2, min_samples_leaf=5, min_samples_split=3, n_estimators=80; total time=   0.1s\n",
            "[CV] END max_depth=2, max_features=log2, min_samples_leaf=5, min_samples_split=3, n_estimators=80; total time=   0.1s\n",
            "[CV] END max_depth=2, max_features=log2, min_samples_leaf=5, min_samples_split=3, n_estimators=80; total time=   0.1s\n",
            "[CV] END max_depth=1, max_features=sqrt, min_samples_leaf=3, min_samples_split=10, n_estimators=60; total time=   0.1s\n",
            "[CV] END max_depth=1, max_features=sqrt, min_samples_leaf=3, min_samples_split=10, n_estimators=60; total time=   0.1s\n",
            "[CV] END max_depth=1, max_features=sqrt, min_samples_leaf=3, min_samples_split=10, n_estimators=60; total time=   0.1s\n",
            "[CV] END max_depth=1, max_features=sqrt, min_samples_leaf=3, min_samples_split=10, n_estimators=60; total time=   0.1s\n",
            "[CV] END max_depth=1, max_features=sqrt, min_samples_leaf=3, min_samples_split=10, n_estimators=60; total time=   0.1s\n",
            "[CV] END max_depth=10, max_features=auto, min_samples_leaf=6, min_samples_split=2, n_estimators=30; total time=   0.1s\n",
            "[CV] END max_depth=10, max_features=auto, min_samples_leaf=6, min_samples_split=2, n_estimators=30; total time=   0.1s\n",
            "[CV] END max_depth=10, max_features=auto, min_samples_leaf=6, min_samples_split=2, n_estimators=30; total time=   0.1s\n"
          ]
        },
        {
          "output_type": "stream",
          "name": "stderr",
          "text": [
            "/usr/local/lib/python3.10/dist-packages/sklearn/ensemble/_forest.py:413: FutureWarning: `max_features='auto'` has been deprecated in 1.1 and will be removed in 1.3. To keep the past behaviour, explicitly set `max_features=1.0` or remove this parameter as it is also the default value for RandomForestRegressors and ExtraTreesRegressors.\n",
            "  warn(\n",
            "/usr/local/lib/python3.10/dist-packages/sklearn/ensemble/_forest.py:413: FutureWarning: `max_features='auto'` has been deprecated in 1.1 and will be removed in 1.3. To keep the past behaviour, explicitly set `max_features=1.0` or remove this parameter as it is also the default value for RandomForestRegressors and ExtraTreesRegressors.\n",
            "  warn(\n",
            "/usr/local/lib/python3.10/dist-packages/sklearn/ensemble/_forest.py:413: FutureWarning: `max_features='auto'` has been deprecated in 1.1 and will be removed in 1.3. To keep the past behaviour, explicitly set `max_features=1.0` or remove this parameter as it is also the default value for RandomForestRegressors and ExtraTreesRegressors.\n",
            "  warn(\n",
            "/usr/local/lib/python3.10/dist-packages/sklearn/ensemble/_forest.py:413: FutureWarning: `max_features='auto'` has been deprecated in 1.1 and will be removed in 1.3. To keep the past behaviour, explicitly set `max_features=1.0` or remove this parameter as it is also the default value for RandomForestRegressors and ExtraTreesRegressors.\n",
            "  warn(\n",
            "/usr/local/lib/python3.10/dist-packages/sklearn/ensemble/_forest.py:413: FutureWarning: `max_features='auto'` has been deprecated in 1.1 and will be removed in 1.3. To keep the past behaviour, explicitly set `max_features=1.0` or remove this parameter as it is also the default value for RandomForestRegressors and ExtraTreesRegressors.\n",
            "  warn(\n",
            "/usr/local/lib/python3.10/dist-packages/sklearn/ensemble/_forest.py:413: FutureWarning: `max_features='auto'` has been deprecated in 1.1 and will be removed in 1.3. To keep the past behaviour, explicitly set `max_features=1.0` or remove this parameter as it is also the default value for RandomForestRegressors and ExtraTreesRegressors.\n",
            "  warn(\n"
          ]
        },
        {
          "output_type": "stream",
          "name": "stdout",
          "text": [
            "[CV] END max_depth=10, max_features=auto, min_samples_leaf=6, min_samples_split=2, n_estimators=30; total time=   0.1s\n",
            "[CV] END max_depth=10, max_features=auto, min_samples_leaf=6, min_samples_split=2, n_estimators=30; total time=   0.1s\n",
            "[CV] END max_depth=8, max_features=auto, min_samples_leaf=5, min_samples_split=9, n_estimators=50; total time=   0.1s\n"
          ]
        },
        {
          "output_type": "stream",
          "name": "stderr",
          "text": [
            "/usr/local/lib/python3.10/dist-packages/sklearn/ensemble/_forest.py:413: FutureWarning: `max_features='auto'` has been deprecated in 1.1 and will be removed in 1.3. To keep the past behaviour, explicitly set `max_features=1.0` or remove this parameter as it is also the default value for RandomForestRegressors and ExtraTreesRegressors.\n",
            "  warn(\n",
            "/usr/local/lib/python3.10/dist-packages/sklearn/ensemble/_forest.py:413: FutureWarning: `max_features='auto'` has been deprecated in 1.1 and will be removed in 1.3. To keep the past behaviour, explicitly set `max_features=1.0` or remove this parameter as it is also the default value for RandomForestRegressors and ExtraTreesRegressors.\n",
            "  warn(\n"
          ]
        },
        {
          "output_type": "stream",
          "name": "stdout",
          "text": [
            "[CV] END max_depth=8, max_features=auto, min_samples_leaf=5, min_samples_split=9, n_estimators=50; total time=   0.1s\n",
            "[CV] END max_depth=8, max_features=auto, min_samples_leaf=5, min_samples_split=9, n_estimators=50; total time=   0.2s\n"
          ]
        },
        {
          "output_type": "stream",
          "name": "stderr",
          "text": [
            "/usr/local/lib/python3.10/dist-packages/sklearn/ensemble/_forest.py:413: FutureWarning: `max_features='auto'` has been deprecated in 1.1 and will be removed in 1.3. To keep the past behaviour, explicitly set `max_features=1.0` or remove this parameter as it is also the default value for RandomForestRegressors and ExtraTreesRegressors.\n",
            "  warn(\n",
            "/usr/local/lib/python3.10/dist-packages/sklearn/ensemble/_forest.py:413: FutureWarning: `max_features='auto'` has been deprecated in 1.1 and will be removed in 1.3. To keep the past behaviour, explicitly set `max_features=1.0` or remove this parameter as it is also the default value for RandomForestRegressors and ExtraTreesRegressors.\n",
            "  warn(\n"
          ]
        },
        {
          "output_type": "stream",
          "name": "stdout",
          "text": [
            "[CV] END max_depth=8, max_features=auto, min_samples_leaf=5, min_samples_split=9, n_estimators=50; total time=   0.2s\n",
            "[CV] END max_depth=8, max_features=auto, min_samples_leaf=5, min_samples_split=9, n_estimators=50; total time=   0.2s\n"
          ]
        },
        {
          "output_type": "stream",
          "name": "stderr",
          "text": [
            "/usr/local/lib/python3.10/dist-packages/sklearn/ensemble/_forest.py:413: FutureWarning: `max_features='auto'` has been deprecated in 1.1 and will be removed in 1.3. To keep the past behaviour, explicitly set `max_features=1.0` or remove this parameter as it is also the default value for RandomForestRegressors and ExtraTreesRegressors.\n",
            "  warn(\n"
          ]
        },
        {
          "output_type": "stream",
          "name": "stdout",
          "text": [
            "[CV] END max_depth=4, max_features=auto, min_samples_leaf=1, min_samples_split=10, n_estimators=80; total time=   0.2s\n"
          ]
        },
        {
          "output_type": "stream",
          "name": "stderr",
          "text": [
            "/usr/local/lib/python3.10/dist-packages/sklearn/ensemble/_forest.py:413: FutureWarning: `max_features='auto'` has been deprecated in 1.1 and will be removed in 1.3. To keep the past behaviour, explicitly set `max_features=1.0` or remove this parameter as it is also the default value for RandomForestRegressors and ExtraTreesRegressors.\n",
            "  warn(\n"
          ]
        },
        {
          "output_type": "stream",
          "name": "stdout",
          "text": [
            "[CV] END max_depth=4, max_features=auto, min_samples_leaf=1, min_samples_split=10, n_estimators=80; total time=   0.2s\n"
          ]
        },
        {
          "output_type": "stream",
          "name": "stderr",
          "text": [
            "/usr/local/lib/python3.10/dist-packages/sklearn/ensemble/_forest.py:413: FutureWarning: `max_features='auto'` has been deprecated in 1.1 and will be removed in 1.3. To keep the past behaviour, explicitly set `max_features=1.0` or remove this parameter as it is also the default value for RandomForestRegressors and ExtraTreesRegressors.\n",
            "  warn(\n"
          ]
        },
        {
          "output_type": "stream",
          "name": "stdout",
          "text": [
            "[CV] END max_depth=4, max_features=auto, min_samples_leaf=1, min_samples_split=10, n_estimators=80; total time=   0.2s\n"
          ]
        },
        {
          "output_type": "stream",
          "name": "stderr",
          "text": [
            "/usr/local/lib/python3.10/dist-packages/sklearn/ensemble/_forest.py:413: FutureWarning: `max_features='auto'` has been deprecated in 1.1 and will be removed in 1.3. To keep the past behaviour, explicitly set `max_features=1.0` or remove this parameter as it is also the default value for RandomForestRegressors and ExtraTreesRegressors.\n",
            "  warn(\n"
          ]
        },
        {
          "output_type": "stream",
          "name": "stdout",
          "text": [
            "[CV] END max_depth=4, max_features=auto, min_samples_leaf=1, min_samples_split=10, n_estimators=80; total time=   0.2s\n"
          ]
        },
        {
          "output_type": "stream",
          "name": "stderr",
          "text": [
            "/usr/local/lib/python3.10/dist-packages/sklearn/ensemble/_forest.py:413: FutureWarning: `max_features='auto'` has been deprecated in 1.1 and will be removed in 1.3. To keep the past behaviour, explicitly set `max_features=1.0` or remove this parameter as it is also the default value for RandomForestRegressors and ExtraTreesRegressors.\n",
            "  warn(\n"
          ]
        },
        {
          "output_type": "stream",
          "name": "stdout",
          "text": [
            "[CV] END max_depth=4, max_features=auto, min_samples_leaf=1, min_samples_split=10, n_estimators=80; total time=   0.2s\n"
          ]
        },
        {
          "output_type": "stream",
          "name": "stderr",
          "text": [
            "/usr/local/lib/python3.10/dist-packages/sklearn/ensemble/_forest.py:413: FutureWarning: `max_features='auto'` has been deprecated in 1.1 and will be removed in 1.3. To keep the past behaviour, explicitly set `max_features=1.0` or remove this parameter as it is also the default value for RandomForestRegressors and ExtraTreesRegressors.\n",
            "  warn(\n"
          ]
        },
        {
          "output_type": "stream",
          "name": "stdout",
          "text": [
            "[CV] END max_depth=5, max_features=auto, min_samples_leaf=1, min_samples_split=7, n_estimators=80; total time=   0.3s\n"
          ]
        },
        {
          "output_type": "stream",
          "name": "stderr",
          "text": [
            "/usr/local/lib/python3.10/dist-packages/sklearn/ensemble/_forest.py:413: FutureWarning: `max_features='auto'` has been deprecated in 1.1 and will be removed in 1.3. To keep the past behaviour, explicitly set `max_features=1.0` or remove this parameter as it is also the default value for RandomForestRegressors and ExtraTreesRegressors.\n",
            "  warn(\n"
          ]
        },
        {
          "output_type": "stream",
          "name": "stdout",
          "text": [
            "[CV] END max_depth=5, max_features=auto, min_samples_leaf=1, min_samples_split=7, n_estimators=80; total time=   0.2s\n"
          ]
        },
        {
          "output_type": "stream",
          "name": "stderr",
          "text": [
            "/usr/local/lib/python3.10/dist-packages/sklearn/ensemble/_forest.py:413: FutureWarning: `max_features='auto'` has been deprecated in 1.1 and will be removed in 1.3. To keep the past behaviour, explicitly set `max_features=1.0` or remove this parameter as it is also the default value for RandomForestRegressors and ExtraTreesRegressors.\n",
            "  warn(\n"
          ]
        },
        {
          "output_type": "stream",
          "name": "stdout",
          "text": [
            "[CV] END max_depth=5, max_features=auto, min_samples_leaf=1, min_samples_split=7, n_estimators=80; total time=   0.2s\n"
          ]
        },
        {
          "output_type": "stream",
          "name": "stderr",
          "text": [
            "/usr/local/lib/python3.10/dist-packages/sklearn/ensemble/_forest.py:413: FutureWarning: `max_features='auto'` has been deprecated in 1.1 and will be removed in 1.3. To keep the past behaviour, explicitly set `max_features=1.0` or remove this parameter as it is also the default value for RandomForestRegressors and ExtraTreesRegressors.\n",
            "  warn(\n"
          ]
        },
        {
          "output_type": "stream",
          "name": "stdout",
          "text": [
            "[CV] END max_depth=5, max_features=auto, min_samples_leaf=1, min_samples_split=7, n_estimators=80; total time=   0.3s\n"
          ]
        },
        {
          "output_type": "stream",
          "name": "stderr",
          "text": [
            "/usr/local/lib/python3.10/dist-packages/sklearn/ensemble/_forest.py:413: FutureWarning: `max_features='auto'` has been deprecated in 1.1 and will be removed in 1.3. To keep the past behaviour, explicitly set `max_features=1.0` or remove this parameter as it is also the default value for RandomForestRegressors and ExtraTreesRegressors.\n",
            "  warn(\n"
          ]
        },
        {
          "output_type": "stream",
          "name": "stdout",
          "text": [
            "[CV] END max_depth=5, max_features=auto, min_samples_leaf=1, min_samples_split=7, n_estimators=80; total time=   0.2s\n",
            "[CV] END max_depth=9, max_features=auto, min_samples_leaf=5, min_samples_split=4, n_estimators=60; total time=   0.2s\n"
          ]
        },
        {
          "output_type": "stream",
          "name": "stderr",
          "text": [
            "/usr/local/lib/python3.10/dist-packages/sklearn/ensemble/_forest.py:413: FutureWarning: `max_features='auto'` has been deprecated in 1.1 and will be removed in 1.3. To keep the past behaviour, explicitly set `max_features=1.0` or remove this parameter as it is also the default value for RandomForestRegressors and ExtraTreesRegressors.\n",
            "  warn(\n",
            "/usr/local/lib/python3.10/dist-packages/sklearn/ensemble/_forest.py:413: FutureWarning: `max_features='auto'` has been deprecated in 1.1 and will be removed in 1.3. To keep the past behaviour, explicitly set `max_features=1.0` or remove this parameter as it is also the default value for RandomForestRegressors and ExtraTreesRegressors.\n",
            "  warn(\n"
          ]
        },
        {
          "output_type": "stream",
          "name": "stdout",
          "text": [
            "[CV] END max_depth=9, max_features=auto, min_samples_leaf=5, min_samples_split=4, n_estimators=60; total time=   0.1s\n",
            "[CV] END max_depth=9, max_features=auto, min_samples_leaf=5, min_samples_split=4, n_estimators=60; total time=   0.1s\n"
          ]
        },
        {
          "output_type": "stream",
          "name": "stderr",
          "text": [
            "/usr/local/lib/python3.10/dist-packages/sklearn/ensemble/_forest.py:413: FutureWarning: `max_features='auto'` has been deprecated in 1.1 and will be removed in 1.3. To keep the past behaviour, explicitly set `max_features=1.0` or remove this parameter as it is also the default value for RandomForestRegressors and ExtraTreesRegressors.\n",
            "  warn(\n",
            "/usr/local/lib/python3.10/dist-packages/sklearn/ensemble/_forest.py:413: FutureWarning: `max_features='auto'` has been deprecated in 1.1 and will be removed in 1.3. To keep the past behaviour, explicitly set `max_features=1.0` or remove this parameter as it is also the default value for RandomForestRegressors and ExtraTreesRegressors.\n",
            "  warn(\n"
          ]
        },
        {
          "output_type": "stream",
          "name": "stdout",
          "text": [
            "[CV] END max_depth=9, max_features=auto, min_samples_leaf=5, min_samples_split=4, n_estimators=60; total time=   0.1s\n",
            "[CV] END max_depth=9, max_features=auto, min_samples_leaf=5, min_samples_split=4, n_estimators=60; total time=   0.1s\n"
          ]
        },
        {
          "output_type": "stream",
          "name": "stderr",
          "text": [
            "/usr/local/lib/python3.10/dist-packages/sklearn/ensemble/_forest.py:413: FutureWarning: `max_features='auto'` has been deprecated in 1.1 and will be removed in 1.3. To keep the past behaviour, explicitly set `max_features=1.0` or remove this parameter as it is also the default value for RandomForestRegressors and ExtraTreesRegressors.\n",
            "  warn(\n"
          ]
        },
        {
          "output_type": "stream",
          "name": "stdout",
          "text": [
            "[CV] END max_depth=2, max_features=log2, min_samples_leaf=2, min_samples_split=7, n_estimators=80; total time=   0.1s\n",
            "[CV] END max_depth=2, max_features=log2, min_samples_leaf=2, min_samples_split=7, n_estimators=80; total time=   0.1s\n",
            "[CV] END max_depth=2, max_features=log2, min_samples_leaf=2, min_samples_split=7, n_estimators=80; total time=   0.1s\n",
            "[CV] END max_depth=2, max_features=log2, min_samples_leaf=2, min_samples_split=7, n_estimators=80; total time=   0.1s\n",
            "[CV] END max_depth=2, max_features=log2, min_samples_leaf=2, min_samples_split=7, n_estimators=80; total time=   0.1s\n",
            "[CV] END max_depth=6, max_features=auto, min_samples_leaf=3, min_samples_split=7, n_estimators=60; total time=   0.1s\n"
          ]
        },
        {
          "output_type": "stream",
          "name": "stderr",
          "text": [
            "/usr/local/lib/python3.10/dist-packages/sklearn/ensemble/_forest.py:413: FutureWarning: `max_features='auto'` has been deprecated in 1.1 and will be removed in 1.3. To keep the past behaviour, explicitly set `max_features=1.0` or remove this parameter as it is also the default value for RandomForestRegressors and ExtraTreesRegressors.\n",
            "  warn(\n",
            "/usr/local/lib/python3.10/dist-packages/sklearn/ensemble/_forest.py:413: FutureWarning: `max_features='auto'` has been deprecated in 1.1 and will be removed in 1.3. To keep the past behaviour, explicitly set `max_features=1.0` or remove this parameter as it is also the default value for RandomForestRegressors and ExtraTreesRegressors.\n",
            "  warn(\n"
          ]
        },
        {
          "output_type": "stream",
          "name": "stdout",
          "text": [
            "[CV] END max_depth=6, max_features=auto, min_samples_leaf=3, min_samples_split=7, n_estimators=60; total time=   0.1s\n",
            "[CV] END max_depth=6, max_features=auto, min_samples_leaf=3, min_samples_split=7, n_estimators=60; total time=   0.1s\n"
          ]
        },
        {
          "output_type": "stream",
          "name": "stderr",
          "text": [
            "/usr/local/lib/python3.10/dist-packages/sklearn/ensemble/_forest.py:413: FutureWarning: `max_features='auto'` has been deprecated in 1.1 and will be removed in 1.3. To keep the past behaviour, explicitly set `max_features=1.0` or remove this parameter as it is also the default value for RandomForestRegressors and ExtraTreesRegressors.\n",
            "  warn(\n",
            "/usr/local/lib/python3.10/dist-packages/sklearn/ensemble/_forest.py:413: FutureWarning: `max_features='auto'` has been deprecated in 1.1 and will be removed in 1.3. To keep the past behaviour, explicitly set `max_features=1.0` or remove this parameter as it is also the default value for RandomForestRegressors and ExtraTreesRegressors.\n",
            "  warn(\n"
          ]
        },
        {
          "output_type": "stream",
          "name": "stdout",
          "text": [
            "[CV] END max_depth=6, max_features=auto, min_samples_leaf=3, min_samples_split=7, n_estimators=60; total time=   0.1s\n",
            "[CV] END max_depth=6, max_features=auto, min_samples_leaf=3, min_samples_split=7, n_estimators=60; total time=   0.1s\n"
          ]
        },
        {
          "output_type": "stream",
          "name": "stderr",
          "text": [
            "/usr/local/lib/python3.10/dist-packages/sklearn/ensemble/_forest.py:413: FutureWarning: `max_features='auto'` has been deprecated in 1.1 and will be removed in 1.3. To keep the past behaviour, explicitly set `max_features=1.0` or remove this parameter as it is also the default value for RandomForestRegressors and ExtraTreesRegressors.\n",
            "  warn(\n"
          ]
        },
        {
          "output_type": "stream",
          "name": "stdout",
          "text": [
            "[CV] END max_depth=8, max_features=log2, min_samples_leaf=3, min_samples_split=4, n_estimators=90; total time=   0.2s\n",
            "[CV] END max_depth=8, max_features=log2, min_samples_leaf=3, min_samples_split=4, n_estimators=90; total time=   0.2s\n",
            "[CV] END max_depth=8, max_features=log2, min_samples_leaf=3, min_samples_split=4, n_estimators=90; total time=   0.2s\n",
            "[CV] END max_depth=8, max_features=log2, min_samples_leaf=3, min_samples_split=4, n_estimators=90; total time=   0.1s\n",
            "[CV] END max_depth=8, max_features=log2, min_samples_leaf=3, min_samples_split=4, n_estimators=90; total time=   0.1s\n",
            "[CV] END max_depth=1, max_features=sqrt, min_samples_leaf=10, min_samples_split=2, n_estimators=20; total time=   0.0s\n",
            "[CV] END max_depth=1, max_features=sqrt, min_samples_leaf=10, min_samples_split=2, n_estimators=20; total time=   0.0s\n",
            "[CV] END max_depth=1, max_features=sqrt, min_samples_leaf=10, min_samples_split=2, n_estimators=20; total time=   0.0s\n",
            "[CV] END max_depth=1, max_features=sqrt, min_samples_leaf=10, min_samples_split=2, n_estimators=20; total time=   0.0s\n",
            "[CV] END max_depth=1, max_features=sqrt, min_samples_leaf=10, min_samples_split=2, n_estimators=20; total time=   0.0s\n",
            "[CV] END max_depth=2, max_features=sqrt, min_samples_leaf=8, min_samples_split=4, n_estimators=30; total time=   0.1s\n",
            "[CV] END max_depth=2, max_features=sqrt, min_samples_leaf=8, min_samples_split=4, n_estimators=30; total time=   0.0s\n",
            "[CV] END max_depth=2, max_features=sqrt, min_samples_leaf=8, min_samples_split=4, n_estimators=30; total time=   0.0s\n",
            "[CV] END max_depth=2, max_features=sqrt, min_samples_leaf=8, min_samples_split=4, n_estimators=30; total time=   0.1s\n",
            "[CV] END max_depth=2, max_features=sqrt, min_samples_leaf=8, min_samples_split=4, n_estimators=30; total time=   0.0s\n"
          ]
        },
        {
          "output_type": "stream",
          "name": "stderr",
          "text": [
            "/usr/local/lib/python3.10/dist-packages/sklearn/ensemble/_forest.py:413: FutureWarning: `max_features='auto'` has been deprecated in 1.1 and will be removed in 1.3. To keep the past behaviour, explicitly set `max_features=1.0` or remove this parameter as it is also the default value for RandomForestRegressors and ExtraTreesRegressors.\n",
            "  warn(\n",
            "/usr/local/lib/python3.10/dist-packages/sklearn/ensemble/_forest.py:413: FutureWarning: `max_features='auto'` has been deprecated in 1.1 and will be removed in 1.3. To keep the past behaviour, explicitly set `max_features=1.0` or remove this parameter as it is also the default value for RandomForestRegressors and ExtraTreesRegressors.\n",
            "  warn(\n",
            "/usr/local/lib/python3.10/dist-packages/sklearn/ensemble/_forest.py:413: FutureWarning: `max_features='auto'` has been deprecated in 1.1 and will be removed in 1.3. To keep the past behaviour, explicitly set `max_features=1.0` or remove this parameter as it is also the default value for RandomForestRegressors and ExtraTreesRegressors.\n",
            "  warn(\n",
            "/usr/local/lib/python3.10/dist-packages/sklearn/ensemble/_forest.py:413: FutureWarning: `max_features='auto'` has been deprecated in 1.1 and will be removed in 1.3. To keep the past behaviour, explicitly set `max_features=1.0` or remove this parameter as it is also the default value for RandomForestRegressors and ExtraTreesRegressors.\n",
            "  warn(\n"
          ]
        },
        {
          "output_type": "stream",
          "name": "stdout",
          "text": [
            "[CV] END max_depth=10, max_features=auto, min_samples_leaf=8, min_samples_split=9, n_estimators=30; total time=   0.1s\n",
            "[CV] END max_depth=10, max_features=auto, min_samples_leaf=8, min_samples_split=9, n_estimators=30; total time=   0.1s\n",
            "[CV] END max_depth=10, max_features=auto, min_samples_leaf=8, min_samples_split=9, n_estimators=30; total time=   0.1s\n",
            "[CV] END max_depth=10, max_features=auto, min_samples_leaf=8, min_samples_split=9, n_estimators=30; total time=   0.1s\n",
            "[CV] END max_depth=10, max_features=auto, min_samples_leaf=8, min_samples_split=9, n_estimators=30; total time=   0.1s\n",
            "[CV] END max_depth=4, max_features=log2, min_samples_leaf=8, min_samples_split=9, n_estimators=50; total time=   0.1s\n"
          ]
        },
        {
          "output_type": "stream",
          "name": "stderr",
          "text": [
            "/usr/local/lib/python3.10/dist-packages/sklearn/ensemble/_forest.py:413: FutureWarning: `max_features='auto'` has been deprecated in 1.1 and will be removed in 1.3. To keep the past behaviour, explicitly set `max_features=1.0` or remove this parameter as it is also the default value for RandomForestRegressors and ExtraTreesRegressors.\n",
            "  warn(\n"
          ]
        },
        {
          "output_type": "stream",
          "name": "stdout",
          "text": [
            "[CV] END max_depth=4, max_features=log2, min_samples_leaf=8, min_samples_split=9, n_estimators=50; total time=   0.1s\n",
            "[CV] END max_depth=4, max_features=log2, min_samples_leaf=8, min_samples_split=9, n_estimators=50; total time=   0.1s\n",
            "[CV] END max_depth=4, max_features=log2, min_samples_leaf=8, min_samples_split=9, n_estimators=50; total time=   0.1s\n",
            "[CV] END max_depth=4, max_features=log2, min_samples_leaf=8, min_samples_split=9, n_estimators=50; total time=   0.1s\n",
            "[CV] END max_depth=10, max_features=auto, min_samples_leaf=3, min_samples_split=2, n_estimators=10; total time=   0.0s\n",
            "[CV] END max_depth=10, max_features=auto, min_samples_leaf=3, min_samples_split=2, n_estimators=10; total time=   0.0s\n",
            "[CV] END max_depth=10, max_features=auto, min_samples_leaf=3, min_samples_split=2, n_estimators=10; total time=   0.0s\n",
            "[CV] END max_depth=10, max_features=auto, min_samples_leaf=3, min_samples_split=2, n_estimators=10; total time=   0.0s\n",
            "[CV] END max_depth=10, max_features=auto, min_samples_leaf=3, min_samples_split=2, n_estimators=10; total time=   0.0s\n"
          ]
        },
        {
          "output_type": "stream",
          "name": "stderr",
          "text": [
            "/usr/local/lib/python3.10/dist-packages/sklearn/ensemble/_forest.py:413: FutureWarning: `max_features='auto'` has been deprecated in 1.1 and will be removed in 1.3. To keep the past behaviour, explicitly set `max_features=1.0` or remove this parameter as it is also the default value for RandomForestRegressors and ExtraTreesRegressors.\n",
            "  warn(\n",
            "/usr/local/lib/python3.10/dist-packages/sklearn/ensemble/_forest.py:413: FutureWarning: `max_features='auto'` has been deprecated in 1.1 and will be removed in 1.3. To keep the past behaviour, explicitly set `max_features=1.0` or remove this parameter as it is also the default value for RandomForestRegressors and ExtraTreesRegressors.\n",
            "  warn(\n",
            "/usr/local/lib/python3.10/dist-packages/sklearn/ensemble/_forest.py:413: FutureWarning: `max_features='auto'` has been deprecated in 1.1 and will be removed in 1.3. To keep the past behaviour, explicitly set `max_features=1.0` or remove this parameter as it is also the default value for RandomForestRegressors and ExtraTreesRegressors.\n",
            "  warn(\n",
            "/usr/local/lib/python3.10/dist-packages/sklearn/ensemble/_forest.py:413: FutureWarning: `max_features='auto'` has been deprecated in 1.1 and will be removed in 1.3. To keep the past behaviour, explicitly set `max_features=1.0` or remove this parameter as it is also the default value for RandomForestRegressors and ExtraTreesRegressors.\n",
            "  warn(\n",
            "/usr/local/lib/python3.10/dist-packages/sklearn/ensemble/_forest.py:413: FutureWarning: `max_features='auto'` has been deprecated in 1.1 and will be removed in 1.3. To keep the past behaviour, explicitly set `max_features=1.0` or remove this parameter as it is also the default value for RandomForestRegressors and ExtraTreesRegressors.\n",
            "  warn(\n"
          ]
        },
        {
          "output_type": "stream",
          "name": "stdout",
          "text": [
            "[CV] END max_depth=4, max_features=log2, min_samples_leaf=10, min_samples_split=6, n_estimators=90; total time=   0.1s\n",
            "[CV] END max_depth=4, max_features=log2, min_samples_leaf=10, min_samples_split=6, n_estimators=90; total time=   0.1s\n",
            "[CV] END max_depth=4, max_features=log2, min_samples_leaf=10, min_samples_split=6, n_estimators=90; total time=   0.1s\n",
            "[CV] END max_depth=4, max_features=log2, min_samples_leaf=10, min_samples_split=6, n_estimators=90; total time=   0.1s\n",
            "[CV] END max_depth=4, max_features=log2, min_samples_leaf=10, min_samples_split=6, n_estimators=90; total time=   0.1s\n",
            "[CV] END max_depth=1, max_features=auto, min_samples_leaf=10, min_samples_split=10, n_estimators=80; total time=   0.1s\n"
          ]
        },
        {
          "output_type": "stream",
          "name": "stderr",
          "text": [
            "/usr/local/lib/python3.10/dist-packages/sklearn/ensemble/_forest.py:413: FutureWarning: `max_features='auto'` has been deprecated in 1.1 and will be removed in 1.3. To keep the past behaviour, explicitly set `max_features=1.0` or remove this parameter as it is also the default value for RandomForestRegressors and ExtraTreesRegressors.\n",
            "  warn(\n",
            "/usr/local/lib/python3.10/dist-packages/sklearn/ensemble/_forest.py:413: FutureWarning: `max_features='auto'` has been deprecated in 1.1 and will be removed in 1.3. To keep the past behaviour, explicitly set `max_features=1.0` or remove this parameter as it is also the default value for RandomForestRegressors and ExtraTreesRegressors.\n",
            "  warn(\n"
          ]
        },
        {
          "output_type": "stream",
          "name": "stdout",
          "text": [
            "[CV] END max_depth=1, max_features=auto, min_samples_leaf=10, min_samples_split=10, n_estimators=80; total time=   0.1s\n",
            "[CV] END max_depth=1, max_features=auto, min_samples_leaf=10, min_samples_split=10, n_estimators=80; total time=   0.1s\n"
          ]
        },
        {
          "output_type": "stream",
          "name": "stderr",
          "text": [
            "/usr/local/lib/python3.10/dist-packages/sklearn/ensemble/_forest.py:413: FutureWarning: `max_features='auto'` has been deprecated in 1.1 and will be removed in 1.3. To keep the past behaviour, explicitly set `max_features=1.0` or remove this parameter as it is also the default value for RandomForestRegressors and ExtraTreesRegressors.\n",
            "  warn(\n",
            "/usr/local/lib/python3.10/dist-packages/sklearn/ensemble/_forest.py:413: FutureWarning: `max_features='auto'` has been deprecated in 1.1 and will be removed in 1.3. To keep the past behaviour, explicitly set `max_features=1.0` or remove this parameter as it is also the default value for RandomForestRegressors and ExtraTreesRegressors.\n",
            "  warn(\n"
          ]
        },
        {
          "output_type": "stream",
          "name": "stdout",
          "text": [
            "[CV] END max_depth=1, max_features=auto, min_samples_leaf=10, min_samples_split=10, n_estimators=80; total time=   0.1s\n",
            "[CV] END max_depth=1, max_features=auto, min_samples_leaf=10, min_samples_split=10, n_estimators=80; total time=   0.1s\n"
          ]
        },
        {
          "output_type": "stream",
          "name": "stderr",
          "text": [
            "/usr/local/lib/python3.10/dist-packages/sklearn/ensemble/_forest.py:413: FutureWarning: `max_features='auto'` has been deprecated in 1.1 and will be removed in 1.3. To keep the past behaviour, explicitly set `max_features=1.0` or remove this parameter as it is also the default value for RandomForestRegressors and ExtraTreesRegressors.\n",
            "  warn(\n"
          ]
        },
        {
          "output_type": "stream",
          "name": "stdout",
          "text": [
            "[CV] END max_depth=2, max_features=log2, min_samples_leaf=10, min_samples_split=6, n_estimators=80; total time=   0.1s\n",
            "[CV] END max_depth=2, max_features=log2, min_samples_leaf=10, min_samples_split=6, n_estimators=80; total time=   0.1s\n",
            "[CV] END max_depth=2, max_features=log2, min_samples_leaf=10, min_samples_split=6, n_estimators=80; total time=   0.1s\n",
            "[CV] END max_depth=2, max_features=log2, min_samples_leaf=10, min_samples_split=6, n_estimators=80; total time=   0.1s\n",
            "[CV] END max_depth=2, max_features=log2, min_samples_leaf=10, min_samples_split=6, n_estimators=80; total time=   0.1s\n",
            "[CV] END max_depth=2, max_features=auto, min_samples_leaf=5, min_samples_split=8, n_estimators=40; total time=   0.1s\n",
            "[CV] END max_depth=2, max_features=auto, min_samples_leaf=5, min_samples_split=8, n_estimators=40; total time=   0.1s\n"
          ]
        },
        {
          "output_type": "stream",
          "name": "stderr",
          "text": [
            "/usr/local/lib/python3.10/dist-packages/sklearn/ensemble/_forest.py:413: FutureWarning: `max_features='auto'` has been deprecated in 1.1 and will be removed in 1.3. To keep the past behaviour, explicitly set `max_features=1.0` or remove this parameter as it is also the default value for RandomForestRegressors and ExtraTreesRegressors.\n",
            "  warn(\n",
            "/usr/local/lib/python3.10/dist-packages/sklearn/ensemble/_forest.py:413: FutureWarning: `max_features='auto'` has been deprecated in 1.1 and will be removed in 1.3. To keep the past behaviour, explicitly set `max_features=1.0` or remove this parameter as it is also the default value for RandomForestRegressors and ExtraTreesRegressors.\n",
            "  warn(\n",
            "/usr/local/lib/python3.10/dist-packages/sklearn/ensemble/_forest.py:413: FutureWarning: `max_features='auto'` has been deprecated in 1.1 and will be removed in 1.3. To keep the past behaviour, explicitly set `max_features=1.0` or remove this parameter as it is also the default value for RandomForestRegressors and ExtraTreesRegressors.\n",
            "  warn(\n"
          ]
        },
        {
          "output_type": "stream",
          "name": "stdout",
          "text": [
            "[CV] END max_depth=2, max_features=auto, min_samples_leaf=5, min_samples_split=8, n_estimators=40; total time=   0.1s\n",
            "[CV] END max_depth=2, max_features=auto, min_samples_leaf=5, min_samples_split=8, n_estimators=40; total time=   0.1s\n",
            "[CV] END max_depth=2, max_features=auto, min_samples_leaf=5, min_samples_split=8, n_estimators=40; total time=   0.1s\n"
          ]
        },
        {
          "output_type": "stream",
          "name": "stderr",
          "text": [
            "/usr/local/lib/python3.10/dist-packages/sklearn/ensemble/_forest.py:413: FutureWarning: `max_features='auto'` has been deprecated in 1.1 and will be removed in 1.3. To keep the past behaviour, explicitly set `max_features=1.0` or remove this parameter as it is also the default value for RandomForestRegressors and ExtraTreesRegressors.\n",
            "  warn(\n",
            "/usr/local/lib/python3.10/dist-packages/sklearn/ensemble/_forest.py:413: FutureWarning: `max_features='auto'` has been deprecated in 1.1 and will be removed in 1.3. To keep the past behaviour, explicitly set `max_features=1.0` or remove this parameter as it is also the default value for RandomForestRegressors and ExtraTreesRegressors.\n",
            "  warn(\n",
            "/usr/local/lib/python3.10/dist-packages/sklearn/ensemble/_forest.py:413: FutureWarning: `max_features='auto'` has been deprecated in 1.1 and will be removed in 1.3. To keep the past behaviour, explicitly set `max_features=1.0` or remove this parameter as it is also the default value for RandomForestRegressors and ExtraTreesRegressors.\n",
            "  warn(\n"
          ]
        },
        {
          "output_type": "stream",
          "name": "stdout",
          "text": [
            "[CV] END max_depth=8, max_features=auto, min_samples_leaf=4, min_samples_split=2, n_estimators=70; total time=   0.1s\n",
            "[CV] END max_depth=8, max_features=auto, min_samples_leaf=4, min_samples_split=2, n_estimators=70; total time=   0.1s\n"
          ]
        },
        {
          "output_type": "stream",
          "name": "stderr",
          "text": [
            "/usr/local/lib/python3.10/dist-packages/sklearn/ensemble/_forest.py:413: FutureWarning: `max_features='auto'` has been deprecated in 1.1 and will be removed in 1.3. To keep the past behaviour, explicitly set `max_features=1.0` or remove this parameter as it is also the default value for RandomForestRegressors and ExtraTreesRegressors.\n",
            "  warn(\n",
            "/usr/local/lib/python3.10/dist-packages/sklearn/ensemble/_forest.py:413: FutureWarning: `max_features='auto'` has been deprecated in 1.1 and will be removed in 1.3. To keep the past behaviour, explicitly set `max_features=1.0` or remove this parameter as it is also the default value for RandomForestRegressors and ExtraTreesRegressors.\n",
            "  warn(\n"
          ]
        },
        {
          "output_type": "stream",
          "name": "stdout",
          "text": [
            "[CV] END max_depth=8, max_features=auto, min_samples_leaf=4, min_samples_split=2, n_estimators=70; total time=   0.1s\n",
            "[CV] END max_depth=8, max_features=auto, min_samples_leaf=4, min_samples_split=2, n_estimators=70; total time=   0.1s\n"
          ]
        },
        {
          "output_type": "stream",
          "name": "stderr",
          "text": [
            "/usr/local/lib/python3.10/dist-packages/sklearn/ensemble/_forest.py:413: FutureWarning: `max_features='auto'` has been deprecated in 1.1 and will be removed in 1.3. To keep the past behaviour, explicitly set `max_features=1.0` or remove this parameter as it is also the default value for RandomForestRegressors and ExtraTreesRegressors.\n",
            "  warn(\n",
            "/usr/local/lib/python3.10/dist-packages/sklearn/ensemble/_forest.py:413: FutureWarning: `max_features='auto'` has been deprecated in 1.1 and will be removed in 1.3. To keep the past behaviour, explicitly set `max_features=1.0` or remove this parameter as it is also the default value for RandomForestRegressors and ExtraTreesRegressors.\n",
            "  warn(\n"
          ]
        },
        {
          "output_type": "stream",
          "name": "stdout",
          "text": [
            "[CV] END max_depth=8, max_features=auto, min_samples_leaf=4, min_samples_split=2, n_estimators=70; total time=   0.2s\n",
            "[CV] END max_depth=2, max_features=sqrt, min_samples_leaf=10, min_samples_split=6, n_estimators=40; total time=   0.1s\n",
            "[CV] END max_depth=2, max_features=sqrt, min_samples_leaf=10, min_samples_split=6, n_estimators=40; total time=   0.1s\n",
            "[CV] END max_depth=2, max_features=sqrt, min_samples_leaf=10, min_samples_split=6, n_estimators=40; total time=   0.1s\n",
            "[CV] END max_depth=2, max_features=sqrt, min_samples_leaf=10, min_samples_split=6, n_estimators=40; total time=   0.1s\n",
            "[CV] END max_depth=2, max_features=sqrt, min_samples_leaf=10, min_samples_split=6, n_estimators=40; total time=   0.1s\n",
            "[CV] END max_depth=5, max_features=sqrt, min_samples_leaf=7, min_samples_split=8, n_estimators=40; total time=   0.1s\n",
            "[CV] END max_depth=5, max_features=sqrt, min_samples_leaf=7, min_samples_split=8, n_estimators=40; total time=   0.1s\n",
            "[CV] END max_depth=5, max_features=sqrt, min_samples_leaf=7, min_samples_split=8, n_estimators=40; total time=   0.1s\n",
            "[CV] END max_depth=5, max_features=sqrt, min_samples_leaf=7, min_samples_split=8, n_estimators=40; total time=   0.1s\n",
            "[CV] END max_depth=5, max_features=sqrt, min_samples_leaf=7, min_samples_split=8, n_estimators=40; total time=   0.1s\n",
            "[CV] END max_depth=5, max_features=sqrt, min_samples_leaf=9, min_samples_split=6, n_estimators=20; total time=   0.0s\n",
            "[CV] END max_depth=5, max_features=sqrt, min_samples_leaf=9, min_samples_split=6, n_estimators=20; total time=   0.0s\n",
            "[CV] END max_depth=5, max_features=sqrt, min_samples_leaf=9, min_samples_split=6, n_estimators=20; total time=   0.0s\n",
            "[CV] END max_depth=5, max_features=sqrt, min_samples_leaf=9, min_samples_split=6, n_estimators=20; total time=   0.0s\n",
            "[CV] END max_depth=5, max_features=sqrt, min_samples_leaf=9, min_samples_split=6, n_estimators=20; total time=   0.0s\n"
          ]
        },
        {
          "output_type": "stream",
          "name": "stderr",
          "text": [
            "/usr/local/lib/python3.10/dist-packages/sklearn/ensemble/_forest.py:413: FutureWarning: `max_features='auto'` has been deprecated in 1.1 and will be removed in 1.3. To keep the past behaviour, explicitly set `max_features=1.0` or remove this parameter as it is also the default value for RandomForestRegressors and ExtraTreesRegressors.\n",
            "  warn(\n",
            "/usr/local/lib/python3.10/dist-packages/sklearn/ensemble/_forest.py:413: FutureWarning: `max_features='auto'` has been deprecated in 1.1 and will be removed in 1.3. To keep the past behaviour, explicitly set `max_features=1.0` or remove this parameter as it is also the default value for RandomForestRegressors and ExtraTreesRegressors.\n",
            "  warn(\n"
          ]
        },
        {
          "output_type": "stream",
          "name": "stdout",
          "text": [
            "[CV] END max_depth=4, max_features=auto, min_samples_leaf=4, min_samples_split=7, n_estimators=100; total time=   0.2s\n",
            "[CV] END max_depth=4, max_features=auto, min_samples_leaf=4, min_samples_split=7, n_estimators=100; total time=   0.2s\n"
          ]
        },
        {
          "output_type": "stream",
          "name": "stderr",
          "text": [
            "/usr/local/lib/python3.10/dist-packages/sklearn/ensemble/_forest.py:413: FutureWarning: `max_features='auto'` has been deprecated in 1.1 and will be removed in 1.3. To keep the past behaviour, explicitly set `max_features=1.0` or remove this parameter as it is also the default value for RandomForestRegressors and ExtraTreesRegressors.\n",
            "  warn(\n",
            "/usr/local/lib/python3.10/dist-packages/sklearn/ensemble/_forest.py:413: FutureWarning: `max_features='auto'` has been deprecated in 1.1 and will be removed in 1.3. To keep the past behaviour, explicitly set `max_features=1.0` or remove this parameter as it is also the default value for RandomForestRegressors and ExtraTreesRegressors.\n",
            "  warn(\n"
          ]
        },
        {
          "output_type": "stream",
          "name": "stdout",
          "text": [
            "[CV] END max_depth=4, max_features=auto, min_samples_leaf=4, min_samples_split=7, n_estimators=100; total time=   0.2s\n",
            "[CV] END max_depth=4, max_features=auto, min_samples_leaf=4, min_samples_split=7, n_estimators=100; total time=   0.2s\n"
          ]
        },
        {
          "output_type": "stream",
          "name": "stderr",
          "text": [
            "/usr/local/lib/python3.10/dist-packages/sklearn/ensemble/_forest.py:413: FutureWarning: `max_features='auto'` has been deprecated in 1.1 and will be removed in 1.3. To keep the past behaviour, explicitly set `max_features=1.0` or remove this parameter as it is also the default value for RandomForestRegressors and ExtraTreesRegressors.\n",
            "  warn(\n",
            "/usr/local/lib/python3.10/dist-packages/sklearn/ensemble/_forest.py:413: FutureWarning: `max_features='auto'` has been deprecated in 1.1 and will be removed in 1.3. To keep the past behaviour, explicitly set `max_features=1.0` or remove this parameter as it is also the default value for RandomForestRegressors and ExtraTreesRegressors.\n",
            "  warn(\n"
          ]
        },
        {
          "output_type": "stream",
          "name": "stdout",
          "text": [
            "[CV] END max_depth=4, max_features=auto, min_samples_leaf=4, min_samples_split=7, n_estimators=100; total time=   0.2s\n",
            "[CV] END max_depth=2, max_features=auto, min_samples_leaf=8, min_samples_split=6, n_estimators=80; total time=   0.1s\n"
          ]
        },
        {
          "output_type": "stream",
          "name": "stderr",
          "text": [
            "/usr/local/lib/python3.10/dist-packages/sklearn/ensemble/_forest.py:413: FutureWarning: `max_features='auto'` has been deprecated in 1.1 and will be removed in 1.3. To keep the past behaviour, explicitly set `max_features=1.0` or remove this parameter as it is also the default value for RandomForestRegressors and ExtraTreesRegressors.\n",
            "  warn(\n",
            "/usr/local/lib/python3.10/dist-packages/sklearn/ensemble/_forest.py:413: FutureWarning: `max_features='auto'` has been deprecated in 1.1 and will be removed in 1.3. To keep the past behaviour, explicitly set `max_features=1.0` or remove this parameter as it is also the default value for RandomForestRegressors and ExtraTreesRegressors.\n",
            "  warn(\n"
          ]
        },
        {
          "output_type": "stream",
          "name": "stdout",
          "text": [
            "[CV] END max_depth=2, max_features=auto, min_samples_leaf=8, min_samples_split=6, n_estimators=80; total time=   0.1s\n",
            "[CV] END max_depth=2, max_features=auto, min_samples_leaf=8, min_samples_split=6, n_estimators=80; total time=   0.1s\n"
          ]
        },
        {
          "output_type": "stream",
          "name": "stderr",
          "text": [
            "/usr/local/lib/python3.10/dist-packages/sklearn/ensemble/_forest.py:413: FutureWarning: `max_features='auto'` has been deprecated in 1.1 and will be removed in 1.3. To keep the past behaviour, explicitly set `max_features=1.0` or remove this parameter as it is also the default value for RandomForestRegressors and ExtraTreesRegressors.\n",
            "  warn(\n",
            "/usr/local/lib/python3.10/dist-packages/sklearn/ensemble/_forest.py:413: FutureWarning: `max_features='auto'` has been deprecated in 1.1 and will be removed in 1.3. To keep the past behaviour, explicitly set `max_features=1.0` or remove this parameter as it is also the default value for RandomForestRegressors and ExtraTreesRegressors.\n",
            "  warn(\n"
          ]
        },
        {
          "output_type": "stream",
          "name": "stdout",
          "text": [
            "[CV] END max_depth=2, max_features=auto, min_samples_leaf=8, min_samples_split=6, n_estimators=80; total time=   0.1s\n",
            "[CV] END max_depth=2, max_features=auto, min_samples_leaf=8, min_samples_split=6, n_estimators=80; total time=   0.1s\n",
            "[CV] END max_depth=10, max_features=sqrt, min_samples_leaf=1, min_samples_split=2, n_estimators=90; total time=   0.2s\n",
            "[CV] END max_depth=10, max_features=sqrt, min_samples_leaf=1, min_samples_split=2, n_estimators=90; total time=   0.2s\n",
            "[CV] END max_depth=10, max_features=sqrt, min_samples_leaf=1, min_samples_split=2, n_estimators=90; total time=   0.2s\n",
            "[CV] END max_depth=10, max_features=sqrt, min_samples_leaf=1, min_samples_split=2, n_estimators=90; total time=   0.2s\n",
            "[CV] END max_depth=10, max_features=sqrt, min_samples_leaf=1, min_samples_split=2, n_estimators=90; total time=   0.2s\n"
          ]
        },
        {
          "output_type": "stream",
          "name": "stderr",
          "text": [
            "/usr/local/lib/python3.10/dist-packages/sklearn/ensemble/_forest.py:413: FutureWarning: `max_features='auto'` has been deprecated in 1.1 and will be removed in 1.3. To keep the past behaviour, explicitly set `max_features=1.0` or remove this parameter as it is also the default value for RandomForestRegressors and ExtraTreesRegressors.\n",
            "  warn(\n"
          ]
        },
        {
          "output_type": "stream",
          "name": "stdout",
          "text": [
            "[CV] END max_depth=6, max_features=auto, min_samples_leaf=10, min_samples_split=6, n_estimators=100; total time=   0.3s\n"
          ]
        },
        {
          "output_type": "stream",
          "name": "stderr",
          "text": [
            "/usr/local/lib/python3.10/dist-packages/sklearn/ensemble/_forest.py:413: FutureWarning: `max_features='auto'` has been deprecated in 1.1 and will be removed in 1.3. To keep the past behaviour, explicitly set `max_features=1.0` or remove this parameter as it is also the default value for RandomForestRegressors and ExtraTreesRegressors.\n",
            "  warn(\n"
          ]
        },
        {
          "output_type": "stream",
          "name": "stdout",
          "text": [
            "[CV] END max_depth=6, max_features=auto, min_samples_leaf=10, min_samples_split=6, n_estimators=100; total time=   0.3s\n"
          ]
        },
        {
          "output_type": "stream",
          "name": "stderr",
          "text": [
            "/usr/local/lib/python3.10/dist-packages/sklearn/ensemble/_forest.py:413: FutureWarning: `max_features='auto'` has been deprecated in 1.1 and will be removed in 1.3. To keep the past behaviour, explicitly set `max_features=1.0` or remove this parameter as it is also the default value for RandomForestRegressors and ExtraTreesRegressors.\n",
            "  warn(\n"
          ]
        },
        {
          "output_type": "stream",
          "name": "stdout",
          "text": [
            "[CV] END max_depth=6, max_features=auto, min_samples_leaf=10, min_samples_split=6, n_estimators=100; total time=   0.3s\n"
          ]
        },
        {
          "output_type": "stream",
          "name": "stderr",
          "text": [
            "/usr/local/lib/python3.10/dist-packages/sklearn/ensemble/_forest.py:413: FutureWarning: `max_features='auto'` has been deprecated in 1.1 and will be removed in 1.3. To keep the past behaviour, explicitly set `max_features=1.0` or remove this parameter as it is also the default value for RandomForestRegressors and ExtraTreesRegressors.\n",
            "  warn(\n"
          ]
        },
        {
          "output_type": "stream",
          "name": "stdout",
          "text": [
            "[CV] END max_depth=6, max_features=auto, min_samples_leaf=10, min_samples_split=6, n_estimators=100; total time=   0.3s\n"
          ]
        },
        {
          "output_type": "stream",
          "name": "stderr",
          "text": [
            "/usr/local/lib/python3.10/dist-packages/sklearn/ensemble/_forest.py:413: FutureWarning: `max_features='auto'` has been deprecated in 1.1 and will be removed in 1.3. To keep the past behaviour, explicitly set `max_features=1.0` or remove this parameter as it is also the default value for RandomForestRegressors and ExtraTreesRegressors.\n",
            "  warn(\n"
          ]
        },
        {
          "output_type": "stream",
          "name": "stdout",
          "text": [
            "[CV] END max_depth=6, max_features=auto, min_samples_leaf=10, min_samples_split=6, n_estimators=100; total time=   0.3s\n",
            "[CV] END max_depth=4, max_features=auto, min_samples_leaf=3, min_samples_split=5, n_estimators=70; total time=   0.2s\n"
          ]
        },
        {
          "output_type": "stream",
          "name": "stderr",
          "text": [
            "/usr/local/lib/python3.10/dist-packages/sklearn/ensemble/_forest.py:413: FutureWarning: `max_features='auto'` has been deprecated in 1.1 and will be removed in 1.3. To keep the past behaviour, explicitly set `max_features=1.0` or remove this parameter as it is also the default value for RandomForestRegressors and ExtraTreesRegressors.\n",
            "  warn(\n",
            "/usr/local/lib/python3.10/dist-packages/sklearn/ensemble/_forest.py:413: FutureWarning: `max_features='auto'` has been deprecated in 1.1 and will be removed in 1.3. To keep the past behaviour, explicitly set `max_features=1.0` or remove this parameter as it is also the default value for RandomForestRegressors and ExtraTreesRegressors.\n",
            "  warn(\n"
          ]
        },
        {
          "output_type": "stream",
          "name": "stdout",
          "text": [
            "[CV] END max_depth=4, max_features=auto, min_samples_leaf=3, min_samples_split=5, n_estimators=70; total time=   0.2s\n",
            "[CV] END max_depth=4, max_features=auto, min_samples_leaf=3, min_samples_split=5, n_estimators=70; total time=   0.2s\n"
          ]
        },
        {
          "output_type": "stream",
          "name": "stderr",
          "text": [
            "/usr/local/lib/python3.10/dist-packages/sklearn/ensemble/_forest.py:413: FutureWarning: `max_features='auto'` has been deprecated in 1.1 and will be removed in 1.3. To keep the past behaviour, explicitly set `max_features=1.0` or remove this parameter as it is also the default value for RandomForestRegressors and ExtraTreesRegressors.\n",
            "  warn(\n",
            "/usr/local/lib/python3.10/dist-packages/sklearn/ensemble/_forest.py:413: FutureWarning: `max_features='auto'` has been deprecated in 1.1 and will be removed in 1.3. To keep the past behaviour, explicitly set `max_features=1.0` or remove this parameter as it is also the default value for RandomForestRegressors and ExtraTreesRegressors.\n",
            "  warn(\n"
          ]
        },
        {
          "output_type": "stream",
          "name": "stdout",
          "text": [
            "[CV] END max_depth=4, max_features=auto, min_samples_leaf=3, min_samples_split=5, n_estimators=70; total time=   0.2s\n"
          ]
        },
        {
          "output_type": "stream",
          "name": "stderr",
          "text": [
            "/usr/local/lib/python3.10/dist-packages/sklearn/ensemble/_forest.py:413: FutureWarning: `max_features='auto'` has been deprecated in 1.1 and will be removed in 1.3. To keep the past behaviour, explicitly set `max_features=1.0` or remove this parameter as it is also the default value for RandomForestRegressors and ExtraTreesRegressors.\n",
            "  warn(\n"
          ]
        },
        {
          "output_type": "stream",
          "name": "stdout",
          "text": [
            "[CV] END max_depth=4, max_features=auto, min_samples_leaf=3, min_samples_split=5, n_estimators=70; total time=   0.2s\n",
            "[CV] END max_depth=10, max_features=sqrt, min_samples_leaf=2, min_samples_split=5, n_estimators=50; total time=   0.1s\n",
            "[CV] END max_depth=10, max_features=sqrt, min_samples_leaf=2, min_samples_split=5, n_estimators=50; total time=   0.1s\n",
            "[CV] END max_depth=10, max_features=sqrt, min_samples_leaf=2, min_samples_split=5, n_estimators=50; total time=   0.1s\n",
            "[CV] END max_depth=10, max_features=sqrt, min_samples_leaf=2, min_samples_split=5, n_estimators=50; total time=   0.1s\n",
            "[CV] END max_depth=10, max_features=sqrt, min_samples_leaf=2, min_samples_split=5, n_estimators=50; total time=   0.1s\n",
            "[CV] END max_depth=6, max_features=log2, min_samples_leaf=10, min_samples_split=10, n_estimators=70; total time=   0.2s\n",
            "[CV] END max_depth=6, max_features=log2, min_samples_leaf=10, min_samples_split=10, n_estimators=70; total time=   0.1s\n",
            "[CV] END max_depth=6, max_features=log2, min_samples_leaf=10, min_samples_split=10, n_estimators=70; total time=   0.1s\n",
            "[CV] END max_depth=6, max_features=log2, min_samples_leaf=10, min_samples_split=10, n_estimators=70; total time=   0.1s\n",
            "[CV] END max_depth=6, max_features=log2, min_samples_leaf=10, min_samples_split=10, n_estimators=70; total time=   0.1s\n",
            "[CV] END max_depth=5, max_features=auto, min_samples_leaf=5, min_samples_split=10, n_estimators=100; total time=   0.2s\n"
          ]
        },
        {
          "output_type": "stream",
          "name": "stderr",
          "text": [
            "/usr/local/lib/python3.10/dist-packages/sklearn/ensemble/_forest.py:413: FutureWarning: `max_features='auto'` has been deprecated in 1.1 and will be removed in 1.3. To keep the past behaviour, explicitly set `max_features=1.0` or remove this parameter as it is also the default value for RandomForestRegressors and ExtraTreesRegressors.\n",
            "  warn(\n",
            "/usr/local/lib/python3.10/dist-packages/sklearn/ensemble/_forest.py:413: FutureWarning: `max_features='auto'` has been deprecated in 1.1 and will be removed in 1.3. To keep the past behaviour, explicitly set `max_features=1.0` or remove this parameter as it is also the default value for RandomForestRegressors and ExtraTreesRegressors.\n",
            "  warn(\n"
          ]
        },
        {
          "output_type": "stream",
          "name": "stdout",
          "text": [
            "[CV] END max_depth=5, max_features=auto, min_samples_leaf=5, min_samples_split=10, n_estimators=100; total time=   0.2s\n",
            "[CV] END max_depth=5, max_features=auto, min_samples_leaf=5, min_samples_split=10, n_estimators=100; total time=   0.2s\n"
          ]
        },
        {
          "output_type": "stream",
          "name": "stderr",
          "text": [
            "/usr/local/lib/python3.10/dist-packages/sklearn/ensemble/_forest.py:413: FutureWarning: `max_features='auto'` has been deprecated in 1.1 and will be removed in 1.3. To keep the past behaviour, explicitly set `max_features=1.0` or remove this parameter as it is also the default value for RandomForestRegressors and ExtraTreesRegressors.\n",
            "  warn(\n",
            "/usr/local/lib/python3.10/dist-packages/sklearn/ensemble/_forest.py:413: FutureWarning: `max_features='auto'` has been deprecated in 1.1 and will be removed in 1.3. To keep the past behaviour, explicitly set `max_features=1.0` or remove this parameter as it is also the default value for RandomForestRegressors and ExtraTreesRegressors.\n",
            "  warn(\n"
          ]
        },
        {
          "output_type": "stream",
          "name": "stdout",
          "text": [
            "[CV] END max_depth=5, max_features=auto, min_samples_leaf=5, min_samples_split=10, n_estimators=100; total time=   0.2s\n",
            "[CV] END max_depth=5, max_features=auto, min_samples_leaf=5, min_samples_split=10, n_estimators=100; total time=   0.2s\n"
          ]
        },
        {
          "output_type": "stream",
          "name": "stderr",
          "text": [
            "/usr/local/lib/python3.10/dist-packages/sklearn/ensemble/_forest.py:413: FutureWarning: `max_features='auto'` has been deprecated in 1.1 and will be removed in 1.3. To keep the past behaviour, explicitly set `max_features=1.0` or remove this parameter as it is also the default value for RandomForestRegressors and ExtraTreesRegressors.\n",
            "  warn(\n",
            "/usr/local/lib/python3.10/dist-packages/sklearn/ensemble/_forest.py:413: FutureWarning: `max_features='auto'` has been deprecated in 1.1 and will be removed in 1.3. To keep the past behaviour, explicitly set `max_features=1.0` or remove this parameter as it is also the default value for RandomForestRegressors and ExtraTreesRegressors.\n",
            "  warn(\n"
          ]
        },
        {
          "output_type": "stream",
          "name": "stdout",
          "text": [
            "[CV] END max_depth=6, max_features=auto, min_samples_leaf=5, min_samples_split=10, n_estimators=90; total time=   0.2s\n"
          ]
        },
        {
          "output_type": "stream",
          "name": "stderr",
          "text": [
            "/usr/local/lib/python3.10/dist-packages/sklearn/ensemble/_forest.py:413: FutureWarning: `max_features='auto'` has been deprecated in 1.1 and will be removed in 1.3. To keep the past behaviour, explicitly set `max_features=1.0` or remove this parameter as it is also the default value for RandomForestRegressors and ExtraTreesRegressors.\n",
            "  warn(\n"
          ]
        },
        {
          "output_type": "stream",
          "name": "stdout",
          "text": [
            "[CV] END max_depth=6, max_features=auto, min_samples_leaf=5, min_samples_split=10, n_estimators=90; total time=   0.6s\n",
            "[CV] END max_depth=6, max_features=auto, min_samples_leaf=5, min_samples_split=10, n_estimators=90; total time=   0.2s\n"
          ]
        },
        {
          "output_type": "stream",
          "name": "stderr",
          "text": [
            "/usr/local/lib/python3.10/dist-packages/sklearn/ensemble/_forest.py:413: FutureWarning: `max_features='auto'` has been deprecated in 1.1 and will be removed in 1.3. To keep the past behaviour, explicitly set `max_features=1.0` or remove this parameter as it is also the default value for RandomForestRegressors and ExtraTreesRegressors.\n",
            "  warn(\n",
            "/usr/local/lib/python3.10/dist-packages/sklearn/ensemble/_forest.py:413: FutureWarning: `max_features='auto'` has been deprecated in 1.1 and will be removed in 1.3. To keep the past behaviour, explicitly set `max_features=1.0` or remove this parameter as it is also the default value for RandomForestRegressors and ExtraTreesRegressors.\n",
            "  warn(\n"
          ]
        },
        {
          "output_type": "stream",
          "name": "stdout",
          "text": [
            "[CV] END max_depth=6, max_features=auto, min_samples_leaf=5, min_samples_split=10, n_estimators=90; total time=   0.2s\n",
            "[CV] END max_depth=6, max_features=auto, min_samples_leaf=5, min_samples_split=10, n_estimators=90; total time=   0.2s\n",
            "[CV] END max_depth=2, max_features=sqrt, min_samples_leaf=3, min_samples_split=2, n_estimators=20; total time=   0.0s\n"
          ]
        },
        {
          "output_type": "stream",
          "name": "stderr",
          "text": [
            "/usr/local/lib/python3.10/dist-packages/sklearn/ensemble/_forest.py:413: FutureWarning: `max_features='auto'` has been deprecated in 1.1 and will be removed in 1.3. To keep the past behaviour, explicitly set `max_features=1.0` or remove this parameter as it is also the default value for RandomForestRegressors and ExtraTreesRegressors.\n",
            "  warn(\n"
          ]
        },
        {
          "output_type": "stream",
          "name": "stdout",
          "text": [
            "[CV] END max_depth=2, max_features=sqrt, min_samples_leaf=3, min_samples_split=2, n_estimators=20; total time=   0.0s\n",
            "[CV] END max_depth=2, max_features=sqrt, min_samples_leaf=3, min_samples_split=2, n_estimators=20; total time=   0.0s\n",
            "[CV] END max_depth=2, max_features=sqrt, min_samples_leaf=3, min_samples_split=2, n_estimators=20; total time=   0.0s\n",
            "[CV] END max_depth=2, max_features=sqrt, min_samples_leaf=3, min_samples_split=2, n_estimators=20; total time=   0.0s\n",
            "[CV] END max_depth=3, max_features=log2, min_samples_leaf=3, min_samples_split=6, n_estimators=50; total time=   0.1s\n",
            "[CV] END max_depth=3, max_features=log2, min_samples_leaf=3, min_samples_split=6, n_estimators=50; total time=   0.1s\n",
            "[CV] END max_depth=3, max_features=log2, min_samples_leaf=3, min_samples_split=6, n_estimators=50; total time=   0.1s\n",
            "[CV] END max_depth=3, max_features=log2, min_samples_leaf=3, min_samples_split=6, n_estimators=50; total time=   0.1s\n",
            "[CV] END max_depth=3, max_features=log2, min_samples_leaf=3, min_samples_split=6, n_estimators=50; total time=   0.1s\n",
            "[CV] END max_depth=8, max_features=sqrt, min_samples_leaf=8, min_samples_split=3, n_estimators=40; total time=   0.1s\n",
            "[CV] END max_depth=8, max_features=sqrt, min_samples_leaf=8, min_samples_split=3, n_estimators=40; total time=   0.1s\n",
            "[CV] END max_depth=8, max_features=sqrt, min_samples_leaf=8, min_samples_split=3, n_estimators=40; total time=   0.1s\n",
            "[CV] END max_depth=8, max_features=sqrt, min_samples_leaf=8, min_samples_split=3, n_estimators=40; total time=   0.1s\n",
            "[CV] END max_depth=8, max_features=sqrt, min_samples_leaf=8, min_samples_split=3, n_estimators=40; total time=   0.1s\n",
            "[CV] END max_depth=2, max_features=auto, min_samples_leaf=2, min_samples_split=2, n_estimators=60; total time=   0.1s\n"
          ]
        },
        {
          "output_type": "stream",
          "name": "stderr",
          "text": [
            "/usr/local/lib/python3.10/dist-packages/sklearn/ensemble/_forest.py:413: FutureWarning: `max_features='auto'` has been deprecated in 1.1 and will be removed in 1.3. To keep the past behaviour, explicitly set `max_features=1.0` or remove this parameter as it is also the default value for RandomForestRegressors and ExtraTreesRegressors.\n",
            "  warn(\n",
            "/usr/local/lib/python3.10/dist-packages/sklearn/ensemble/_forest.py:413: FutureWarning: `max_features='auto'` has been deprecated in 1.1 and will be removed in 1.3. To keep the past behaviour, explicitly set `max_features=1.0` or remove this parameter as it is also the default value for RandomForestRegressors and ExtraTreesRegressors.\n",
            "  warn(\n",
            "/usr/local/lib/python3.10/dist-packages/sklearn/ensemble/_forest.py:413: FutureWarning: `max_features='auto'` has been deprecated in 1.1 and will be removed in 1.3. To keep the past behaviour, explicitly set `max_features=1.0` or remove this parameter as it is also the default value for RandomForestRegressors and ExtraTreesRegressors.\n",
            "  warn(\n"
          ]
        },
        {
          "output_type": "stream",
          "name": "stdout",
          "text": [
            "[CV] END max_depth=2, max_features=auto, min_samples_leaf=2, min_samples_split=2, n_estimators=60; total time=   0.1s\n",
            "[CV] END max_depth=2, max_features=auto, min_samples_leaf=2, min_samples_split=2, n_estimators=60; total time=   0.1s\n",
            "[CV] END max_depth=2, max_features=auto, min_samples_leaf=2, min_samples_split=2, n_estimators=60; total time=   0.1s\n"
          ]
        },
        {
          "output_type": "stream",
          "name": "stderr",
          "text": [
            "/usr/local/lib/python3.10/dist-packages/sklearn/ensemble/_forest.py:413: FutureWarning: `max_features='auto'` has been deprecated in 1.1 and will be removed in 1.3. To keep the past behaviour, explicitly set `max_features=1.0` or remove this parameter as it is also the default value for RandomForestRegressors and ExtraTreesRegressors.\n",
            "  warn(\n",
            "/usr/local/lib/python3.10/dist-packages/sklearn/ensemble/_forest.py:413: FutureWarning: `max_features='auto'` has been deprecated in 1.1 and will be removed in 1.3. To keep the past behaviour, explicitly set `max_features=1.0` or remove this parameter as it is also the default value for RandomForestRegressors and ExtraTreesRegressors.\n",
            "  warn(\n"
          ]
        },
        {
          "output_type": "stream",
          "name": "stdout",
          "text": [
            "[CV] END max_depth=2, max_features=auto, min_samples_leaf=2, min_samples_split=2, n_estimators=60; total time=   0.1s\n",
            "[CV] END max_depth=9, max_features=log2, min_samples_leaf=10, min_samples_split=6, n_estimators=80; total time=   0.1s\n",
            "[CV] END max_depth=9, max_features=log2, min_samples_leaf=10, min_samples_split=6, n_estimators=80; total time=   0.1s\n",
            "[CV] END max_depth=9, max_features=log2, min_samples_leaf=10, min_samples_split=6, n_estimators=80; total time=   0.1s\n",
            "[CV] END max_depth=9, max_features=log2, min_samples_leaf=10, min_samples_split=6, n_estimators=80; total time=   0.1s\n",
            "[CV] END max_depth=9, max_features=log2, min_samples_leaf=10, min_samples_split=6, n_estimators=80; total time=   0.1s\n",
            "[CV] END max_depth=4, max_features=log2, min_samples_leaf=3, min_samples_split=3, n_estimators=10; total time=   0.0s\n",
            "[CV] END max_depth=4, max_features=log2, min_samples_leaf=3, min_samples_split=3, n_estimators=10; total time=   0.0s\n",
            "[CV] END max_depth=4, max_features=log2, min_samples_leaf=3, min_samples_split=3, n_estimators=10; total time=   0.0s\n",
            "[CV] END max_depth=4, max_features=log2, min_samples_leaf=3, min_samples_split=3, n_estimators=10; total time=   0.0s\n",
            "[CV] END max_depth=4, max_features=log2, min_samples_leaf=3, min_samples_split=3, n_estimators=10; total time=   0.0s\n",
            "[CV] END max_depth=7, max_features=sqrt, min_samples_leaf=6, min_samples_split=8, n_estimators=20; total time=   0.0s\n",
            "[CV] END max_depth=7, max_features=sqrt, min_samples_leaf=6, min_samples_split=8, n_estimators=20; total time=   0.0s\n",
            "[CV] END max_depth=7, max_features=sqrt, min_samples_leaf=6, min_samples_split=8, n_estimators=20; total time=   0.0s\n",
            "[CV] END max_depth=7, max_features=sqrt, min_samples_leaf=6, min_samples_split=8, n_estimators=20; total time=   0.0s\n",
            "[CV] END max_depth=7, max_features=sqrt, min_samples_leaf=6, min_samples_split=8, n_estimators=20; total time=   0.0s\n",
            "[CV] END max_depth=10, max_features=log2, min_samples_leaf=7, min_samples_split=8, n_estimators=50; total time=   0.1s\n",
            "[CV] END max_depth=10, max_features=log2, min_samples_leaf=7, min_samples_split=8, n_estimators=50; total time=   0.1s\n",
            "[CV] END max_depth=10, max_features=log2, min_samples_leaf=7, min_samples_split=8, n_estimators=50; total time=   0.1s\n",
            "[CV] END max_depth=10, max_features=log2, min_samples_leaf=7, min_samples_split=8, n_estimators=50; total time=   0.1s\n",
            "[CV] END max_depth=10, max_features=log2, min_samples_leaf=7, min_samples_split=8, n_estimators=50; total time=   0.1s\n"
          ]
        },
        {
          "output_type": "stream",
          "name": "stderr",
          "text": [
            "/usr/local/lib/python3.10/dist-packages/sklearn/ensemble/_forest.py:413: FutureWarning: `max_features='auto'` has been deprecated in 1.1 and will be removed in 1.3. To keep the past behaviour, explicitly set `max_features=1.0` or remove this parameter as it is also the default value for RandomForestRegressors and ExtraTreesRegressors.\n",
            "  warn(\n",
            "/usr/local/lib/python3.10/dist-packages/sklearn/ensemble/_forest.py:413: FutureWarning: `max_features='auto'` has been deprecated in 1.1 and will be removed in 1.3. To keep the past behaviour, explicitly set `max_features=1.0` or remove this parameter as it is also the default value for RandomForestRegressors and ExtraTreesRegressors.\n",
            "  warn(\n",
            "/usr/local/lib/python3.10/dist-packages/sklearn/ensemble/_forest.py:413: FutureWarning: `max_features='auto'` has been deprecated in 1.1 and will be removed in 1.3. To keep the past behaviour, explicitly set `max_features=1.0` or remove this parameter as it is also the default value for RandomForestRegressors and ExtraTreesRegressors.\n",
            "  warn(\n"
          ]
        },
        {
          "output_type": "stream",
          "name": "stdout",
          "text": [
            "[CV] END max_depth=1, max_features=auto, min_samples_leaf=5, min_samples_split=3, n_estimators=50; total time=   0.1s\n",
            "[CV] END max_depth=1, max_features=auto, min_samples_leaf=5, min_samples_split=3, n_estimators=50; total time=   0.1s\n",
            "[CV] END max_depth=1, max_features=auto, min_samples_leaf=5, min_samples_split=3, n_estimators=50; total time=   0.1s\n"
          ]
        },
        {
          "output_type": "stream",
          "name": "stderr",
          "text": [
            "/usr/local/lib/python3.10/dist-packages/sklearn/ensemble/_forest.py:413: FutureWarning: `max_features='auto'` has been deprecated in 1.1 and will be removed in 1.3. To keep the past behaviour, explicitly set `max_features=1.0` or remove this parameter as it is also the default value for RandomForestRegressors and ExtraTreesRegressors.\n",
            "  warn(\n",
            "/usr/local/lib/python3.10/dist-packages/sklearn/ensemble/_forest.py:413: FutureWarning: `max_features='auto'` has been deprecated in 1.1 and will be removed in 1.3. To keep the past behaviour, explicitly set `max_features=1.0` or remove this parameter as it is also the default value for RandomForestRegressors and ExtraTreesRegressors.\n",
            "  warn(\n"
          ]
        },
        {
          "output_type": "stream",
          "name": "stdout",
          "text": [
            "[CV] END max_depth=1, max_features=auto, min_samples_leaf=5, min_samples_split=3, n_estimators=50; total time=   0.1s\n",
            "[CV] END max_depth=1, max_features=auto, min_samples_leaf=5, min_samples_split=3, n_estimators=50; total time=   0.1s\n",
            "[CV] END max_depth=9, max_features=sqrt, min_samples_leaf=2, min_samples_split=5, n_estimators=20; total time=   0.0s\n",
            "[CV] END max_depth=9, max_features=sqrt, min_samples_leaf=2, min_samples_split=5, n_estimators=20; total time=   0.0s\n",
            "[CV] END max_depth=9, max_features=sqrt, min_samples_leaf=2, min_samples_split=5, n_estimators=20; total time=   0.0s\n",
            "[CV] END max_depth=9, max_features=sqrt, min_samples_leaf=2, min_samples_split=5, n_estimators=20; total time=   0.0s\n",
            "[CV] END max_depth=9, max_features=sqrt, min_samples_leaf=2, min_samples_split=5, n_estimators=20; total time=   0.0s\n",
            "[CV] END max_depth=2, max_features=auto, min_samples_leaf=8, min_samples_split=4, n_estimators=60; total time=   0.1s\n"
          ]
        },
        {
          "output_type": "stream",
          "name": "stderr",
          "text": [
            "/usr/local/lib/python3.10/dist-packages/sklearn/ensemble/_forest.py:413: FutureWarning: `max_features='auto'` has been deprecated in 1.1 and will be removed in 1.3. To keep the past behaviour, explicitly set `max_features=1.0` or remove this parameter as it is also the default value for RandomForestRegressors and ExtraTreesRegressors.\n",
            "  warn(\n",
            "/usr/local/lib/python3.10/dist-packages/sklearn/ensemble/_forest.py:413: FutureWarning: `max_features='auto'` has been deprecated in 1.1 and will be removed in 1.3. To keep the past behaviour, explicitly set `max_features=1.0` or remove this parameter as it is also the default value for RandomForestRegressors and ExtraTreesRegressors.\n",
            "  warn(\n"
          ]
        },
        {
          "output_type": "stream",
          "name": "stdout",
          "text": [
            "[CV] END max_depth=2, max_features=auto, min_samples_leaf=8, min_samples_split=4, n_estimators=60; total time=   0.1s\n",
            "[CV] END max_depth=2, max_features=auto, min_samples_leaf=8, min_samples_split=4, n_estimators=60; total time=   0.1s\n",
            "[CV] END max_depth=2, max_features=auto, min_samples_leaf=8, min_samples_split=4, n_estimators=60; total time=   0.1s\n"
          ]
        },
        {
          "output_type": "stream",
          "name": "stderr",
          "text": [
            "/usr/local/lib/python3.10/dist-packages/sklearn/ensemble/_forest.py:413: FutureWarning: `max_features='auto'` has been deprecated in 1.1 and will be removed in 1.3. To keep the past behaviour, explicitly set `max_features=1.0` or remove this parameter as it is also the default value for RandomForestRegressors and ExtraTreesRegressors.\n",
            "  warn(\n",
            "/usr/local/lib/python3.10/dist-packages/sklearn/ensemble/_forest.py:413: FutureWarning: `max_features='auto'` has been deprecated in 1.1 and will be removed in 1.3. To keep the past behaviour, explicitly set `max_features=1.0` or remove this parameter as it is also the default value for RandomForestRegressors and ExtraTreesRegressors.\n",
            "  warn(\n",
            "/usr/local/lib/python3.10/dist-packages/sklearn/ensemble/_forest.py:413: FutureWarning: `max_features='auto'` has been deprecated in 1.1 and will be removed in 1.3. To keep the past behaviour, explicitly set `max_features=1.0` or remove this parameter as it is also the default value for RandomForestRegressors and ExtraTreesRegressors.\n",
            "  warn(\n",
            "/usr/local/lib/python3.10/dist-packages/sklearn/ensemble/_forest.py:413: FutureWarning: `max_features='auto'` has been deprecated in 1.1 and will be removed in 1.3. To keep the past behaviour, explicitly set `max_features=1.0` or remove this parameter as it is also the default value for RandomForestRegressors and ExtraTreesRegressors.\n",
            "  warn(\n"
          ]
        },
        {
          "output_type": "stream",
          "name": "stdout",
          "text": [
            "[CV] END max_depth=2, max_features=auto, min_samples_leaf=8, min_samples_split=4, n_estimators=60; total time=   0.1s\n",
            "[CV] END max_depth=3, max_features=auto, min_samples_leaf=5, min_samples_split=10, n_estimators=10; total time=   0.0s\n",
            "[CV] END max_depth=3, max_features=auto, min_samples_leaf=5, min_samples_split=10, n_estimators=10; total time=   0.0s\n",
            "[CV] END max_depth=3, max_features=auto, min_samples_leaf=5, min_samples_split=10, n_estimators=10; total time=   0.0s\n",
            "[CV] END max_depth=3, max_features=auto, min_samples_leaf=5, min_samples_split=10, n_estimators=10; total time=   0.0s\n",
            "[CV] END max_depth=3, max_features=auto, min_samples_leaf=5, min_samples_split=10, n_estimators=10; total time=   0.0s\n"
          ]
        },
        {
          "output_type": "stream",
          "name": "stderr",
          "text": [
            "/usr/local/lib/python3.10/dist-packages/sklearn/ensemble/_forest.py:413: FutureWarning: `max_features='auto'` has been deprecated in 1.1 and will be removed in 1.3. To keep the past behaviour, explicitly set `max_features=1.0` or remove this parameter as it is also the default value for RandomForestRegressors and ExtraTreesRegressors.\n",
            "  warn(\n",
            "/usr/local/lib/python3.10/dist-packages/sklearn/ensemble/_forest.py:413: FutureWarning: `max_features='auto'` has been deprecated in 1.1 and will be removed in 1.3. To keep the past behaviour, explicitly set `max_features=1.0` or remove this parameter as it is also the default value for RandomForestRegressors and ExtraTreesRegressors.\n",
            "  warn(\n",
            "/usr/local/lib/python3.10/dist-packages/sklearn/ensemble/_forest.py:413: FutureWarning: `max_features='auto'` has been deprecated in 1.1 and will be removed in 1.3. To keep the past behaviour, explicitly set `max_features=1.0` or remove this parameter as it is also the default value for RandomForestRegressors and ExtraTreesRegressors.\n",
            "  warn(\n",
            "/usr/local/lib/python3.10/dist-packages/sklearn/ensemble/_forest.py:413: FutureWarning: `max_features='auto'` has been deprecated in 1.1 and will be removed in 1.3. To keep the past behaviour, explicitly set `max_features=1.0` or remove this parameter as it is also the default value for RandomForestRegressors and ExtraTreesRegressors.\n",
            "  warn(\n",
            "/usr/local/lib/python3.10/dist-packages/sklearn/ensemble/_forest.py:413: FutureWarning: `max_features='auto'` has been deprecated in 1.1 and will be removed in 1.3. To keep the past behaviour, explicitly set `max_features=1.0` or remove this parameter as it is also the default value for RandomForestRegressors and ExtraTreesRegressors.\n",
            "  warn(\n",
            "/usr/local/lib/python3.10/dist-packages/sklearn/ensemble/_forest.py:413: FutureWarning: `max_features='auto'` has been deprecated in 1.1 and will be removed in 1.3. To keep the past behaviour, explicitly set `max_features=1.0` or remove this parameter as it is also the default value for RandomForestRegressors and ExtraTreesRegressors.\n",
            "  warn(\n"
          ]
        },
        {
          "output_type": "stream",
          "name": "stdout",
          "text": [
            "[CV] END max_depth=5, max_features=auto, min_samples_leaf=6, min_samples_split=9, n_estimators=50; total time=   0.1s\n",
            "[CV] END max_depth=5, max_features=auto, min_samples_leaf=6, min_samples_split=9, n_estimators=50; total time=   0.1s\n",
            "[CV] END max_depth=5, max_features=auto, min_samples_leaf=6, min_samples_split=9, n_estimators=50; total time=   0.1s\n"
          ]
        },
        {
          "output_type": "stream",
          "name": "stderr",
          "text": [
            "/usr/local/lib/python3.10/dist-packages/sklearn/ensemble/_forest.py:413: FutureWarning: `max_features='auto'` has been deprecated in 1.1 and will be removed in 1.3. To keep the past behaviour, explicitly set `max_features=1.0` or remove this parameter as it is also the default value for RandomForestRegressors and ExtraTreesRegressors.\n",
            "  warn(\n",
            "/usr/local/lib/python3.10/dist-packages/sklearn/ensemble/_forest.py:413: FutureWarning: `max_features='auto'` has been deprecated in 1.1 and will be removed in 1.3. To keep the past behaviour, explicitly set `max_features=1.0` or remove this parameter as it is also the default value for RandomForestRegressors and ExtraTreesRegressors.\n",
            "  warn(\n",
            "/usr/local/lib/python3.10/dist-packages/sklearn/ensemble/_forest.py:413: FutureWarning: `max_features='auto'` has been deprecated in 1.1 and will be removed in 1.3. To keep the past behaviour, explicitly set `max_features=1.0` or remove this parameter as it is also the default value for RandomForestRegressors and ExtraTreesRegressors.\n",
            "  warn(\n"
          ]
        },
        {
          "output_type": "stream",
          "name": "stdout",
          "text": [
            "[CV] END max_depth=5, max_features=auto, min_samples_leaf=6, min_samples_split=9, n_estimators=50; total time=   0.1s\n",
            "[CV] END max_depth=5, max_features=auto, min_samples_leaf=6, min_samples_split=9, n_estimators=50; total time=   0.1s\n",
            "[CV] END max_depth=9, max_features=log2, min_samples_leaf=10, min_samples_split=2, n_estimators=20; total time=   0.0s\n",
            "[CV] END max_depth=9, max_features=log2, min_samples_leaf=10, min_samples_split=2, n_estimators=20; total time=   0.0s\n",
            "[CV] END max_depth=9, max_features=log2, min_samples_leaf=10, min_samples_split=2, n_estimators=20; total time=   0.0s\n",
            "[CV] END max_depth=9, max_features=log2, min_samples_leaf=10, min_samples_split=2, n_estimators=20; total time=   0.0s\n",
            "[CV] END max_depth=9, max_features=log2, min_samples_leaf=10, min_samples_split=2, n_estimators=20; total time=   0.0s\n",
            "[CV] END max_depth=6, max_features=auto, min_samples_leaf=8, min_samples_split=2, n_estimators=30; total time=   0.1s\n",
            "[CV] END max_depth=6, max_features=auto, min_samples_leaf=8, min_samples_split=2, n_estimators=30; total time=   0.1s\n"
          ]
        },
        {
          "output_type": "stream",
          "name": "stderr",
          "text": [
            "/usr/local/lib/python3.10/dist-packages/sklearn/ensemble/_forest.py:413: FutureWarning: `max_features='auto'` has been deprecated in 1.1 and will be removed in 1.3. To keep the past behaviour, explicitly set `max_features=1.0` or remove this parameter as it is also the default value for RandomForestRegressors and ExtraTreesRegressors.\n",
            "  warn(\n",
            "/usr/local/lib/python3.10/dist-packages/sklearn/ensemble/_forest.py:413: FutureWarning: `max_features='auto'` has been deprecated in 1.1 and will be removed in 1.3. To keep the past behaviour, explicitly set `max_features=1.0` or remove this parameter as it is also the default value for RandomForestRegressors and ExtraTreesRegressors.\n",
            "  warn(\n",
            "/usr/local/lib/python3.10/dist-packages/sklearn/ensemble/_forest.py:413: FutureWarning: `max_features='auto'` has been deprecated in 1.1 and will be removed in 1.3. To keep the past behaviour, explicitly set `max_features=1.0` or remove this parameter as it is also the default value for RandomForestRegressors and ExtraTreesRegressors.\n",
            "  warn(\n",
            "/usr/local/lib/python3.10/dist-packages/sklearn/ensemble/_forest.py:413: FutureWarning: `max_features='auto'` has been deprecated in 1.1 and will be removed in 1.3. To keep the past behaviour, explicitly set `max_features=1.0` or remove this parameter as it is also the default value for RandomForestRegressors and ExtraTreesRegressors.\n",
            "  warn(\n"
          ]
        },
        {
          "output_type": "stream",
          "name": "stdout",
          "text": [
            "[CV] END max_depth=6, max_features=auto, min_samples_leaf=8, min_samples_split=2, n_estimators=30; total time=   0.1s\n",
            "[CV] END max_depth=6, max_features=auto, min_samples_leaf=8, min_samples_split=2, n_estimators=30; total time=   0.1s\n",
            "[CV] END max_depth=6, max_features=auto, min_samples_leaf=8, min_samples_split=2, n_estimators=30; total time=   0.1s\n"
          ]
        },
        {
          "output_type": "stream",
          "name": "stderr",
          "text": [
            "/usr/local/lib/python3.10/dist-packages/sklearn/ensemble/_forest.py:413: FutureWarning: `max_features='auto'` has been deprecated in 1.1 and will be removed in 1.3. To keep the past behaviour, explicitly set `max_features=1.0` or remove this parameter as it is also the default value for RandomForestRegressors and ExtraTreesRegressors.\n",
            "  warn(\n",
            "/usr/local/lib/python3.10/dist-packages/sklearn/ensemble/_forest.py:413: FutureWarning: `max_features='auto'` has been deprecated in 1.1 and will be removed in 1.3. To keep the past behaviour, explicitly set `max_features=1.0` or remove this parameter as it is also the default value for RandomForestRegressors and ExtraTreesRegressors.\n",
            "  warn(\n"
          ]
        },
        {
          "output_type": "execute_result",
          "data": {
            "text/plain": [
              "RandomizedSearchCV(cv=5, estimator=RandomForestRegressor(), n_iter=100,\n",
              "                   param_distributions={'max_depth': [1, 2, 3, 4, 5, 6, 7, 8, 9,\n",
              "                                                      10],\n",
              "                                        'max_features': ['auto', 'sqrt',\n",
              "                                                         'log2'],\n",
              "                                        'min_samples_leaf': [1, 2, 3, 4, 5, 6,\n",
              "                                                             7, 8, 9, 10],\n",
              "                                        'min_samples_split': [2, 3, 4, 5, 6, 7,\n",
              "                                                              8, 9, 10],\n",
              "                                        'n_estimators': [10, 20, 30, 40, 50, 60,\n",
              "                                                         70, 80, 90, 100]},\n",
              "                   verbose=2)"
            ],
            "text/html": [
              "<style>#sk-container-id-5 {color: black;background-color: white;}#sk-container-id-5 pre{padding: 0;}#sk-container-id-5 div.sk-toggleable {background-color: white;}#sk-container-id-5 label.sk-toggleable__label {cursor: pointer;display: block;width: 100%;margin-bottom: 0;padding: 0.3em;box-sizing: border-box;text-align: center;}#sk-container-id-5 label.sk-toggleable__label-arrow:before {content: \"▸\";float: left;margin-right: 0.25em;color: #696969;}#sk-container-id-5 label.sk-toggleable__label-arrow:hover:before {color: black;}#sk-container-id-5 div.sk-estimator:hover label.sk-toggleable__label-arrow:before {color: black;}#sk-container-id-5 div.sk-toggleable__content {max-height: 0;max-width: 0;overflow: hidden;text-align: left;background-color: #f0f8ff;}#sk-container-id-5 div.sk-toggleable__content pre {margin: 0.2em;color: black;border-radius: 0.25em;background-color: #f0f8ff;}#sk-container-id-5 input.sk-toggleable__control:checked~div.sk-toggleable__content {max-height: 200px;max-width: 100%;overflow: auto;}#sk-container-id-5 input.sk-toggleable__control:checked~label.sk-toggleable__label-arrow:before {content: \"▾\";}#sk-container-id-5 div.sk-estimator input.sk-toggleable__control:checked~label.sk-toggleable__label {background-color: #d4ebff;}#sk-container-id-5 div.sk-label input.sk-toggleable__control:checked~label.sk-toggleable__label {background-color: #d4ebff;}#sk-container-id-5 input.sk-hidden--visually {border: 0;clip: rect(1px 1px 1px 1px);clip: rect(1px, 1px, 1px, 1px);height: 1px;margin: -1px;overflow: hidden;padding: 0;position: absolute;width: 1px;}#sk-container-id-5 div.sk-estimator {font-family: monospace;background-color: #f0f8ff;border: 1px dotted black;border-radius: 0.25em;box-sizing: border-box;margin-bottom: 0.5em;}#sk-container-id-5 div.sk-estimator:hover {background-color: #d4ebff;}#sk-container-id-5 div.sk-parallel-item::after {content: \"\";width: 100%;border-bottom: 1px solid gray;flex-grow: 1;}#sk-container-id-5 div.sk-label:hover label.sk-toggleable__label {background-color: #d4ebff;}#sk-container-id-5 div.sk-serial::before {content: \"\";position: absolute;border-left: 1px solid gray;box-sizing: border-box;top: 0;bottom: 0;left: 50%;z-index: 0;}#sk-container-id-5 div.sk-serial {display: flex;flex-direction: column;align-items: center;background-color: white;padding-right: 0.2em;padding-left: 0.2em;position: relative;}#sk-container-id-5 div.sk-item {position: relative;z-index: 1;}#sk-container-id-5 div.sk-parallel {display: flex;align-items: stretch;justify-content: center;background-color: white;position: relative;}#sk-container-id-5 div.sk-item::before, #sk-container-id-5 div.sk-parallel-item::before {content: \"\";position: absolute;border-left: 1px solid gray;box-sizing: border-box;top: 0;bottom: 0;left: 50%;z-index: -1;}#sk-container-id-5 div.sk-parallel-item {display: flex;flex-direction: column;z-index: 1;position: relative;background-color: white;}#sk-container-id-5 div.sk-parallel-item:first-child::after {align-self: flex-end;width: 50%;}#sk-container-id-5 div.sk-parallel-item:last-child::after {align-self: flex-start;width: 50%;}#sk-container-id-5 div.sk-parallel-item:only-child::after {width: 0;}#sk-container-id-5 div.sk-dashed-wrapped {border: 1px dashed gray;margin: 0 0.4em 0.5em 0.4em;box-sizing: border-box;padding-bottom: 0.4em;background-color: white;}#sk-container-id-5 div.sk-label label {font-family: monospace;font-weight: bold;display: inline-block;line-height: 1.2em;}#sk-container-id-5 div.sk-label-container {text-align: center;}#sk-container-id-5 div.sk-container {/* jupyter's `normalize.less` sets `[hidden] { display: none; }` but bootstrap.min.css set `[hidden] { display: none !important; }` so we also need the `!important` here to be able to override the default hidden behavior on the sphinx rendered scikit-learn.org. See: https://github.com/scikit-learn/scikit-learn/issues/21755 */display: inline-block !important;position: relative;}#sk-container-id-5 div.sk-text-repr-fallback {display: none;}</style><div id=\"sk-container-id-5\" class=\"sk-top-container\"><div class=\"sk-text-repr-fallback\"><pre>RandomizedSearchCV(cv=5, estimator=RandomForestRegressor(), n_iter=100,\n",
              "                   param_distributions={&#x27;max_depth&#x27;: [1, 2, 3, 4, 5, 6, 7, 8, 9,\n",
              "                                                      10],\n",
              "                                        &#x27;max_features&#x27;: [&#x27;auto&#x27;, &#x27;sqrt&#x27;,\n",
              "                                                         &#x27;log2&#x27;],\n",
              "                                        &#x27;min_samples_leaf&#x27;: [1, 2, 3, 4, 5, 6,\n",
              "                                                             7, 8, 9, 10],\n",
              "                                        &#x27;min_samples_split&#x27;: [2, 3, 4, 5, 6, 7,\n",
              "                                                              8, 9, 10],\n",
              "                                        &#x27;n_estimators&#x27;: [10, 20, 30, 40, 50, 60,\n",
              "                                                         70, 80, 90, 100]},\n",
              "                   verbose=2)</pre><b>In a Jupyter environment, please rerun this cell to show the HTML representation or trust the notebook. <br />On GitHub, the HTML representation is unable to render, please try loading this page with nbviewer.org.</b></div><div class=\"sk-container\" hidden><div class=\"sk-item sk-dashed-wrapped\"><div class=\"sk-label-container\"><div class=\"sk-label sk-toggleable\"><input class=\"sk-toggleable__control sk-hidden--visually\" id=\"sk-estimator-id-7\" type=\"checkbox\" ><label for=\"sk-estimator-id-7\" class=\"sk-toggleable__label sk-toggleable__label-arrow\">RandomizedSearchCV</label><div class=\"sk-toggleable__content\"><pre>RandomizedSearchCV(cv=5, estimator=RandomForestRegressor(), n_iter=100,\n",
              "                   param_distributions={&#x27;max_depth&#x27;: [1, 2, 3, 4, 5, 6, 7, 8, 9,\n",
              "                                                      10],\n",
              "                                        &#x27;max_features&#x27;: [&#x27;auto&#x27;, &#x27;sqrt&#x27;,\n",
              "                                                         &#x27;log2&#x27;],\n",
              "                                        &#x27;min_samples_leaf&#x27;: [1, 2, 3, 4, 5, 6,\n",
              "                                                             7, 8, 9, 10],\n",
              "                                        &#x27;min_samples_split&#x27;: [2, 3, 4, 5, 6, 7,\n",
              "                                                              8, 9, 10],\n",
              "                                        &#x27;n_estimators&#x27;: [10, 20, 30, 40, 50, 60,\n",
              "                                                         70, 80, 90, 100]},\n",
              "                   verbose=2)</pre></div></div></div><div class=\"sk-parallel\"><div class=\"sk-parallel-item\"><div class=\"sk-item\"><div class=\"sk-label-container\"><div class=\"sk-label sk-toggleable\"><input class=\"sk-toggleable__control sk-hidden--visually\" id=\"sk-estimator-id-8\" type=\"checkbox\" ><label for=\"sk-estimator-id-8\" class=\"sk-toggleable__label sk-toggleable__label-arrow\">estimator: RandomForestRegressor</label><div class=\"sk-toggleable__content\"><pre>RandomForestRegressor()</pre></div></div></div><div class=\"sk-serial\"><div class=\"sk-item\"><div class=\"sk-estimator sk-toggleable\"><input class=\"sk-toggleable__control sk-hidden--visually\" id=\"sk-estimator-id-9\" type=\"checkbox\" ><label for=\"sk-estimator-id-9\" class=\"sk-toggleable__label sk-toggleable__label-arrow\">RandomForestRegressor</label><div class=\"sk-toggleable__content\"><pre>RandomForestRegressor()</pre></div></div></div></div></div></div></div></div></div></div>"
            ]
          },
          "metadata": {},
          "execution_count": 39
        }
      ]
    },
    {
      "cell_type": "code",
      "source": [
        "ee.best_params_"
      ],
      "metadata": {
        "colab": {
          "base_uri": "https://localhost:8080/"
        },
        "id": "kNcfhh9lFL15",
        "outputId": "d5dbdcdf-b3f4-40c0-8a94-92e1cb4e511b"
      },
      "execution_count": 40,
      "outputs": [
        {
          "output_type": "execute_result",
          "data": {
            "text/plain": [
              "{'n_estimators': 100,\n",
              " 'min_samples_split': 7,\n",
              " 'min_samples_leaf': 4,\n",
              " 'max_features': 'auto',\n",
              " 'max_depth': 4}"
            ]
          },
          "metadata": {},
          "execution_count": 40
        }
      ]
    },
    {
      "cell_type": "code",
      "source": [
        "from sklearn.ensemble import RandomForestRegressor\n",
        "model5=RandomForestRegressor(n_estimators=100,\n",
        " min_samples_split=7,\n",
        " min_samples_leaf=4,\n",
        " max_features='auto',\n",
        " max_depth=4)\n",
        "model5.fit(xtrain,ytrain)"
      ],
      "metadata": {
        "colab": {
          "base_uri": "https://localhost:8080/",
          "height": 148
        },
        "id": "rzC22MKHFZjI",
        "outputId": "a8db5361-dc71-4423-e77f-df53ceff1fdf"
      },
      "execution_count": 54,
      "outputs": [
        {
          "output_type": "stream",
          "name": "stderr",
          "text": [
            "/usr/local/lib/python3.10/dist-packages/sklearn/ensemble/_forest.py:413: FutureWarning: `max_features='auto'` has been deprecated in 1.1 and will be removed in 1.3. To keep the past behaviour, explicitly set `max_features=1.0` or remove this parameter as it is also the default value for RandomForestRegressors and ExtraTreesRegressors.\n",
            "  warn(\n"
          ]
        },
        {
          "output_type": "execute_result",
          "data": {
            "text/plain": [
              "RandomForestRegressor(max_depth=4, max_features='auto', min_samples_leaf=4,\n",
              "                      min_samples_split=7)"
            ],
            "text/html": [
              "<style>#sk-container-id-7 {color: black;background-color: white;}#sk-container-id-7 pre{padding: 0;}#sk-container-id-7 div.sk-toggleable {background-color: white;}#sk-container-id-7 label.sk-toggleable__label {cursor: pointer;display: block;width: 100%;margin-bottom: 0;padding: 0.3em;box-sizing: border-box;text-align: center;}#sk-container-id-7 label.sk-toggleable__label-arrow:before {content: \"▸\";float: left;margin-right: 0.25em;color: #696969;}#sk-container-id-7 label.sk-toggleable__label-arrow:hover:before {color: black;}#sk-container-id-7 div.sk-estimator:hover label.sk-toggleable__label-arrow:before {color: black;}#sk-container-id-7 div.sk-toggleable__content {max-height: 0;max-width: 0;overflow: hidden;text-align: left;background-color: #f0f8ff;}#sk-container-id-7 div.sk-toggleable__content pre {margin: 0.2em;color: black;border-radius: 0.25em;background-color: #f0f8ff;}#sk-container-id-7 input.sk-toggleable__control:checked~div.sk-toggleable__content {max-height: 200px;max-width: 100%;overflow: auto;}#sk-container-id-7 input.sk-toggleable__control:checked~label.sk-toggleable__label-arrow:before {content: \"▾\";}#sk-container-id-7 div.sk-estimator input.sk-toggleable__control:checked~label.sk-toggleable__label {background-color: #d4ebff;}#sk-container-id-7 div.sk-label input.sk-toggleable__control:checked~label.sk-toggleable__label {background-color: #d4ebff;}#sk-container-id-7 input.sk-hidden--visually {border: 0;clip: rect(1px 1px 1px 1px);clip: rect(1px, 1px, 1px, 1px);height: 1px;margin: -1px;overflow: hidden;padding: 0;position: absolute;width: 1px;}#sk-container-id-7 div.sk-estimator {font-family: monospace;background-color: #f0f8ff;border: 1px dotted black;border-radius: 0.25em;box-sizing: border-box;margin-bottom: 0.5em;}#sk-container-id-7 div.sk-estimator:hover {background-color: #d4ebff;}#sk-container-id-7 div.sk-parallel-item::after {content: \"\";width: 100%;border-bottom: 1px solid gray;flex-grow: 1;}#sk-container-id-7 div.sk-label:hover label.sk-toggleable__label {background-color: #d4ebff;}#sk-container-id-7 div.sk-serial::before {content: \"\";position: absolute;border-left: 1px solid gray;box-sizing: border-box;top: 0;bottom: 0;left: 50%;z-index: 0;}#sk-container-id-7 div.sk-serial {display: flex;flex-direction: column;align-items: center;background-color: white;padding-right: 0.2em;padding-left: 0.2em;position: relative;}#sk-container-id-7 div.sk-item {position: relative;z-index: 1;}#sk-container-id-7 div.sk-parallel {display: flex;align-items: stretch;justify-content: center;background-color: white;position: relative;}#sk-container-id-7 div.sk-item::before, #sk-container-id-7 div.sk-parallel-item::before {content: \"\";position: absolute;border-left: 1px solid gray;box-sizing: border-box;top: 0;bottom: 0;left: 50%;z-index: -1;}#sk-container-id-7 div.sk-parallel-item {display: flex;flex-direction: column;z-index: 1;position: relative;background-color: white;}#sk-container-id-7 div.sk-parallel-item:first-child::after {align-self: flex-end;width: 50%;}#sk-container-id-7 div.sk-parallel-item:last-child::after {align-self: flex-start;width: 50%;}#sk-container-id-7 div.sk-parallel-item:only-child::after {width: 0;}#sk-container-id-7 div.sk-dashed-wrapped {border: 1px dashed gray;margin: 0 0.4em 0.5em 0.4em;box-sizing: border-box;padding-bottom: 0.4em;background-color: white;}#sk-container-id-7 div.sk-label label {font-family: monospace;font-weight: bold;display: inline-block;line-height: 1.2em;}#sk-container-id-7 div.sk-label-container {text-align: center;}#sk-container-id-7 div.sk-container {/* jupyter's `normalize.less` sets `[hidden] { display: none; }` but bootstrap.min.css set `[hidden] { display: none !important; }` so we also need the `!important` here to be able to override the default hidden behavior on the sphinx rendered scikit-learn.org. See: https://github.com/scikit-learn/scikit-learn/issues/21755 */display: inline-block !important;position: relative;}#sk-container-id-7 div.sk-text-repr-fallback {display: none;}</style><div id=\"sk-container-id-7\" class=\"sk-top-container\"><div class=\"sk-text-repr-fallback\"><pre>RandomForestRegressor(max_depth=4, max_features=&#x27;auto&#x27;, min_samples_leaf=4,\n",
              "                      min_samples_split=7)</pre><b>In a Jupyter environment, please rerun this cell to show the HTML representation or trust the notebook. <br />On GitHub, the HTML representation is unable to render, please try loading this page with nbviewer.org.</b></div><div class=\"sk-container\" hidden><div class=\"sk-item\"><div class=\"sk-estimator sk-toggleable\"><input class=\"sk-toggleable__control sk-hidden--visually\" id=\"sk-estimator-id-11\" type=\"checkbox\" checked><label for=\"sk-estimator-id-11\" class=\"sk-toggleable__label sk-toggleable__label-arrow\">RandomForestRegressor</label><div class=\"sk-toggleable__content\"><pre>RandomForestRegressor(max_depth=4, max_features=&#x27;auto&#x27;, min_samples_leaf=4,\n",
              "                      min_samples_split=7)</pre></div></div></div></div></div>"
            ]
          },
          "metadata": {},
          "execution_count": 54
        }
      ]
    },
    {
      "cell_type": "code",
      "source": [
        "model5_score=model5.score(xtest,ytest)"
      ],
      "metadata": {
        "id": "yHpJs--4FfaO"
      },
      "execution_count": 55,
      "outputs": []
    },
    {
      "cell_type": "code",
      "source": [
        "model5_score"
      ],
      "metadata": {
        "colab": {
          "base_uri": "https://localhost:8080/"
        },
        "id": "TylHNqU3Fh6i",
        "outputId": "6310caed-e952-4be8-9115-e98a7138c91e"
      },
      "execution_count": 56,
      "outputs": [
        {
          "output_type": "execute_result",
          "data": {
            "text/plain": [
              "0.8216736549780632"
            ]
          },
          "metadata": {},
          "execution_count": 56
        }
      ]
    },
    {
      "cell_type": "markdown",
      "source": [
        "**ANN**"
      ],
      "metadata": {
        "id": "Tat4myKXVQwT"
      }
    },
    {
      "cell_type": "code",
      "source": [
        "import tensorflow"
      ],
      "metadata": {
        "id": "M9nG6clnFvCA"
      },
      "execution_count": 44,
      "outputs": []
    },
    {
      "cell_type": "code",
      "source": [
        "model=tensorflow.keras.Sequential([\n",
        "    tensorflow.keras.layers.Dense(164,activation='relu'),\n",
        "    tensorflow.keras.layers.Dense(128,activation='relu'),\n",
        "    tensorflow.keras.layers.Dense(164,activation='relu'),\n",
        "    tensorflow.keras.layers.Dense(32,activation='relu'),\n",
        "    tensorflow.keras.layers.Dense(1,activation='linear')\n",
        "])"
      ],
      "metadata": {
        "id": "uqRzGRpWFmM3"
      },
      "execution_count": 45,
      "outputs": []
    },
    {
      "cell_type": "code",
      "source": [
        "model.compile(optimizer=tensorflow.keras.optimizers.Adam(),loss='mean_absolute_error',metrics=['mean_squared_error'])"
      ],
      "metadata": {
        "id": "_JdpNvNvFw7J"
      },
      "execution_count": 46,
      "outputs": []
    },
    {
      "cell_type": "code",
      "source": [
        "model.fit(xtrain,ytrain,epochs=200,validation_data=(xtest,ytest))"
      ],
      "metadata": {
        "colab": {
          "base_uri": "https://localhost:8080/"
        },
        "id": "zU471yv_Fz18",
        "outputId": "37d132a5-a9c8-48b6-daa4-2ed0d3319419"
      },
      "execution_count": 47,
      "outputs": [
        {
          "output_type": "stream",
          "name": "stdout",
          "text": [
            "Epoch 1/200\n",
            "34/34 [==============================] - 2s 10ms/step - loss: 13467.4092 - mean_squared_error: 332325248.0000 - val_loss: 12440.4883 - val_mean_squared_error: 282668864.0000\n",
            "Epoch 2/200\n",
            "34/34 [==============================] - 0s 4ms/step - loss: 13294.0166 - mean_squared_error: 327137408.0000 - val_loss: 11875.5859 - val_mean_squared_error: 266818880.0000\n",
            "Epoch 3/200\n",
            "34/34 [==============================] - 0s 4ms/step - loss: 11292.0352 - mean_squared_error: 267660784.0000 - val_loss: 7813.8521 - val_mean_squared_error: 155782544.0000\n",
            "Epoch 4/200\n",
            "34/34 [==============================] - 0s 4ms/step - loss: 7322.7490 - mean_squared_error: 131171624.0000 - val_loss: 6267.7734 - val_mean_squared_error: 88323912.0000\n",
            "Epoch 5/200\n",
            "34/34 [==============================] - 0s 4ms/step - loss: 6557.0156 - mean_squared_error: 103773160.0000 - val_loss: 5834.9316 - val_mean_squared_error: 75444224.0000\n",
            "Epoch 6/200\n",
            "34/34 [==============================] - 0s 5ms/step - loss: 5999.0664 - mean_squared_error: 85940936.0000 - val_loss: 5349.3198 - val_mean_squared_error: 67842984.0000\n",
            "Epoch 7/200\n",
            "34/34 [==============================] - 0s 4ms/step - loss: 5463.0078 - mean_squared_error: 74929016.0000 - val_loss: 4874.0151 - val_mean_squared_error: 56562676.0000\n",
            "Epoch 8/200\n",
            "34/34 [==============================] - 0s 4ms/step - loss: 5027.9048 - mean_squared_error: 63756208.0000 - val_loss: 4516.6079 - val_mean_squared_error: 51430032.0000\n",
            "Epoch 9/200\n",
            "34/34 [==============================] - 0s 4ms/step - loss: 4663.2837 - mean_squared_error: 55390792.0000 - val_loss: 4191.2002 - val_mean_squared_error: 44075544.0000\n",
            "Epoch 10/200\n",
            "34/34 [==============================] - 0s 5ms/step - loss: 4364.6909 - mean_squared_error: 46911448.0000 - val_loss: 3861.7703 - val_mean_squared_error: 39791060.0000\n",
            "Epoch 11/200\n",
            "34/34 [==============================] - 0s 4ms/step - loss: 4011.3486 - mean_squared_error: 43416928.0000 - val_loss: 3584.8350 - val_mean_squared_error: 40979384.0000\n",
            "Epoch 12/200\n",
            "34/34 [==============================] - 0s 4ms/step - loss: 3763.2446 - mean_squared_error: 47213300.0000 - val_loss: 3497.6785 - val_mean_squared_error: 50135424.0000\n",
            "Epoch 13/200\n",
            "34/34 [==============================] - 0s 5ms/step - loss: 3612.9941 - mean_squared_error: 50690796.0000 - val_loss: 3462.3765 - val_mean_squared_error: 49860692.0000\n",
            "Epoch 14/200\n",
            "34/34 [==============================] - 0s 3ms/step - loss: 3601.8015 - mean_squared_error: 50602840.0000 - val_loss: 3471.3420 - val_mean_squared_error: 50293212.0000\n",
            "Epoch 15/200\n",
            "34/34 [==============================] - 0s 6ms/step - loss: 3594.3979 - mean_squared_error: 50498936.0000 - val_loss: 3421.3696 - val_mean_squared_error: 48502720.0000\n",
            "Epoch 16/200\n",
            "34/34 [==============================] - 0s 10ms/step - loss: 3621.9878 - mean_squared_error: 49804252.0000 - val_loss: 3424.4338 - val_mean_squared_error: 48927128.0000\n",
            "Epoch 17/200\n",
            "34/34 [==============================] - 0s 4ms/step - loss: 3592.5420 - mean_squared_error: 47811492.0000 - val_loss: 3419.0129 - val_mean_squared_error: 48703840.0000\n",
            "Epoch 18/200\n",
            "34/34 [==============================] - 0s 10ms/step - loss: 3587.9009 - mean_squared_error: 51495824.0000 - val_loss: 3415.5598 - val_mean_squared_error: 47650484.0000\n",
            "Epoch 19/200\n",
            "34/34 [==============================] - 0s 6ms/step - loss: 3585.0850 - mean_squared_error: 49265592.0000 - val_loss: 3446.5781 - val_mean_squared_error: 48877372.0000\n",
            "Epoch 20/200\n",
            "34/34 [==============================] - 0s 4ms/step - loss: 3579.5754 - mean_squared_error: 49789980.0000 - val_loss: 3451.0012 - val_mean_squared_error: 48496024.0000\n",
            "Epoch 21/200\n",
            "34/34 [==============================] - 0s 4ms/step - loss: 3571.1860 - mean_squared_error: 48193608.0000 - val_loss: 3418.2610 - val_mean_squared_error: 49121944.0000\n",
            "Epoch 22/200\n",
            "34/34 [==============================] - 0s 7ms/step - loss: 3564.8325 - mean_squared_error: 50571680.0000 - val_loss: 3428.8979 - val_mean_squared_error: 49333828.0000\n",
            "Epoch 23/200\n",
            "34/34 [==============================] - 0s 11ms/step - loss: 3556.8232 - mean_squared_error: 50338688.0000 - val_loss: 3404.3374 - val_mean_squared_error: 48556820.0000\n",
            "Epoch 24/200\n",
            "34/34 [==============================] - 0s 9ms/step - loss: 3573.5610 - mean_squared_error: 49009184.0000 - val_loss: 3402.6641 - val_mean_squared_error: 47992812.0000\n",
            "Epoch 25/200\n",
            "34/34 [==============================] - 0s 8ms/step - loss: 3570.3240 - mean_squared_error: 49954652.0000 - val_loss: 3422.5168 - val_mean_squared_error: 49281280.0000\n",
            "Epoch 26/200\n",
            "34/34 [==============================] - 0s 14ms/step - loss: 3556.2720 - mean_squared_error: 49272600.0000 - val_loss: 3407.8442 - val_mean_squared_error: 48545608.0000\n",
            "Epoch 27/200\n",
            "34/34 [==============================] - 0s 11ms/step - loss: 3548.1548 - mean_squared_error: 49167448.0000 - val_loss: 3430.0735 - val_mean_squared_error: 49550092.0000\n",
            "Epoch 28/200\n",
            "34/34 [==============================] - 1s 15ms/step - loss: 3548.1096 - mean_squared_error: 49982704.0000 - val_loss: 3434.3052 - val_mean_squared_error: 49501580.0000\n",
            "Epoch 29/200\n",
            "34/34 [==============================] - 0s 6ms/step - loss: 3551.2529 - mean_squared_error: 49855932.0000 - val_loss: 3428.1973 - val_mean_squared_error: 47086516.0000\n",
            "Epoch 30/200\n",
            "34/34 [==============================] - 0s 4ms/step - loss: 3554.2817 - mean_squared_error: 48702844.0000 - val_loss: 3431.9084 - val_mean_squared_error: 48044204.0000\n",
            "Epoch 31/200\n",
            "34/34 [==============================] - 0s 4ms/step - loss: 3546.7356 - mean_squared_error: 49215892.0000 - val_loss: 3431.0398 - val_mean_squared_error: 49591500.0000\n",
            "Epoch 32/200\n",
            "34/34 [==============================] - 0s 5ms/step - loss: 3543.5715 - mean_squared_error: 49461180.0000 - val_loss: 3398.8931 - val_mean_squared_error: 46903076.0000\n",
            "Epoch 33/200\n",
            "34/34 [==============================] - 0s 9ms/step - loss: 3556.9717 - mean_squared_error: 48610792.0000 - val_loss: 3392.9463 - val_mean_squared_error: 48485660.0000\n",
            "Epoch 34/200\n",
            "34/34 [==============================] - 0s 14ms/step - loss: 3546.3223 - mean_squared_error: 48997272.0000 - val_loss: 3383.7871 - val_mean_squared_error: 47944348.0000\n",
            "Epoch 35/200\n",
            "34/34 [==============================] - 1s 16ms/step - loss: 3539.7952 - mean_squared_error: 49608368.0000 - val_loss: 3425.3616 - val_mean_squared_error: 47651256.0000\n",
            "Epoch 36/200\n",
            "34/34 [==============================] - 0s 10ms/step - loss: 3557.8616 - mean_squared_error: 48599252.0000 - val_loss: 3390.5566 - val_mean_squared_error: 48461072.0000\n",
            "Epoch 37/200\n",
            "34/34 [==============================] - 1s 16ms/step - loss: 3542.6040 - mean_squared_error: 48902856.0000 - val_loss: 3405.3411 - val_mean_squared_error: 49067068.0000\n",
            "Epoch 38/200\n",
            "34/34 [==============================] - 0s 14ms/step - loss: 3540.6597 - mean_squared_error: 48678056.0000 - val_loss: 3379.8062 - val_mean_squared_error: 47953092.0000\n",
            "Epoch 39/200\n",
            "34/34 [==============================] - 1s 20ms/step - loss: 3527.3704 - mean_squared_error: 48831904.0000 - val_loss: 3391.4182 - val_mean_squared_error: 48677620.0000\n",
            "Epoch 40/200\n",
            "34/34 [==============================] - 0s 15ms/step - loss: 3540.7417 - mean_squared_error: 48925444.0000 - val_loss: 3397.0898 - val_mean_squared_error: 48680512.0000\n",
            "Epoch 41/200\n",
            "34/34 [==============================] - 0s 11ms/step - loss: 3523.2959 - mean_squared_error: 49798580.0000 - val_loss: 3411.4021 - val_mean_squared_error: 47236684.0000\n",
            "Epoch 42/200\n",
            "34/34 [==============================] - 0s 12ms/step - loss: 3579.0959 - mean_squared_error: 49609140.0000 - val_loss: 3387.6484 - val_mean_squared_error: 48085704.0000\n",
            "Epoch 43/200\n",
            "34/34 [==============================] - 1s 18ms/step - loss: 3541.8926 - mean_squared_error: 48186328.0000 - val_loss: 3380.8411 - val_mean_squared_error: 48210812.0000\n",
            "Epoch 44/200\n",
            "34/34 [==============================] - 0s 14ms/step - loss: 3523.6023 - mean_squared_error: 49495108.0000 - val_loss: 3379.1917 - val_mean_squared_error: 48035872.0000\n",
            "Epoch 45/200\n",
            "34/34 [==============================] - 0s 11ms/step - loss: 3543.6274 - mean_squared_error: 49225056.0000 - val_loss: 3365.7673 - val_mean_squared_error: 47600372.0000\n",
            "Epoch 46/200\n",
            "34/34 [==============================] - 0s 11ms/step - loss: 3517.8467 - mean_squared_error: 49639420.0000 - val_loss: 3361.2458 - val_mean_squared_error: 47421824.0000\n",
            "Epoch 47/200\n",
            "34/34 [==============================] - 0s 11ms/step - loss: 3525.0903 - mean_squared_error: 48336396.0000 - val_loss: 3367.0862 - val_mean_squared_error: 47619932.0000\n",
            "Epoch 48/200\n",
            "34/34 [==============================] - 0s 9ms/step - loss: 3515.6016 - mean_squared_error: 48308580.0000 - val_loss: 3357.2100 - val_mean_squared_error: 47183788.0000\n",
            "Epoch 49/200\n",
            "34/34 [==============================] - 0s 7ms/step - loss: 3518.7878 - mean_squared_error: 49672964.0000 - val_loss: 3370.7241 - val_mean_squared_error: 47712548.0000\n",
            "Epoch 50/200\n",
            "34/34 [==============================] - 0s 7ms/step - loss: 3522.3652 - mean_squared_error: 47940868.0000 - val_loss: 3354.2319 - val_mean_squared_error: 46295044.0000\n",
            "Epoch 51/200\n",
            "34/34 [==============================] - 0s 5ms/step - loss: 3508.8789 - mean_squared_error: 46801808.0000 - val_loss: 3356.4836 - val_mean_squared_error: 47322948.0000\n",
            "Epoch 52/200\n",
            "34/34 [==============================] - 0s 4ms/step - loss: 3498.5330 - mean_squared_error: 48378688.0000 - val_loss: 3424.9824 - val_mean_squared_error: 48589448.0000\n",
            "Epoch 53/200\n",
            "34/34 [==============================] - 0s 4ms/step - loss: 3514.4011 - mean_squared_error: 49231376.0000 - val_loss: 3409.0706 - val_mean_squared_error: 47230352.0000\n",
            "Epoch 54/200\n",
            "34/34 [==============================] - 0s 4ms/step - loss: 3520.7671 - mean_squared_error: 47312068.0000 - val_loss: 3375.4104 - val_mean_squared_error: 46835260.0000\n",
            "Epoch 55/200\n",
            "34/34 [==============================] - 0s 4ms/step - loss: 3501.5981 - mean_squared_error: 47882464.0000 - val_loss: 3383.4714 - val_mean_squared_error: 48670320.0000\n",
            "Epoch 56/200\n",
            "34/34 [==============================] - 0s 4ms/step - loss: 3512.0361 - mean_squared_error: 48768996.0000 - val_loss: 3368.9878 - val_mean_squared_error: 47507196.0000\n",
            "Epoch 57/200\n",
            "34/34 [==============================] - 0s 4ms/step - loss: 3505.0884 - mean_squared_error: 49055760.0000 - val_loss: 3334.6111 - val_mean_squared_error: 46445832.0000\n",
            "Epoch 58/200\n",
            "34/34 [==============================] - 0s 5ms/step - loss: 3503.7058 - mean_squared_error: 46833592.0000 - val_loss: 3333.2197 - val_mean_squared_error: 46484948.0000\n",
            "Epoch 59/200\n",
            "34/34 [==============================] - 0s 4ms/step - loss: 3488.0979 - mean_squared_error: 47628452.0000 - val_loss: 3378.9419 - val_mean_squared_error: 48363476.0000\n",
            "Epoch 60/200\n",
            "34/34 [==============================] - 0s 5ms/step - loss: 3485.2634 - mean_squared_error: 48478572.0000 - val_loss: 3367.1233 - val_mean_squared_error: 46681520.0000\n",
            "Epoch 61/200\n",
            "34/34 [==============================] - 0s 4ms/step - loss: 3500.2156 - mean_squared_error: 47085788.0000 - val_loss: 3345.8796 - val_mean_squared_error: 47117268.0000\n",
            "Epoch 62/200\n",
            "34/34 [==============================] - 0s 4ms/step - loss: 3493.0393 - mean_squared_error: 47883120.0000 - val_loss: 3351.3303 - val_mean_squared_error: 46051580.0000\n",
            "Epoch 63/200\n",
            "34/34 [==============================] - 0s 4ms/step - loss: 3493.7898 - mean_squared_error: 47409688.0000 - val_loss: 3343.0994 - val_mean_squared_error: 46748288.0000\n",
            "Epoch 64/200\n",
            "34/34 [==============================] - 0s 4ms/step - loss: 3475.0100 - mean_squared_error: 47635488.0000 - val_loss: 3331.1394 - val_mean_squared_error: 46783736.0000\n",
            "Epoch 65/200\n",
            "34/34 [==============================] - 0s 5ms/step - loss: 3466.5530 - mean_squared_error: 47903752.0000 - val_loss: 3382.5093 - val_mean_squared_error: 45575136.0000\n",
            "Epoch 66/200\n",
            "34/34 [==============================] - 0s 4ms/step - loss: 3486.7241 - mean_squared_error: 48010516.0000 - val_loss: 3391.5459 - val_mean_squared_error: 46483800.0000\n",
            "Epoch 67/200\n",
            "34/34 [==============================] - 0s 4ms/step - loss: 3493.8821 - mean_squared_error: 46702828.0000 - val_loss: 3290.7837 - val_mean_squared_error: 44629664.0000\n",
            "Epoch 68/200\n",
            "34/34 [==============================] - 0s 4ms/step - loss: 3477.5190 - mean_squared_error: 47562884.0000 - val_loss: 3390.0017 - val_mean_squared_error: 48935816.0000\n",
            "Epoch 69/200\n",
            "34/34 [==============================] - 0s 4ms/step - loss: 3464.4182 - mean_squared_error: 47502320.0000 - val_loss: 3312.8928 - val_mean_squared_error: 46246720.0000\n",
            "Epoch 70/200\n",
            "34/34 [==============================] - 0s 4ms/step - loss: 3451.6890 - mean_squared_error: 46941748.0000 - val_loss: 3338.6624 - val_mean_squared_error: 46152484.0000\n",
            "Epoch 71/200\n",
            "34/34 [==============================] - 0s 5ms/step - loss: 3454.0896 - mean_squared_error: 47733880.0000 - val_loss: 3306.6699 - val_mean_squared_error: 46347720.0000\n",
            "Epoch 72/200\n",
            "34/34 [==============================] - 0s 4ms/step - loss: 3448.2129 - mean_squared_error: 46547732.0000 - val_loss: 3292.7358 - val_mean_squared_error: 45608116.0000\n",
            "Epoch 73/200\n",
            "34/34 [==============================] - 0s 4ms/step - loss: 3444.6689 - mean_squared_error: 47203432.0000 - val_loss: 3302.9939 - val_mean_squared_error: 46378596.0000\n",
            "Epoch 74/200\n",
            "34/34 [==============================] - 0s 4ms/step - loss: 3440.2712 - mean_squared_error: 47095228.0000 - val_loss: 3309.8452 - val_mean_squared_error: 44818796.0000\n",
            "Epoch 75/200\n",
            "34/34 [==============================] - 0s 4ms/step - loss: 3451.9277 - mean_squared_error: 45915156.0000 - val_loss: 3274.1829 - val_mean_squared_error: 45167564.0000\n",
            "Epoch 76/200\n",
            "34/34 [==============================] - 0s 4ms/step - loss: 3440.5894 - mean_squared_error: 46430848.0000 - val_loss: 3307.0659 - val_mean_squared_error: 44538160.0000\n",
            "Epoch 77/200\n",
            "34/34 [==============================] - 0s 4ms/step - loss: 3433.4556 - mean_squared_error: 46667516.0000 - val_loss: 3261.6392 - val_mean_squared_error: 43988680.0000\n",
            "Epoch 78/200\n",
            "34/34 [==============================] - 0s 4ms/step - loss: 3424.6980 - mean_squared_error: 45752600.0000 - val_loss: 3270.8015 - val_mean_squared_error: 45299000.0000\n",
            "Epoch 79/200\n",
            "34/34 [==============================] - 0s 4ms/step - loss: 3407.5793 - mean_squared_error: 46771052.0000 - val_loss: 3293.7830 - val_mean_squared_error: 46381608.0000\n",
            "Epoch 80/200\n",
            "34/34 [==============================] - 0s 4ms/step - loss: 3402.0142 - mean_squared_error: 46018196.0000 - val_loss: 3282.3501 - val_mean_squared_error: 45716692.0000\n",
            "Epoch 81/200\n",
            "34/34 [==============================] - 0s 4ms/step - loss: 3418.9075 - mean_squared_error: 46277044.0000 - val_loss: 3295.1907 - val_mean_squared_error: 46093260.0000\n",
            "Epoch 82/200\n",
            "34/34 [==============================] - 0s 4ms/step - loss: 3387.2456 - mean_squared_error: 46125604.0000 - val_loss: 3270.4141 - val_mean_squared_error: 45596980.0000\n",
            "Epoch 83/200\n",
            "34/34 [==============================] - 0s 4ms/step - loss: 3388.8274 - mean_squared_error: 44928440.0000 - val_loss: 3257.0051 - val_mean_squared_error: 45165364.0000\n",
            "Epoch 84/200\n",
            "34/34 [==============================] - 0s 4ms/step - loss: 3397.9031 - mean_squared_error: 44703384.0000 - val_loss: 3266.2324 - val_mean_squared_error: 43794092.0000\n",
            "Epoch 85/200\n",
            "34/34 [==============================] - 0s 5ms/step - loss: 3412.6663 - mean_squared_error: 44252924.0000 - val_loss: 3247.7388 - val_mean_squared_error: 44790236.0000\n",
            "Epoch 86/200\n",
            "34/34 [==============================] - 0s 5ms/step - loss: 3358.1562 - mean_squared_error: 45571072.0000 - val_loss: 3270.0535 - val_mean_squared_error: 44712392.0000\n",
            "Epoch 87/200\n",
            "34/34 [==============================] - 0s 4ms/step - loss: 3350.6531 - mean_squared_error: 45101368.0000 - val_loss: 3226.2666 - val_mean_squared_error: 44655180.0000\n",
            "Epoch 88/200\n",
            "34/34 [==============================] - 0s 4ms/step - loss: 3339.4741 - mean_squared_error: 44138828.0000 - val_loss: 3220.0037 - val_mean_squared_error: 43441188.0000\n",
            "Epoch 89/200\n",
            "34/34 [==============================] - 0s 4ms/step - loss: 3355.5911 - mean_squared_error: 42626000.0000 - val_loss: 3278.1750 - val_mean_squared_error: 43486140.0000\n",
            "Epoch 90/200\n",
            "34/34 [==============================] - 0s 4ms/step - loss: 3352.6487 - mean_squared_error: 44761352.0000 - val_loss: 3195.3984 - val_mean_squared_error: 42628504.0000\n",
            "Epoch 91/200\n",
            "34/34 [==============================] - 0s 4ms/step - loss: 3331.8435 - mean_squared_error: 44058268.0000 - val_loss: 3190.0315 - val_mean_squared_error: 43644780.0000\n",
            "Epoch 92/200\n",
            "34/34 [==============================] - 0s 5ms/step - loss: 3304.6863 - mean_squared_error: 43409728.0000 - val_loss: 3224.1189 - val_mean_squared_error: 41881268.0000\n",
            "Epoch 93/200\n",
            "34/34 [==============================] - 0s 4ms/step - loss: 3305.0740 - mean_squared_error: 42998996.0000 - val_loss: 3146.1169 - val_mean_squared_error: 40949608.0000\n",
            "Epoch 94/200\n",
            "34/34 [==============================] - 0s 4ms/step - loss: 3298.5032 - mean_squared_error: 43215476.0000 - val_loss: 3197.5896 - val_mean_squared_error: 42948056.0000\n",
            "Epoch 95/200\n",
            "34/34 [==============================] - 0s 4ms/step - loss: 3279.7407 - mean_squared_error: 42208248.0000 - val_loss: 3129.4766 - val_mean_squared_error: 40790412.0000\n",
            "Epoch 96/200\n",
            "34/34 [==============================] - 0s 4ms/step - loss: 3269.0581 - mean_squared_error: 42416880.0000 - val_loss: 3127.9666 - val_mean_squared_error: 41498572.0000\n",
            "Epoch 97/200\n",
            "34/34 [==============================] - 0s 4ms/step - loss: 3249.6682 - mean_squared_error: 42549368.0000 - val_loss: 3181.8848 - val_mean_squared_error: 39398412.0000\n",
            "Epoch 98/200\n",
            "34/34 [==============================] - 0s 4ms/step - loss: 3264.1179 - mean_squared_error: 41024404.0000 - val_loss: 3127.7166 - val_mean_squared_error: 41592620.0000\n",
            "Epoch 99/200\n",
            "34/34 [==============================] - 0s 5ms/step - loss: 3236.2966 - mean_squared_error: 42166924.0000 - val_loss: 3098.9758 - val_mean_squared_error: 40835864.0000\n",
            "Epoch 100/200\n",
            "34/34 [==============================] - 0s 4ms/step - loss: 3215.7515 - mean_squared_error: 40591444.0000 - val_loss: 3094.6426 - val_mean_squared_error: 40944952.0000\n",
            "Epoch 101/200\n",
            "34/34 [==============================] - 0s 4ms/step - loss: 3202.2393 - mean_squared_error: 40624404.0000 - val_loss: 3072.1294 - val_mean_squared_error: 39520816.0000\n",
            "Epoch 102/200\n",
            "34/34 [==============================] - 0s 4ms/step - loss: 3174.1121 - mean_squared_error: 40286544.0000 - val_loss: 3114.0269 - val_mean_squared_error: 41587500.0000\n",
            "Epoch 103/200\n",
            "34/34 [==============================] - 0s 4ms/step - loss: 3171.2153 - mean_squared_error: 40867812.0000 - val_loss: 3049.8530 - val_mean_squared_error: 39147556.0000\n",
            "Epoch 104/200\n",
            "34/34 [==============================] - 0s 4ms/step - loss: 3144.0193 - mean_squared_error: 38860472.0000 - val_loss: 3055.3479 - val_mean_squared_error: 39265768.0000\n",
            "Epoch 105/200\n",
            "34/34 [==============================] - 0s 4ms/step - loss: 3126.3384 - mean_squared_error: 39279392.0000 - val_loss: 3058.9395 - val_mean_squared_error: 38638968.0000\n",
            "Epoch 106/200\n",
            "34/34 [==============================] - 0s 5ms/step - loss: 3115.2429 - mean_squared_error: 38818112.0000 - val_loss: 3015.6135 - val_mean_squared_error: 38017848.0000\n",
            "Epoch 107/200\n",
            "34/34 [==============================] - 0s 4ms/step - loss: 3085.7092 - mean_squared_error: 38772500.0000 - val_loss: 3012.9514 - val_mean_squared_error: 37037552.0000\n",
            "Epoch 108/200\n",
            "34/34 [==============================] - 0s 6ms/step - loss: 3080.0225 - mean_squared_error: 37435616.0000 - val_loss: 2990.9614 - val_mean_squared_error: 38165256.0000\n",
            "Epoch 109/200\n",
            "34/34 [==============================] - 0s 5ms/step - loss: 3053.0283 - mean_squared_error: 37708668.0000 - val_loss: 2978.0283 - val_mean_squared_error: 36620188.0000\n",
            "Epoch 110/200\n",
            "34/34 [==============================] - 0s 7ms/step - loss: 3038.7720 - mean_squared_error: 36569196.0000 - val_loss: 2988.0930 - val_mean_squared_error: 37165012.0000\n",
            "Epoch 111/200\n",
            "34/34 [==============================] - 0s 11ms/step - loss: 3044.2515 - mean_squared_error: 36539392.0000 - val_loss: 2934.7373 - val_mean_squared_error: 35937520.0000\n",
            "Epoch 112/200\n",
            "34/34 [==============================] - 0s 6ms/step - loss: 3035.9819 - mean_squared_error: 36300976.0000 - val_loss: 2930.2998 - val_mean_squared_error: 34745808.0000\n",
            "Epoch 113/200\n",
            "34/34 [==============================] - 0s 6ms/step - loss: 3010.0586 - mean_squared_error: 35464460.0000 - val_loss: 2884.7588 - val_mean_squared_error: 33574404.0000\n",
            "Epoch 114/200\n",
            "34/34 [==============================] - 0s 10ms/step - loss: 2991.9219 - mean_squared_error: 34863124.0000 - val_loss: 2894.0183 - val_mean_squared_error: 34175020.0000\n",
            "Epoch 115/200\n",
            "34/34 [==============================] - 0s 7ms/step - loss: 2961.5012 - mean_squared_error: 34500480.0000 - val_loss: 2906.7637 - val_mean_squared_error: 33935492.0000\n",
            "Epoch 116/200\n",
            "34/34 [==============================] - 0s 7ms/step - loss: 2963.8289 - mean_squared_error: 33625168.0000 - val_loss: 2903.4988 - val_mean_squared_error: 33468010.0000\n",
            "Epoch 117/200\n",
            "34/34 [==============================] - 0s 7ms/step - loss: 2956.2363 - mean_squared_error: 33085770.0000 - val_loss: 2840.6650 - val_mean_squared_error: 33002202.0000\n",
            "Epoch 118/200\n",
            "34/34 [==============================] - 0s 9ms/step - loss: 2910.3279 - mean_squared_error: 33063704.0000 - val_loss: 2824.0867 - val_mean_squared_error: 32921256.0000\n",
            "Epoch 119/200\n",
            "34/34 [==============================] - 0s 6ms/step - loss: 2884.1934 - mean_squared_error: 32530364.0000 - val_loss: 2796.2056 - val_mean_squared_error: 31344274.0000\n",
            "Epoch 120/200\n",
            "34/34 [==============================] - 0s 6ms/step - loss: 2867.1343 - mean_squared_error: 31407140.0000 - val_loss: 2776.9297 - val_mean_squared_error: 30727830.0000\n",
            "Epoch 121/200\n",
            "34/34 [==============================] - 0s 7ms/step - loss: 2859.0825 - mean_squared_error: 30884402.0000 - val_loss: 2759.3564 - val_mean_squared_error: 30821686.0000\n",
            "Epoch 122/200\n",
            "34/34 [==============================] - 0s 8ms/step - loss: 2838.6719 - mean_squared_error: 30507554.0000 - val_loss: 2784.3594 - val_mean_squared_error: 31606886.0000\n",
            "Epoch 123/200\n",
            "34/34 [==============================] - 0s 4ms/step - loss: 2814.1455 - mean_squared_error: 30197698.0000 - val_loss: 2739.0046 - val_mean_squared_error: 30670312.0000\n",
            "Epoch 124/200\n",
            "34/34 [==============================] - 0s 4ms/step - loss: 2783.4712 - mean_squared_error: 29867000.0000 - val_loss: 2711.5449 - val_mean_squared_error: 29551770.0000\n",
            "Epoch 125/200\n",
            "34/34 [==============================] - 0s 5ms/step - loss: 2768.9834 - mean_squared_error: 28950332.0000 - val_loss: 2707.2305 - val_mean_squared_error: 29583604.0000\n",
            "Epoch 126/200\n",
            "34/34 [==============================] - 0s 5ms/step - loss: 2746.9580 - mean_squared_error: 28675674.0000 - val_loss: 2715.2808 - val_mean_squared_error: 29378286.0000\n",
            "Epoch 127/200\n",
            "34/34 [==============================] - 0s 8ms/step - loss: 2732.2725 - mean_squared_error: 28422398.0000 - val_loss: 2675.8730 - val_mean_squared_error: 29337108.0000\n",
            "Epoch 128/200\n",
            "34/34 [==============================] - 0s 8ms/step - loss: 2709.3342 - mean_squared_error: 27829048.0000 - val_loss: 2635.7446 - val_mean_squared_error: 28426110.0000\n",
            "Epoch 129/200\n",
            "34/34 [==============================] - 0s 11ms/step - loss: 2669.8398 - mean_squared_error: 27593084.0000 - val_loss: 2612.4707 - val_mean_squared_error: 27942682.0000\n",
            "Epoch 130/200\n",
            "34/34 [==============================] - 0s 14ms/step - loss: 2680.5925 - mean_squared_error: 26953330.0000 - val_loss: 2604.9065 - val_mean_squared_error: 28242706.0000\n",
            "Epoch 131/200\n",
            "34/34 [==============================] - 0s 8ms/step - loss: 2668.7974 - mean_squared_error: 26945950.0000 - val_loss: 2668.1123 - val_mean_squared_error: 27664630.0000\n",
            "Epoch 132/200\n",
            "34/34 [==============================] - 0s 9ms/step - loss: 2634.9714 - mean_squared_error: 26594706.0000 - val_loss: 2559.5076 - val_mean_squared_error: 27226320.0000\n",
            "Epoch 133/200\n",
            "34/34 [==============================] - 0s 10ms/step - loss: 2598.8499 - mean_squared_error: 26339492.0000 - val_loss: 2574.2061 - val_mean_squared_error: 28259496.0000\n",
            "Epoch 134/200\n",
            "34/34 [==============================] - 0s 8ms/step - loss: 2569.9048 - mean_squared_error: 26126228.0000 - val_loss: 2506.6926 - val_mean_squared_error: 27624506.0000\n",
            "Epoch 135/200\n",
            "34/34 [==============================] - 0s 9ms/step - loss: 2537.4480 - mean_squared_error: 26007330.0000 - val_loss: 2477.7529 - val_mean_squared_error: 27269858.0000\n",
            "Epoch 136/200\n",
            "34/34 [==============================] - 0s 10ms/step - loss: 2541.4448 - mean_squared_error: 26281072.0000 - val_loss: 2508.2217 - val_mean_squared_error: 27857896.0000\n",
            "Epoch 137/200\n",
            "34/34 [==============================] - 0s 14ms/step - loss: 2514.7090 - mean_squared_error: 25819626.0000 - val_loss: 2478.5518 - val_mean_squared_error: 27506276.0000\n",
            "Epoch 138/200\n",
            "34/34 [==============================] - 0s 7ms/step - loss: 2515.2119 - mean_squared_error: 25650368.0000 - val_loss: 2457.7026 - val_mean_squared_error: 26743334.0000\n",
            "Epoch 139/200\n",
            "34/34 [==============================] - 0s 8ms/step - loss: 2475.1887 - mean_squared_error: 25715632.0000 - val_loss: 2504.5859 - val_mean_squared_error: 28192958.0000\n",
            "Epoch 140/200\n",
            "34/34 [==============================] - 0s 9ms/step - loss: 2476.2783 - mean_squared_error: 25637556.0000 - val_loss: 2434.9500 - val_mean_squared_error: 27593604.0000\n",
            "Epoch 141/200\n",
            "34/34 [==============================] - 0s 10ms/step - loss: 2469.3098 - mean_squared_error: 25687534.0000 - val_loss: 2427.3835 - val_mean_squared_error: 27817944.0000\n",
            "Epoch 142/200\n",
            "34/34 [==============================] - 1s 17ms/step - loss: 2464.7561 - mean_squared_error: 25651624.0000 - val_loss: 2478.7207 - val_mean_squared_error: 26452530.0000\n",
            "Epoch 143/200\n",
            "34/34 [==============================] - 0s 13ms/step - loss: 2474.8215 - mean_squared_error: 25646320.0000 - val_loss: 2418.7576 - val_mean_squared_error: 27524308.0000\n",
            "Epoch 144/200\n",
            "34/34 [==============================] - 0s 12ms/step - loss: 2458.2263 - mean_squared_error: 25372560.0000 - val_loss: 2434.5613 - val_mean_squared_error: 28194484.0000\n",
            "Epoch 145/200\n",
            "34/34 [==============================] - 0s 11ms/step - loss: 2454.5408 - mean_squared_error: 25564556.0000 - val_loss: 2420.1831 - val_mean_squared_error: 27051056.0000\n",
            "Epoch 146/200\n",
            "34/34 [==============================] - 0s 11ms/step - loss: 2482.9353 - mean_squared_error: 26000150.0000 - val_loss: 2522.0767 - val_mean_squared_error: 29235702.0000\n",
            "Epoch 147/200\n",
            "34/34 [==============================] - 0s 9ms/step - loss: 2438.5735 - mean_squared_error: 25264844.0000 - val_loss: 2452.5879 - val_mean_squared_error: 27095620.0000\n",
            "Epoch 148/200\n",
            "34/34 [==============================] - 0s 11ms/step - loss: 2440.8911 - mean_squared_error: 25452892.0000 - val_loss: 2412.8813 - val_mean_squared_error: 27487316.0000\n",
            "Epoch 149/200\n",
            "34/34 [==============================] - 1s 15ms/step - loss: 2428.9709 - mean_squared_error: 25468144.0000 - val_loss: 2410.1777 - val_mean_squared_error: 27692976.0000\n",
            "Epoch 150/200\n",
            "34/34 [==============================] - 0s 9ms/step - loss: 2451.5515 - mean_squared_error: 25533354.0000 - val_loss: 2434.2598 - val_mean_squared_error: 28314756.0000\n",
            "Epoch 151/200\n",
            "34/34 [==============================] - 0s 13ms/step - loss: 2432.5857 - mean_squared_error: 25458306.0000 - val_loss: 2422.1975 - val_mean_squared_error: 28034958.0000\n",
            "Epoch 152/200\n",
            "34/34 [==============================] - 1s 19ms/step - loss: 2437.1768 - mean_squared_error: 25555622.0000 - val_loss: 2439.3940 - val_mean_squared_error: 28198824.0000\n",
            "Epoch 153/200\n",
            "34/34 [==============================] - 0s 10ms/step - loss: 2425.2249 - mean_squared_error: 25600038.0000 - val_loss: 2425.8469 - val_mean_squared_error: 27233484.0000\n",
            "Epoch 154/200\n",
            "34/34 [==============================] - 1s 18ms/step - loss: 2425.6875 - mean_squared_error: 25525948.0000 - val_loss: 2412.9094 - val_mean_squared_error: 27236430.0000\n",
            "Epoch 155/200\n",
            "34/34 [==============================] - 1s 16ms/step - loss: 2442.7837 - mean_squared_error: 25414134.0000 - val_loss: 2444.9849 - val_mean_squared_error: 28252788.0000\n",
            "Epoch 156/200\n",
            "34/34 [==============================] - 0s 8ms/step - loss: 2418.5437 - mean_squared_error: 25391118.0000 - val_loss: 2420.0691 - val_mean_squared_error: 28009160.0000\n",
            "Epoch 157/200\n",
            "34/34 [==============================] - 0s 7ms/step - loss: 2415.0098 - mean_squared_error: 25529348.0000 - val_loss: 2406.8313 - val_mean_squared_error: 27612636.0000\n",
            "Epoch 158/200\n",
            "34/34 [==============================] - 0s 8ms/step - loss: 2416.4429 - mean_squared_error: 25488636.0000 - val_loss: 2405.8921 - val_mean_squared_error: 27386832.0000\n",
            "Epoch 159/200\n",
            "34/34 [==============================] - 0s 8ms/step - loss: 2420.9495 - mean_squared_error: 25463510.0000 - val_loss: 2416.4827 - val_mean_squared_error: 27881612.0000\n",
            "Epoch 160/200\n",
            "34/34 [==============================] - 0s 7ms/step - loss: 2402.3599 - mean_squared_error: 25411754.0000 - val_loss: 2454.4084 - val_mean_squared_error: 27065674.0000\n",
            "Epoch 161/200\n",
            "34/34 [==============================] - 0s 6ms/step - loss: 2440.9980 - mean_squared_error: 25371328.0000 - val_loss: 2415.8765 - val_mean_squared_error: 27874040.0000\n",
            "Epoch 162/200\n",
            "34/34 [==============================] - 0s 6ms/step - loss: 2438.9392 - mean_squared_error: 25611916.0000 - val_loss: 2421.0747 - val_mean_squared_error: 28070506.0000\n",
            "Epoch 163/200\n",
            "34/34 [==============================] - 0s 5ms/step - loss: 2420.2146 - mean_squared_error: 25381550.0000 - val_loss: 2401.7825 - val_mean_squared_error: 27379930.0000\n",
            "Epoch 164/200\n",
            "34/34 [==============================] - 0s 4ms/step - loss: 2423.6709 - mean_squared_error: 25334782.0000 - val_loss: 2398.9609 - val_mean_squared_error: 27483742.0000\n",
            "Epoch 165/200\n",
            "34/34 [==============================] - 0s 4ms/step - loss: 2410.0691 - mean_squared_error: 25516620.0000 - val_loss: 2401.7590 - val_mean_squared_error: 27386382.0000\n",
            "Epoch 166/200\n",
            "34/34 [==============================] - 0s 4ms/step - loss: 2415.3188 - mean_squared_error: 25285916.0000 - val_loss: 2402.7322 - val_mean_squared_error: 27736000.0000\n",
            "Epoch 167/200\n",
            "34/34 [==============================] - 0s 4ms/step - loss: 2412.6880 - mean_squared_error: 25576086.0000 - val_loss: 2451.5281 - val_mean_squared_error: 28236292.0000\n",
            "Epoch 168/200\n",
            "34/34 [==============================] - 0s 4ms/step - loss: 2427.0994 - mean_squared_error: 25454796.0000 - val_loss: 2403.1626 - val_mean_squared_error: 26900032.0000\n",
            "Epoch 169/200\n",
            "34/34 [==============================] - 0s 4ms/step - loss: 2406.7383 - mean_squared_error: 25298204.0000 - val_loss: 2396.3784 - val_mean_squared_error: 27444030.0000\n",
            "Epoch 170/200\n",
            "34/34 [==============================] - 0s 5ms/step - loss: 2413.9072 - mean_squared_error: 25445544.0000 - val_loss: 2398.8196 - val_mean_squared_error: 27634254.0000\n",
            "Epoch 171/200\n",
            "34/34 [==============================] - 0s 4ms/step - loss: 2399.1223 - mean_squared_error: 25260784.0000 - val_loss: 2405.7683 - val_mean_squared_error: 27052652.0000\n",
            "Epoch 172/200\n",
            "34/34 [==============================] - 0s 4ms/step - loss: 2406.4282 - mean_squared_error: 25580868.0000 - val_loss: 2431.2009 - val_mean_squared_error: 28204388.0000\n",
            "Epoch 173/200\n",
            "34/34 [==============================] - 0s 4ms/step - loss: 2409.5718 - mean_squared_error: 25226358.0000 - val_loss: 2416.9700 - val_mean_squared_error: 28080680.0000\n",
            "Epoch 174/200\n",
            "34/34 [==============================] - 0s 4ms/step - loss: 2404.4111 - mean_squared_error: 25498062.0000 - val_loss: 2425.3318 - val_mean_squared_error: 28051814.0000\n",
            "Epoch 175/200\n",
            "34/34 [==============================] - 0s 4ms/step - loss: 2413.8701 - mean_squared_error: 25574314.0000 - val_loss: 2433.3516 - val_mean_squared_error: 27770264.0000\n",
            "Epoch 176/200\n",
            "34/34 [==============================] - 0s 4ms/step - loss: 2390.0701 - mean_squared_error: 25475088.0000 - val_loss: 2396.4104 - val_mean_squared_error: 27627874.0000\n",
            "Epoch 177/200\n",
            "34/34 [==============================] - 0s 5ms/step - loss: 2414.5923 - mean_squared_error: 25376928.0000 - val_loss: 2416.5203 - val_mean_squared_error: 27987214.0000\n",
            "Epoch 178/200\n",
            "34/34 [==============================] - 0s 4ms/step - loss: 2434.0330 - mean_squared_error: 25893310.0000 - val_loss: 2404.0781 - val_mean_squared_error: 27837000.0000\n",
            "Epoch 179/200\n",
            "34/34 [==============================] - 0s 4ms/step - loss: 2409.8894 - mean_squared_error: 25550640.0000 - val_loss: 2419.4805 - val_mean_squared_error: 28109882.0000\n",
            "Epoch 180/200\n",
            "34/34 [==============================] - 0s 4ms/step - loss: 2397.8743 - mean_squared_error: 25350432.0000 - val_loss: 2415.8906 - val_mean_squared_error: 27473398.0000\n",
            "Epoch 181/200\n",
            "34/34 [==============================] - 0s 4ms/step - loss: 2428.9167 - mean_squared_error: 25551850.0000 - val_loss: 2392.1619 - val_mean_squared_error: 27575962.0000\n",
            "Epoch 182/200\n",
            "34/34 [==============================] - 0s 4ms/step - loss: 2410.9666 - mean_squared_error: 25483142.0000 - val_loss: 2391.2002 - val_mean_squared_error: 27718318.0000\n",
            "Epoch 183/200\n",
            "34/34 [==============================] - 0s 5ms/step - loss: 2392.9104 - mean_squared_error: 25447538.0000 - val_loss: 2413.8679 - val_mean_squared_error: 28065852.0000\n",
            "Epoch 184/200\n",
            "34/34 [==============================] - 0s 4ms/step - loss: 2392.1089 - mean_squared_error: 25306870.0000 - val_loss: 2400.7202 - val_mean_squared_error: 27907582.0000\n",
            "Epoch 185/200\n",
            "34/34 [==============================] - 0s 5ms/step - loss: 2393.9771 - mean_squared_error: 25478816.0000 - val_loss: 2390.7644 - val_mean_squared_error: 27442914.0000\n",
            "Epoch 186/200\n",
            "34/34 [==============================] - 0s 4ms/step - loss: 2389.9919 - mean_squared_error: 25325372.0000 - val_loss: 2407.5793 - val_mean_squared_error: 28070288.0000\n",
            "Epoch 187/200\n",
            "34/34 [==============================] - 0s 4ms/step - loss: 2383.1602 - mean_squared_error: 25301564.0000 - val_loss: 2415.8599 - val_mean_squared_error: 27334030.0000\n",
            "Epoch 188/200\n",
            "34/34 [==============================] - 0s 4ms/step - loss: 2398.4963 - mean_squared_error: 25238428.0000 - val_loss: 2485.9658 - val_mean_squared_error: 28876726.0000\n",
            "Epoch 189/200\n",
            "34/34 [==============================] - 0s 4ms/step - loss: 2426.7869 - mean_squared_error: 25555006.0000 - val_loss: 2382.3699 - val_mean_squared_error: 27223858.0000\n",
            "Epoch 190/200\n",
            "34/34 [==============================] - 0s 5ms/step - loss: 2397.1997 - mean_squared_error: 25293102.0000 - val_loss: 2389.3809 - val_mean_squared_error: 27627532.0000\n",
            "Epoch 191/200\n",
            "34/34 [==============================] - 0s 4ms/step - loss: 2399.6055 - mean_squared_error: 25310686.0000 - val_loss: 2385.0205 - val_mean_squared_error: 26960620.0000\n",
            "Epoch 192/200\n",
            "34/34 [==============================] - 0s 4ms/step - loss: 2407.0454 - mean_squared_error: 25411388.0000 - val_loss: 2415.9399 - val_mean_squared_error: 27647808.0000\n",
            "Epoch 193/200\n",
            "34/34 [==============================] - 0s 4ms/step - loss: 2449.2700 - mean_squared_error: 25642404.0000 - val_loss: 2406.6653 - val_mean_squared_error: 28038504.0000\n",
            "Epoch 194/200\n",
            "34/34 [==============================] - 0s 4ms/step - loss: 2401.4238 - mean_squared_error: 25540386.0000 - val_loss: 2383.2578 - val_mean_squared_error: 26887954.0000\n",
            "Epoch 195/200\n",
            "34/34 [==============================] - 0s 4ms/step - loss: 2400.5164 - mean_squared_error: 25403698.0000 - val_loss: 2391.1125 - val_mean_squared_error: 27911676.0000\n",
            "Epoch 196/200\n",
            "34/34 [==============================] - 0s 5ms/step - loss: 2386.3818 - mean_squared_error: 25252318.0000 - val_loss: 2384.5676 - val_mean_squared_error: 27604258.0000\n",
            "Epoch 197/200\n",
            "34/34 [==============================] - 0s 4ms/step - loss: 2409.0884 - mean_squared_error: 25482776.0000 - val_loss: 2472.9282 - val_mean_squared_error: 28968220.0000\n",
            "Epoch 198/200\n",
            "34/34 [==============================] - 0s 4ms/step - loss: 2422.0535 - mean_squared_error: 25889388.0000 - val_loss: 2409.9495 - val_mean_squared_error: 26845996.0000\n",
            "Epoch 199/200\n",
            "34/34 [==============================] - 0s 4ms/step - loss: 2413.2222 - mean_squared_error: 25320196.0000 - val_loss: 2374.1902 - val_mean_squared_error: 26934224.0000\n",
            "Epoch 200/200\n",
            "34/34 [==============================] - 0s 4ms/step - loss: 2385.1580 - mean_squared_error: 25138750.0000 - val_loss: 2409.6953 - val_mean_squared_error: 28036416.0000\n"
          ]
        },
        {
          "output_type": "execute_result",
          "data": {
            "text/plain": [
              "<keras.src.callbacks.History at 0x7af55d5d8df0>"
            ]
          },
          "metadata": {},
          "execution_count": 47
        }
      ]
    },
    {
      "cell_type": "code",
      "source": [
        "model.evaluate(xtest,ytest)"
      ],
      "metadata": {
        "colab": {
          "base_uri": "https://localhost:8080/"
        },
        "id": "tARZkw15HEMq",
        "outputId": "c505c9eb-bda1-4c79-e223-2db997ea0841"
      },
      "execution_count": 48,
      "outputs": [
        {
          "output_type": "stream",
          "name": "stdout",
          "text": [
            "9/9 [==============================] - 0s 2ms/step - loss: 2409.6953 - mean_squared_error: 28036416.0000\n"
          ]
        },
        {
          "output_type": "execute_result",
          "data": {
            "text/plain": [
              "[2409.6953125, 28036416.0]"
            ]
          },
          "metadata": {},
          "execution_count": 48
        }
      ]
    },
    {
      "cell_type": "code",
      "source": [
        "ytrain.mean()"
      ],
      "metadata": {
        "colab": {
          "base_uri": "https://localhost:8080/"
        },
        "id": "XXUSLHOySfnj",
        "outputId": "8c7b23ac-546e-4bc3-a227-9c55a1516cdd"
      },
      "execution_count": 49,
      "outputs": [
        {
          "output_type": "execute_result",
          "data": {
            "text/plain": [
              "13472.4193694757"
            ]
          },
          "metadata": {},
          "execution_count": 49
        }
      ]
    },
    {
      "cell_type": "code",
      "source": [
        "(2409/13472)*100"
      ],
      "metadata": {
        "colab": {
          "base_uri": "https://localhost:8080/"
        },
        "id": "IXttlpBxHJGJ",
        "outputId": "37692155-343a-469a-e5ff-dc884b1d56cf"
      },
      "execution_count": 57,
      "outputs": [
        {
          "output_type": "execute_result",
          "data": {
            "text/plain": [
              "17.881532066508314"
            ]
          },
          "metadata": {},
          "execution_count": 57
        }
      ]
    },
    {
      "cell_type": "code",
      "source": [
        "100-(2409/13472)*100"
      ],
      "metadata": {
        "colab": {
          "base_uri": "https://localhost:8080/"
        },
        "id": "bCIB6j2TGCdm",
        "outputId": "4cb29490-c9f2-4c22-8576-bc062718c76a"
      },
      "execution_count": 59,
      "outputs": [
        {
          "output_type": "execute_result",
          "data": {
            "text/plain": [
              "82.11846793349169"
            ]
          },
          "metadata": {},
          "execution_count": 59
        }
      ]
    },
    {
      "cell_type": "code",
      "source": [
        "tp={'model1':model1_score,'model2':model2_score,'model3':model3_score,'model4':model4_score,'model5':model5_score,'model_ann':82.7925}"
      ],
      "metadata": {
        "id": "g4_JINwLSnaj"
      },
      "execution_count": 60,
      "outputs": []
    },
    {
      "cell_type": "code",
      "source": [
        "pandas.DataFrame(tp,index=['score'])"
      ],
      "metadata": {
        "colab": {
          "base_uri": "https://localhost:8080/",
          "height": 81
        },
        "id": "bLBt0j7dTMDw",
        "outputId": "67083ead-24e1-4196-96e7-ff19fbb729bc"
      },
      "execution_count": 61,
      "outputs": [
        {
          "output_type": "execute_result",
          "data": {
            "text/plain": [
              "         model1    model2    model3    model4    model5  model_ann\n",
              "score  0.718549  0.719106  0.657159  0.764865  0.821674    82.7925"
            ],
            "text/html": [
              "\n",
              "  <div id=\"df-53de5b4a-372b-4a98-8f96-93984a943a59\" class=\"colab-df-container\">\n",
              "    <div>\n",
              "<style scoped>\n",
              "    .dataframe tbody tr th:only-of-type {\n",
              "        vertical-align: middle;\n",
              "    }\n",
              "\n",
              "    .dataframe tbody tr th {\n",
              "        vertical-align: top;\n",
              "    }\n",
              "\n",
              "    .dataframe thead th {\n",
              "        text-align: right;\n",
              "    }\n",
              "</style>\n",
              "<table border=\"1\" class=\"dataframe\">\n",
              "  <thead>\n",
              "    <tr style=\"text-align: right;\">\n",
              "      <th></th>\n",
              "      <th>model1</th>\n",
              "      <th>model2</th>\n",
              "      <th>model3</th>\n",
              "      <th>model4</th>\n",
              "      <th>model5</th>\n",
              "      <th>model_ann</th>\n",
              "    </tr>\n",
              "  </thead>\n",
              "  <tbody>\n",
              "    <tr>\n",
              "      <th>score</th>\n",
              "      <td>0.718549</td>\n",
              "      <td>0.719106</td>\n",
              "      <td>0.657159</td>\n",
              "      <td>0.764865</td>\n",
              "      <td>0.821674</td>\n",
              "      <td>82.7925</td>\n",
              "    </tr>\n",
              "  </tbody>\n",
              "</table>\n",
              "</div>\n",
              "    <div class=\"colab-df-buttons\">\n",
              "\n",
              "  <div class=\"colab-df-container\">\n",
              "    <button class=\"colab-df-convert\" onclick=\"convertToInteractive('df-53de5b4a-372b-4a98-8f96-93984a943a59')\"\n",
              "            title=\"Convert this dataframe to an interactive table.\"\n",
              "            style=\"display:none;\">\n",
              "\n",
              "  <svg xmlns=\"http://www.w3.org/2000/svg\" height=\"24px\" viewBox=\"0 -960 960 960\">\n",
              "    <path d=\"M120-120v-720h720v720H120Zm60-500h600v-160H180v160Zm220 220h160v-160H400v160Zm0 220h160v-160H400v160ZM180-400h160v-160H180v160Zm440 0h160v-160H620v160ZM180-180h160v-160H180v160Zm440 0h160v-160H620v160Z\"/>\n",
              "  </svg>\n",
              "    </button>\n",
              "\n",
              "  <style>\n",
              "    .colab-df-container {\n",
              "      display:flex;\n",
              "      gap: 12px;\n",
              "    }\n",
              "\n",
              "    .colab-df-convert {\n",
              "      background-color: #E8F0FE;\n",
              "      border: none;\n",
              "      border-radius: 50%;\n",
              "      cursor: pointer;\n",
              "      display: none;\n",
              "      fill: #1967D2;\n",
              "      height: 32px;\n",
              "      padding: 0 0 0 0;\n",
              "      width: 32px;\n",
              "    }\n",
              "\n",
              "    .colab-df-convert:hover {\n",
              "      background-color: #E2EBFA;\n",
              "      box-shadow: 0px 1px 2px rgba(60, 64, 67, 0.3), 0px 1px 3px 1px rgba(60, 64, 67, 0.15);\n",
              "      fill: #174EA6;\n",
              "    }\n",
              "\n",
              "    .colab-df-buttons div {\n",
              "      margin-bottom: 4px;\n",
              "    }\n",
              "\n",
              "    [theme=dark] .colab-df-convert {\n",
              "      background-color: #3B4455;\n",
              "      fill: #D2E3FC;\n",
              "    }\n",
              "\n",
              "    [theme=dark] .colab-df-convert:hover {\n",
              "      background-color: #434B5C;\n",
              "      box-shadow: 0px 1px 3px 1px rgba(0, 0, 0, 0.15);\n",
              "      filter: drop-shadow(0px 1px 2px rgba(0, 0, 0, 0.3));\n",
              "      fill: #FFFFFF;\n",
              "    }\n",
              "  </style>\n",
              "\n",
              "    <script>\n",
              "      const buttonEl =\n",
              "        document.querySelector('#df-53de5b4a-372b-4a98-8f96-93984a943a59 button.colab-df-convert');\n",
              "      buttonEl.style.display =\n",
              "        google.colab.kernel.accessAllowed ? 'block' : 'none';\n",
              "\n",
              "      async function convertToInteractive(key) {\n",
              "        const element = document.querySelector('#df-53de5b4a-372b-4a98-8f96-93984a943a59');\n",
              "        const dataTable =\n",
              "          await google.colab.kernel.invokeFunction('convertToInteractive',\n",
              "                                                    [key], {});\n",
              "        if (!dataTable) return;\n",
              "\n",
              "        const docLinkHtml = 'Like what you see? Visit the ' +\n",
              "          '<a target=\"_blank\" href=https://colab.research.google.com/notebooks/data_table.ipynb>data table notebook</a>'\n",
              "          + ' to learn more about interactive tables.';\n",
              "        element.innerHTML = '';\n",
              "        dataTable['output_type'] = 'display_data';\n",
              "        await google.colab.output.renderOutput(dataTable, element);\n",
              "        const docLink = document.createElement('div');\n",
              "        docLink.innerHTML = docLinkHtml;\n",
              "        element.appendChild(docLink);\n",
              "      }\n",
              "    </script>\n",
              "  </div>\n",
              "\n",
              "\n",
              "    </div>\n",
              "  </div>\n"
            ],
            "application/vnd.google.colaboratory.intrinsic+json": {
              "type": "dataframe",
              "summary": "{\n  \"name\": \"pandas\",\n  \"rows\": 1,\n  \"fields\": [\n    {\n      \"column\": \"model1\",\n      \"properties\": {\n        \"dtype\": \"number\",\n        \"std\": null,\n        \"min\": 0.7185493576492381,\n        \"max\": 0.7185493576492381,\n        \"num_unique_values\": 1,\n        \"samples\": [\n          0.7185493576492381\n        ],\n        \"semantic_type\": \"\",\n        \"description\": \"\"\n      }\n    },\n    {\n      \"column\": \"model2\",\n      \"properties\": {\n        \"dtype\": \"number\",\n        \"std\": null,\n        \"min\": 0.7191056010635297,\n        \"max\": 0.7191056010635297,\n        \"num_unique_values\": 1,\n        \"samples\": [\n          0.7191056010635297\n        ],\n        \"semantic_type\": \"\",\n        \"description\": \"\"\n      }\n    },\n    {\n      \"column\": \"model3\",\n      \"properties\": {\n        \"dtype\": \"number\",\n        \"std\": null,\n        \"min\": 0.6571593805481214,\n        \"max\": 0.6571593805481214,\n        \"num_unique_values\": 1,\n        \"samples\": [\n          0.6571593805481214\n        ],\n        \"semantic_type\": \"\",\n        \"description\": \"\"\n      }\n    },\n    {\n      \"column\": \"model4\",\n      \"properties\": {\n        \"dtype\": \"number\",\n        \"std\": null,\n        \"min\": 0.764864662302017,\n        \"max\": 0.764864662302017,\n        \"num_unique_values\": 1,\n        \"samples\": [\n          0.764864662302017\n        ],\n        \"semantic_type\": \"\",\n        \"description\": \"\"\n      }\n    },\n    {\n      \"column\": \"model5\",\n      \"properties\": {\n        \"dtype\": \"number\",\n        \"std\": null,\n        \"min\": 0.8216736549780632,\n        \"max\": 0.8216736549780632,\n        \"num_unique_values\": 1,\n        \"samples\": [\n          0.8216736549780632\n        ],\n        \"semantic_type\": \"\",\n        \"description\": \"\"\n      }\n    },\n    {\n      \"column\": \"model_ann\",\n      \"properties\": {\n        \"dtype\": \"number\",\n        \"std\": null,\n        \"min\": 82.7925,\n        \"max\": 82.7925,\n        \"num_unique_values\": 1,\n        \"samples\": [\n          82.7925\n        ],\n        \"semantic_type\": \"\",\n        \"description\": \"\"\n      }\n    }\n  ]\n}"
            }
          },
          "metadata": {},
          "execution_count": 61
        }
      ]
    },
    {
      "cell_type": "markdown",
      "source": [
        "**therefore ANN performs the best**"
      ],
      "metadata": {
        "id": "rFzaAH3zTwJf"
      }
    }
  ]
}